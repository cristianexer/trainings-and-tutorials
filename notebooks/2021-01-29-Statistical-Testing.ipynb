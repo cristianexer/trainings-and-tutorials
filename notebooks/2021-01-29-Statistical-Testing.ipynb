{
 "cells": [
  {
   "cell_type": "markdown",
   "metadata": {
    "id": "IdJPu75TQGo8"
   },
   "source": [
    "# Statistical Testing\n",
    "\n"
   ]
  },
  {
   "cell_type": "markdown",
   "metadata": {
    "id": "jx-wNwn-W2_M"
   },
   "source": [
    "![](https://cdn.scribbr.com/wp-content/uploads/2020/01/flowchart-for-choosing-a-statistical-test-993x1024.png)"
   ]
  },
  {
   "cell_type": "markdown",
   "metadata": {
    "id": "3rJC1jGoRo-v"
   },
   "source": [
    "**Aim:** Acquire knowledge and experience in the area of statistical testing\n",
    "\n",
    "**Objctives:**\n",
    "- Research and understand how and when to use core statisitcal testing methods\n",
    "- Ask and Answer questions that can be answered using one or more statistical tests on the dataset found"
   ]
  },
  {
   "cell_type": "markdown",
   "metadata": {
    "id": "IC3xatCUzktq"
   },
   "source": [
    "**Imports**"
   ]
  },
  {
   "cell_type": "code",
   "execution_count": null,
   "metadata": {
    "id": "npWImZxEzpNG"
   },
   "outputs": [],
   "source": [
    "import pandas as pd\n",
    "import numpy as np\n",
    "import seaborn as sns\n",
    "import matplotlib.pyplot as plt\n",
    "import scipy.stats as ss\n",
    "\n",
    "sns.set_style('whitegrid')\n",
    "plt.style.use('seaborn')"
   ]
  },
  {
   "cell_type": "markdown",
   "metadata": {
    "id": "Xutjwkq5dUuU"
   },
   "source": [
    "## About Statistical Testing"
   ]
  },
  {
   "cell_type": "markdown",
   "metadata": {
    "id": "p5v5Jii4d-i2"
   },
   "source": [
    "### Parametric vs Non-Parametric tests"
   ]
  },
  {
   "cell_type": "markdown",
   "metadata": {
    "id": "z3iVi5cjdZKx"
   },
   "source": [
    "\n",
    "***What is the difference between a parametric and a non-parametric test ?***\n",
    "\n",
    "<br/>\n",
    "\n",
    "**Parametric tests** assume underlying statistical distributions in the data, therefore, several conditions of validity must be met so that the result of a parametric test is reliable. \n",
    "\n",
    "<br/>\n",
    "\n",
    "**Non-parametric tests** do not rely on any distribution, thus can be applied even if parametric conditions of validity are not met. \n",
    "\n",
    "<br/>\n",
    "\n",
    "\n",
    "***What is the advantage of using a non-parametric test ?***\n",
    "\n",
    "Non-parametric tests are more robust than parametric tests. In other words, they are valid in a broader range of situations (fewer conditions of validity).  \n",
    "<br/>\n",
    "\n",
    "***What is the advantage of using a parametric test ?***\n",
    "\n",
    "The advantage of using a parametric test instead of a non-parametric equivalent is that the former will have more statistical power than the latter. \n",
    "\n",
    "In other words, a parametric test is more able to lead to a rejection of H0. Most of the time, the p-value associated to a parametric test will be lower than the p-value associated to a nonparametric equivalent that is run on the same data."
   ]
  },
  {
   "cell_type": "markdown",
   "metadata": {
    "id": "d19c25W-nDBK"
   },
   "source": [
    "![](https://www.researchgate.net/profile/Trisha_Greenhalgh/publication/13950781/figure/tbl1/AS:601648527331338@1520455595547/Some-commonly-used-statistical-tests.png)"
   ]
  },
  {
   "cell_type": "markdown",
   "metadata": {
    "id": "efS8-u_JobeJ"
   },
   "source": [
    "### T test"
   ]
  },
  {
   "cell_type": "markdown",
   "metadata": {
    "id": "nF3i2Hqcs3_r"
   },
   "source": [
    "![](https://www.gstatic.com/education/formulas2/-1/en/student_s_t_test.svg)\n",
    "\n",
    "$t$\t=\tStudent's t-test\n",
    "\n",
    "$m$\t=\tmean\n",
    "\n",
    "$\\mu$\t=\ttheoretical value\n",
    "\n",
    "$s$\t=\tstandard deviation\n",
    "\n",
    "${n}$\t=\tvariable set size"
   ]
  },
  {
   "cell_type": "markdown",
   "metadata": {
    "id": "Yr5QEH3FofRy"
   },
   "source": [
    "The Student’s t-Test is a statistical hypothesis test for testing whether two samples are expected to have been drawn from the same population.\n",
    "\n",
    "It is named for the pseudonym “Student” used by William Gosset, who developed the test.\n",
    "\n",
    "The test works by checking the means from two samples to see if they are significantly different from each other. It does this by calculating the standard error in the difference between means, which can be interpreted to see how likely the difference is, if the two samples have the same mean (the null hypothesis)."
   ]
  },
  {
   "cell_type": "markdown",
   "metadata": {
    "id": "YU6g4SOvCjNX"
   },
   "source": [
    "**Good To Know**\n",
    "- Works with small number of samples\n",
    "- If we compare 2 groups, they must have the same distribution\n"
   ]
  },
  {
   "cell_type": "markdown",
   "metadata": {
    "id": "74XxoY96xXmZ"
   },
   "source": [
    "```t = observed difference between sample means / standard error of the difference between the means```"
   ]
  },
  {
   "cell_type": "markdown",
   "metadata": {
    "id": "4s2x0DfviRUB"
   },
   "source": [
    "Let's look at this example, we make 2 series where we draw random values from the normal(Gaussian) distribution"
   ]
  },
  {
   "cell_type": "code",
   "execution_count": null,
   "metadata": {
    "colab": {
     "base_uri": "https://localhost:8080/",
     "height": 142
    },
    "id": "Pe19Q-4dzegj",
    "outputId": "8305a137-2336-47fb-f05e-5521b6cea247"
   },
   "outputs": [
    {
     "data": {
      "text/html": [
       "<div>\n",
       "<style scoped>\n",
       "    .dataframe tbody tr th:only-of-type {\n",
       "        vertical-align: middle;\n",
       "    }\n",
       "\n",
       "    .dataframe tbody tr th {\n",
       "        vertical-align: top;\n",
       "    }\n",
       "\n",
       "    .dataframe thead th {\n",
       "        text-align: right;\n",
       "    }\n",
       "</style>\n",
       "<table border=\"1\" class=\"dataframe\">\n",
       "  <thead>\n",
       "    <tr style=\"text-align: right;\">\n",
       "      <th></th>\n",
       "      <th>data1</th>\n",
       "      <th>data2</th>\n",
       "    </tr>\n",
       "  </thead>\n",
       "  <tbody>\n",
       "    <tr>\n",
       "      <th>0</th>\n",
       "      <td>-0.164235</td>\n",
       "      <td>0.489534</td>\n",
       "    </tr>\n",
       "    <tr>\n",
       "      <th>1</th>\n",
       "      <td>0.077709</td>\n",
       "      <td>-0.226522</td>\n",
       "    </tr>\n",
       "    <tr>\n",
       "      <th>2</th>\n",
       "      <td>-1.161500</td>\n",
       "      <td>0.277101</td>\n",
       "    </tr>\n",
       "  </tbody>\n",
       "</table>\n",
       "</div>"
      ],
      "text/plain": [
       "      data1     data2\n",
       "0 -0.164235  0.489534\n",
       "1  0.077709 -0.226522\n",
       "2 -1.161500  0.277101"
      ]
     },
     "execution_count": 159,
     "metadata": {
      "tags": []
     },
     "output_type": "execute_result"
    }
   ],
   "source": [
    "data = pd.DataFrame({\n",
    "    'data1': np.random.normal(size=10),\n",
    "    'data2': np.random.normal(size=10)\n",
    "})\n",
    "data[:3]"
   ]
  },
  {
   "cell_type": "markdown",
   "metadata": {
    "id": "ahDgo6BuiarL"
   },
   "source": [
    "We can see that some of the values from both series overlap, so we can look for to see if there is a relationship by luck\n",
    "\n",
    "Note: since this part is random next the you run the nb you might get different values"
   ]
  },
  {
   "cell_type": "code",
   "execution_count": null,
   "metadata": {
    "colab": {
     "base_uri": "https://localhost:8080/",
     "height": 211
    },
    "id": "UuVTLbo-BZi2",
    "outputId": "80593f75-1243-44d0-84f3-d10e7fbe37f0"
   },
   "outputs": [
    {
     "data": {
      "image/png": "[encoded data removed]",
      "text/plain": [
       "<Figure size 360x216 with 1 Axes>"
      ]
     },
     "metadata": {
      "tags": []
     },
     "output_type": "display_data"
    }
   ],
   "source": [
    "data.plot.hist(alpha=.8,figsize=(5,3));"
   ]
  },
  {
   "cell_type": "markdown",
   "metadata": {
    "id": "oHpeNxHQ-r4h"
   },
   "source": [
    "#### One Sample T test"
   ]
  },
  {
   "cell_type": "code",
   "execution_count": null,
   "metadata": {
    "colab": {
     "base_uri": "https://localhost:8080/",
     "height": 111
    },
    "id": "t--QFm9AFXKT",
    "outputId": "6d948ce1-39ea-4dd5-b172-879e67c94c88"
   },
   "outputs": [
    {
     "data": {
      "text/html": [
       "<div>\n",
       "<style scoped>\n",
       "    .dataframe tbody tr th:only-of-type {\n",
       "        vertical-align: middle;\n",
       "    }\n",
       "\n",
       "    .dataframe tbody tr th {\n",
       "        vertical-align: top;\n",
       "    }\n",
       "\n",
       "    .dataframe thead th {\n",
       "        text-align: right;\n",
       "    }\n",
       "</style>\n",
       "<table border=\"1\" class=\"dataframe\">\n",
       "  <thead>\n",
       "    <tr style=\"text-align: right;\">\n",
       "      <th></th>\n",
       "      <th>count</th>\n",
       "      <th>mean</th>\n",
       "      <th>std</th>\n",
       "      <th>min</th>\n",
       "      <th>25%</th>\n",
       "      <th>50%</th>\n",
       "      <th>75%</th>\n",
       "      <th>max</th>\n",
       "    </tr>\n",
       "  </thead>\n",
       "  <tbody>\n",
       "    <tr>\n",
       "      <th>data1</th>\n",
       "      <td>10.0</td>\n",
       "      <td>-0.564590</td>\n",
       "      <td>1.260859</td>\n",
       "      <td>-2.200233</td>\n",
       "      <td>-1.752491</td>\n",
       "      <td>-0.32348</td>\n",
       "      <td>0.065744</td>\n",
       "      <td>1.766438</td>\n",
       "    </tr>\n",
       "    <tr>\n",
       "      <th>data2</th>\n",
       "      <td>10.0</td>\n",
       "      <td>-0.035974</td>\n",
       "      <td>0.980542</td>\n",
       "      <td>-1.355678</td>\n",
       "      <td>-0.494399</td>\n",
       "      <td>-0.11048</td>\n",
       "      <td>0.210083</td>\n",
       "      <td>2.282740</td>\n",
       "    </tr>\n",
       "  </tbody>\n",
       "</table>\n",
       "</div>"
      ],
      "text/plain": [
       "       count      mean       std  ...      50%       75%       max\n",
       "data1   10.0 -0.564590  1.260859  ... -0.32348  0.065744  1.766438\n",
       "data2   10.0 -0.035974  0.980542  ... -0.11048  0.210083  2.282740\n",
       "\n",
       "[2 rows x 8 columns]"
      ]
     },
     "execution_count": 158,
     "metadata": {
      "tags": []
     },
     "output_type": "execute_result"
    }
   ],
   "source": [
    "data.describe().T"
   ]
  },
  {
   "cell_type": "markdown",
   "metadata": {
    "id": "Hve41YsBi1-y"
   },
   "source": [
    "This is a two-sided test for the null hypothesis that the expected value (mean) of a sample of independent observations a is equal to the given population mean."
   ]
  },
  {
   "cell_type": "code",
   "execution_count": null,
   "metadata": {
    "colab": {
     "base_uri": "https://localhost:8080/"
    },
    "id": "DGnEReEJ-u_w",
    "outputId": "3be71f63-ff34-4aa8-d8ef-b1cff9780547"
   },
   "outputs": [
    {
     "name": "stdout",
     "output_type": "stream",
     "text": [
      "Statistic: -5.1780647040905325\n",
      "P-Value: 0.0006\n",
      "Statistically significant / We can trust the statistic\n",
      "Reject H0: the population mean is equal to a mean of 1.5\n"
     ]
    }
   ],
   "source": [
    "H0 = 'the population mean is equal to a mean of {}'\n",
    "a = 0.05\n",
    "\n",
    "hypothesized_population_mean = 1.5\n",
    "\n",
    "stat, p = ss.ttest_1samp(data['data1'],hypothesized_population_mean)\n",
    "print(f'Statistic: {stat}\\nP-Value: {p:.4f}')\n",
    "if p <= a:\n",
    "    print('Statistically significant / We can trust the statistic')\n",
    "    print(f'Reject H0: {H0.format(hypothesized_population_mean)}')\n",
    "else:\n",
    "    print('Statistically not significant / We cannot trust the statistic')\n",
    "    print(f'Accept H0: {H0.format(hypothesized_population_mean)}')"
   ]
  },
  {
   "cell_type": "markdown",
   "metadata": {
    "id": "KXhrRTYLqDNF"
   },
   "source": [
    "#### Unpaired T test"
   ]
  },
  {
   "cell_type": "markdown",
   "metadata": {
    "id": "fFMSoaie8CcN"
   },
   "source": [
    "An unpaired t-test (also known as an independent t-test) is a statistical procedure that compares the averages/means of two independent or unrelated groups to determine if there is a significant difference between the two"
   ]
  },
  {
   "cell_type": "code",
   "execution_count": null,
   "metadata": {
    "colab": {
     "base_uri": "https://localhost:8080/"
    },
    "id": "9HmasszF1dH1",
    "outputId": "4859eb5c-7691-4f1d-d9ba-d42fe678493e"
   },
   "outputs": [
    {
     "name": "stdout",
     "output_type": "stream",
     "text": [
      "Statistic: -1.0465644559040281\n",
      "P-Value: 0.309\n",
      "Statistically not significant / We cannot trust the statistic\n",
      "Accept H0: the means of both populations are equal\n"
     ]
    }
   ],
   "source": [
    "H0 = 'the means of both populations are equal'\n",
    "a = 0.05\n",
    "\n",
    "stat, p = ss.ttest_ind(data['data1'],data['data2'])\n",
    "print(f'Statistic: {stat}\\nP-Value: {p:.3f}')\n",
    "if p <= a:\n",
    "    print('Statistically significant / We can trust the statistic')\n",
    "    print(f'Reject H0: {H0}')\n",
    "else:\n",
    "    print('Statistically not significant / We cannot trust the statistic')\n",
    "    print(f'Accept H0: {H0}')\n"
   ]
  },
  {
   "cell_type": "markdown",
   "metadata": {
    "id": "2h4uxAwPqAV7"
   },
   "source": [
    "#### Paired T test"
   ]
  },
  {
   "cell_type": "markdown",
   "metadata": {
    "id": "FbNkL7Wk7yiV"
   },
   "source": [
    "The paired sample t-test, sometimes called the dependent sample t-test, is a statistical procedure used to determine whether the mean difference between two sets of observations is zero. In a paired sample t-test, each subject or entity is measured twice, resulting in pairs of observations."
   ]
  },
  {
   "cell_type": "code",
   "execution_count": null,
   "metadata": {
    "colab": {
     "base_uri": "https://localhost:8080/"
    },
    "id": "xCjLZ24F7g0t",
    "outputId": "e49c18fb-bb42-4487-fc1a-7168f002d7da"
   },
   "outputs": [
    {
     "name": "stdout",
     "output_type": "stream",
     "text": [
      "Statistic: -1.0430434002617406\n",
      "P-Value: 0.324\n",
      "Statistically not significant / We cannot trust the statistic\n",
      "Accept H0: means difference between two sample is 0\n"
     ]
    }
   ],
   "source": [
    "H0 = 'means difference between two sample is 0'\n",
    "a = 0.05\n",
    "\n",
    "stat, p = ss.ttest_rel(data['data1'],data['data2'])\n",
    "print(f'Statistic: {stat}\\nP-Value: {p:.3f}')\n",
    "if p <= a:\n",
    "    print('Statistically significant / We can trust the statistic')\n",
    "    print(f'Reject H0: {H0}')\n",
    "else:\n",
    "    print('Statistically not significant / We cannot trust the statistic')\n",
    "    print(f'Accept H0: {H0}')\n"
   ]
  },
  {
   "cell_type": "markdown",
   "metadata": {
    "id": "3R9XgldloYOX"
   },
   "source": [
    "### ANOVA test"
   ]
  },
  {
   "cell_type": "markdown",
   "metadata": {
    "id": "RBK__lq-oadz"
   },
   "source": [
    "ANOVA determines whether the groups created by the levels of the independent variable are statistically different by calculating whether the means of the treatment levels are different from the overall mean of the dependent variable.\n",
    "\n",
    "The null hypothesis (H0) of ANOVA is that there is no difference among group means. \n",
    "\n",
    "The alternate hypothesis (Ha) is that at least one group differs significantly from the overall mean of the dependent variable.\n",
    "\n",
    "The assumptions of the ANOVA test are the same as the general assumptions for any parametric test:\n",
    "\n",
    "- Independence of observations: the data were collected using statistically-valid methods, and there are no hidden relationships among observations. If your data fail to meet this assumption because you have a confounding variable that you need to control for statistically, use an ANOVA with blocking variables.\n",
    "- Normally-distributed response variable: The values of the dependent variable follow a normal distribution.\n",
    "- Homogeneity of variance: The variation within each group being compared is similar for every group. If the variances are different among the groups, then ANOVA probably isn’t the right fit for the data."
   ]
  },
  {
   "cell_type": "code",
   "execution_count": null,
   "metadata": {
    "colab": {
     "base_uri": "https://localhost:8080/"
    },
    "id": "eOP2Gx8hKikK",
    "outputId": "6184b4eb-ac74-4dec-fb1d-ff203234d425"
   },
   "outputs": [
    {
     "data": {
      "text/plain": [
       "data1   -0.564590\n",
       "data2   -0.035974\n",
       "dtype: float64"
      ]
     },
     "execution_count": 161,
     "metadata": {
      "tags": []
     },
     "output_type": "execute_result"
    }
   ],
   "source": [
    "data.mean()"
   ]
  },
  {
   "cell_type": "code",
   "execution_count": null,
   "metadata": {
    "colab": {
     "base_uri": "https://localhost:8080/"
    },
    "id": "xw9xmEyKJQQc",
    "outputId": "d67a0e2c-da34-40c2-b1c9-e5b9ed8af769"
   },
   "outputs": [
    {
     "name": "stdout",
     "output_type": "stream",
     "text": [
      "Statistic: 1.0952971603616946\n",
      "P-Value: 0.309\n",
      "Statistically not significant / We cannot trust the statistic\n",
      "Accept H0:  two or more groups have the same population mean\n"
     ]
    }
   ],
   "source": [
    "H0 = 'two or more groups have the same population mean'\n",
    "a = 0.05\n",
    "\n",
    "stat, p = ss.f_oneway(data['data1'],data['data2'])\n",
    "print(f'Statistic: {stat}\\nP-Value: {p:.3f}')\n",
    "if p <= a:\n",
    "    print('Statistically significant / We can trust the statistic')\n",
    "    print(f'Reject H0: {H0}')\n",
    "else:\n",
    "    print('Statistically not significant / We cannot trust the statistic')\n",
    "    print(f'Accept H0: {H0}')\n"
   ]
  },
  {
   "cell_type": "markdown",
   "metadata": {
    "id": "8MUt4xlYIzqU"
   },
   "source": [
    "### Linear Regression"
   ]
  },
  {
   "cell_type": "markdown",
   "metadata": {
    "id": "uh6RYV1yI19u"
   },
   "source": [
    "It is used when we want to predict the value of a variable based on the value of another variable. The variable we want to predict is called the dependent variable (or sometimes, the outcome variable). The variable we are using to predict the other variable's value is called the independent variable (or sometimes, the predictor variable). \n",
    "\n",
    "The p-value for each term tests the null hypothesis that the coefficient is equal to zero (no effect). A low p-value (< 0.05) indicates that you can reject the null hypothesis. In other words, a predictor that has a low p-value is likely to be a meaningful addition to your model because changes in the predictor's value are related to changes in the response variable.\n",
    "\n",
    "Conversely, a larger (insignificant) p-value suggests that changes in the predictor are not associated with changes in the response.\n",
    "\n",
    "Regression coefficients represent the mean change in the response variable for one unit of change in the predictor variable while holding other predictors in the model constant. This statistical control that regression provides is important because it isolates the role of one variable from all of the others in the model.\n",
    "\n",
    "The key to understanding the coefficients is to think of them as slopes, and they’re often called slope coefficients. "
   ]
  },
  {
   "cell_type": "code",
   "execution_count": null,
   "metadata": {
    "colab": {
     "base_uri": "https://localhost:8080/",
     "height": 204
    },
    "id": "33-FJsAie06b",
    "outputId": "ef77d4b2-3c55-4356-c90b-e8e9efe25f5c"
   },
   "outputs": [
    {
     "data": {
      "text/html": [
       "<div>\n",
       "<style scoped>\n",
       "    .dataframe tbody tr th:only-of-type {\n",
       "        vertical-align: middle;\n",
       "    }\n",
       "\n",
       "    .dataframe tbody tr th {\n",
       "        vertical-align: top;\n",
       "    }\n",
       "\n",
       "    .dataframe thead th {\n",
       "        text-align: right;\n",
       "    }\n",
       "</style>\n",
       "<table border=\"1\" class=\"dataframe\">\n",
       "  <thead>\n",
       "    <tr style=\"text-align: right;\">\n",
       "      <th></th>\n",
       "      <th>data1</th>\n",
       "      <th>data2</th>\n",
       "    </tr>\n",
       "  </thead>\n",
       "  <tbody>\n",
       "    <tr>\n",
       "      <th>0</th>\n",
       "      <td>21.403142</td>\n",
       "      <td>25.403142</td>\n",
       "    </tr>\n",
       "    <tr>\n",
       "      <th>1</th>\n",
       "      <td>31.252916</td>\n",
       "      <td>35.252916</td>\n",
       "    </tr>\n",
       "    <tr>\n",
       "      <th>2</th>\n",
       "      <td>22.933164</td>\n",
       "      <td>42.933164</td>\n",
       "    </tr>\n",
       "    <tr>\n",
       "      <th>3</th>\n",
       "      <td>20.455040</td>\n",
       "      <td>30.455040</td>\n",
       "    </tr>\n",
       "    <tr>\n",
       "      <th>4</th>\n",
       "      <td>25.948037</td>\n",
       "      <td>28.948037</td>\n",
       "    </tr>\n",
       "  </tbody>\n",
       "</table>\n",
       "</div>"
      ],
      "text/plain": [
       "       data1      data2\n",
       "0  21.403142  25.403142\n",
       "1  31.252916  35.252916\n",
       "2  22.933164  42.933164\n",
       "3  20.455040  30.455040\n",
       "4  25.948037  28.948037"
      ]
     },
     "execution_count": 230,
     "metadata": {
      "tags": []
     },
     "output_type": "execute_result"
    }
   ],
   "source": [
    "reg_data = pd.DataFrame({\n",
    "    'data1': np.random.gamma(25,size=20)\n",
    "})\n",
    "\n",
    "reg_data['data2'] = reg_data['data1'].apply(lambda x: x + np.random.randint(1,25))\n",
    "reg_data[:5]"
   ]
  },
  {
   "cell_type": "code",
   "execution_count": null,
   "metadata": {
    "colab": {
     "base_uri": "https://localhost:8080/",
     "height": 361
    },
    "id": "FLvIyZknbkSF",
    "outputId": "6550bded-5d76-4140-a4a0-3d14f48fb624"
   },
   "outputs": [
    {
     "data": {
      "image/png": "[encoded data removed]",
      "text/plain": [
       "<Figure size 576x396 with 1 Axes>"
      ]
     },
     "metadata": {
      "tags": []
     },
     "output_type": "display_data"
    }
   ],
   "source": [
    "sns.regplot(x=reg_data['data1'],y=reg_data['data2']);"
   ]
  },
  {
   "cell_type": "code",
   "execution_count": null,
   "metadata": {
    "colab": {
     "base_uri": "https://localhost:8080/"
    },
    "id": "vGlRgbXaNGDk",
    "outputId": "29e637c6-4978-487f-8740-de3b1ed492fe"
   },
   "outputs": [
    {
     "name": "stdout",
     "output_type": "stream",
     "text": [
      "Slope: 1.3536514855760986\n",
      "Intercept: 2.1239248669953383\n",
      "P-Value: 0.0007791282263931652\n",
      "r: 0.6890350363826457\n",
      "se: 0.33558640994910627\n",
      "Statistically significant / We can trust the statistic\n",
      "Reject H0: changes in the predictor are not associated with changes in the response\n"
     ]
    }
   ],
   "source": [
    "slope, intercept, r, p, se = ss.linregress(reg_data['data1'], reg_data['data2'])\n",
    "\n",
    "print(f'Slope: {slope}\\nIntercept: {intercept}\\nP-Value: {p}\\nr: {r}\\nse: {se}')\n",
    "\n",
    "H0 = 'changes in the predictor are not associated with changes in the response'\n",
    "a = 0.05\n",
    "if p <= a:\n",
    "    print('Statistically significant / We can trust the statistic')\n",
    "    print(f'Reject H0: {H0}')\n",
    "else:\n",
    "    print('Statistically not significant / We cannot trust the statistic')\n",
    "    print(f'Accept H0: {H0}')"
   ]
  },
  {
   "cell_type": "markdown",
   "metadata": {
    "id": "uLKuNXIKpCfF"
   },
   "source": [
    "### Pearson correlation"
   ]
  },
  {
   "cell_type": "markdown",
   "metadata": {
    "id": "FVYPeH5kpF9R"
   },
   "source": [
    "The Pearson correlation coefficient measures the linear relationship between two datasets. Strictly speaking, Pearson’s correlation requires that each dataset be normally distributed. Like other correlation coefficients, this one varies between -1 and +1 with 0 implying no correlation. \n",
    "\n",
    "Correlations of -1 or +1 imply an exact linear relationship. \n",
    "\n",
    "**Positive correlations imply that as x increases, so does y.** \n",
    "\n",
    "**Negative correlations imply that as x increases, y decreases.**\n",
    "\n",
    "The p-value roughly indicates the probability of an uncorrelated system producing datasets that have a Pearson correlation at least as extreme as the one computed from these datasets. The p-values are not entirely reliable but are probably reasonable for datasets larger than 500 or so."
   ]
  },
  {
   "cell_type": "code",
   "execution_count": null,
   "metadata": {
    "colab": {
     "base_uri": "https://localhost:8080/"
    },
    "id": "8zPxFjHiWRzT",
    "outputId": "8970413c-541e-4bf2-b3ca-fc559b8b81d5"
   },
   "outputs": [
    {
     "name": "stdout",
     "output_type": "stream",
     "text": [
      "Statistic: -0.0069778154571835905\n",
      "P-Value: 0.985\n",
      "Statistically not significant / We cannot trust the statistic\n",
      "Accept H0: the two variables are uncorrelated\n"
     ]
    }
   ],
   "source": [
    "H0 = 'the two variables are uncorrelated'\n",
    "a = 0.05\n",
    "\n",
    "stat, p = ss.pearsonr(data['data1'],data['data2'])\n",
    "print(f'Statistic: {stat}\\nP-Value: {p:.3f}')\n",
    "if p <= a:\n",
    "    print('Statistically significant / We can trust the statistic')\n",
    "    print(f'Reject H0: {H0}')\n",
    "else:\n",
    "    print('Statistically not significant / We cannot trust the statistic')\n",
    "    print(f'Accept H0: {H0}')"
   ]
  },
  {
   "cell_type": "markdown",
   "metadata": {
    "id": "j46D7w6VoTol"
   },
   "source": [
    "### Chi-Square Test"
   ]
  },
  {
   "cell_type": "markdown",
   "metadata": {
    "id": "Mb-Fm1bLoW74"
   },
   "source": [
    "There are two types of chi-square tests. Both use the chi-square statistic and distribution for different purposes:\n",
    "\n",
    "- A chi-square goodness of fit test determines if sample data matches a population\n",
    "\n",
    "- A chi-square test for independence compares two variables in a contingency table to see if they are related. In a more general sense, it tests to see whether distributions of categorical variables differ from each another.\n",
    "    - A very small chi square test statistic means that your observed data fits your expected data extremely well. In other words, there is a relationship.\n",
    "    - A very large chi square test statistic means that the data does not fit very well. In other words, there isn’t a relationship."
   ]
  },
  {
   "cell_type": "code",
   "execution_count": null,
   "metadata": {
    "colab": {
     "base_uri": "https://localhost:8080/",
     "height": 142
    },
    "id": "oESzh6IWYePK",
    "outputId": "90a90083-233d-4ddb-92a5-f1607c3aa5d8"
   },
   "outputs": [
    {
     "data": {
      "text/html": [
       "<div>\n",
       "<style scoped>\n",
       "    .dataframe tbody tr th:only-of-type {\n",
       "        vertical-align: middle;\n",
       "    }\n",
       "\n",
       "    .dataframe tbody tr th {\n",
       "        vertical-align: top;\n",
       "    }\n",
       "\n",
       "    .dataframe thead th {\n",
       "        text-align: right;\n",
       "    }\n",
       "</style>\n",
       "<table border=\"1\" class=\"dataframe\">\n",
       "  <thead>\n",
       "    <tr style=\"text-align: right;\">\n",
       "      <th></th>\n",
       "      <th>dog</th>\n",
       "      <th>cat</th>\n",
       "      <th>horse</th>\n",
       "      <th>dragon</th>\n",
       "      <th>unicorn</th>\n",
       "    </tr>\n",
       "  </thead>\n",
       "  <tbody>\n",
       "    <tr>\n",
       "      <th>village1</th>\n",
       "      <td>24</td>\n",
       "      <td>22</td>\n",
       "      <td>21</td>\n",
       "      <td>14</td>\n",
       "      <td>8</td>\n",
       "    </tr>\n",
       "    <tr>\n",
       "      <th>village2</th>\n",
       "      <td>17</td>\n",
       "      <td>14</td>\n",
       "      <td>10</td>\n",
       "      <td>22</td>\n",
       "      <td>5</td>\n",
       "    </tr>\n",
       "    <tr>\n",
       "      <th>village3</th>\n",
       "      <td>14</td>\n",
       "      <td>10</td>\n",
       "      <td>15</td>\n",
       "      <td>10</td>\n",
       "      <td>13</td>\n",
       "    </tr>\n",
       "  </tbody>\n",
       "</table>\n",
       "</div>"
      ],
      "text/plain": [
       "          dog  cat  horse  dragon  unicorn\n",
       "village1   24   22     21      14        8\n",
       "village2   17   14     10      22        5\n",
       "village3   14   10     15      10       13"
      ]
     },
     "execution_count": 172,
     "metadata": {
      "tags": []
     },
     "output_type": "execute_result"
    }
   ],
   "source": [
    "animals = ['dog','cat','horse','dragon','unicorn']\n",
    "\n",
    "chi_data = pd.DataFrame({x:[np.random.randint(5,25) for _ in range(3)] for x in animals},index=['village1','village2','village3'])\n",
    "chi_data"
   ]
  },
  {
   "cell_type": "markdown",
   "metadata": {
    "id": "1C0oiYDcZ2fW"
   },
   "source": [
    "If our calculated value of chi-square is less or equal to the tabular(also called critical) value of chi-square, then H0 holds true."
   ]
  },
  {
   "cell_type": "code",
   "execution_count": null,
   "metadata": {
    "colab": {
     "base_uri": "https://localhost:8080/"
    },
    "id": "EhPzSGJjXP5e",
    "outputId": "dacf916d-8f63-4e66-ccbf-49a09916440f"
   },
   "outputs": [
    {
     "name": "stdout",
     "output_type": "stream",
     "text": [
      "Statistic: 2.8727272727272726\n",
      "P-Value: 0.238\n",
      "Statistically not significant / We cannot trust the statistic\n",
      "Accept H0: no relation between the variables\n"
     ]
    }
   ],
   "source": [
    "H0 = 'no relation between the variables'\n",
    "a = 0.05\n",
    "\n",
    "stat, p = ss.chisquare(chi_data['dog'])\n",
    "print(f'Statistic: {stat}\\nP-Value: {p:.3f}')\n",
    "if p <= a:\n",
    "    print('Statistically significant / We can trust the statistic')\n",
    "    print(f'Reject H0: {H0}')\n",
    "else:\n",
    "    print('Statistically not significant / We cannot trust the statistic')\n",
    "    print(f'Accept H0: {H0}')"
   ]
  },
  {
   "cell_type": "code",
   "execution_count": null,
   "metadata": {
    "colab": {
     "base_uri": "https://localhost:8080/"
    },
    "id": "bO5CrCdiaHky",
    "outputId": "07832612-d596-43d6-f1c0-6432a676175f"
   },
   "outputs": [
    {
     "name": "stdout",
     "output_type": "stream",
     "text": [
      "Statistic: 15.604347636638956\n",
      "P-Value: 0.048\n",
      "DOF: 8\n",
      "Statistically significant / We can trust the statistic\n",
      "Reject H0: no relation between the variables\n"
     ]
    }
   ],
   "source": [
    "H0 = 'no relation between the variables'\n",
    "a = 0.05\n",
    "\n",
    "stat, p, dof, expected = ss.chi2_contingency(chi_data.values)\n",
    "print(f'Statistic: {stat}\\nP-Value: {p:.3f}\\nDOF: {dof}')\n",
    "if p <= a:\n",
    "    print('Statistically significant / We can trust the statistic')\n",
    "    print(f'Reject H0: {H0}')\n",
    "else:\n",
    "    print('Statistically not significant / We cannot trust the statistic')\n",
    "    print(f'Accept H0: {H0}')"
   ]
  },
  {
   "cell_type": "markdown",
   "metadata": {
    "id": "dVFbcGn8oyMH"
   },
   "source": [
    "### Fischer's test"
   ]
  },
  {
   "cell_type": "markdown",
   "metadata": {
    "id": "dnbHscqto0IO"
   },
   "source": [
    "Use the Fisher's exact test of independence when you have two nominal variables and you want to see whether the proportions of one variable are different depending on the value of the other variable. Use it when the sample size is small.\n",
    "\n",
    "The null hypothesis is that the relative proportions of one variable are independent of the second variable; in other words, the proportions at one variable are the same for different values of the second variable"
   ]
  },
  {
   "cell_type": "code",
   "execution_count": null,
   "metadata": {
    "colab": {
     "base_uri": "https://localhost:8080/",
     "height": 111
    },
    "id": "0dgLzDLvcuKr",
    "outputId": "ffad7ed3-99ed-4939-c0ec-de55c1237a96"
   },
   "outputs": [
    {
     "data": {
      "text/html": [
       "<div>\n",
       "<style scoped>\n",
       "    .dataframe tbody tr th:only-of-type {\n",
       "        vertical-align: middle;\n",
       "    }\n",
       "\n",
       "    .dataframe tbody tr th {\n",
       "        vertical-align: top;\n",
       "    }\n",
       "\n",
       "    .dataframe thead th {\n",
       "        text-align: right;\n",
       "    }\n",
       "</style>\n",
       "<table border=\"1\" class=\"dataframe\">\n",
       "  <thead>\n",
       "    <tr style=\"text-align: right;\">\n",
       "      <th></th>\n",
       "      <th>village2</th>\n",
       "      <th>village3</th>\n",
       "    </tr>\n",
       "  </thead>\n",
       "  <tbody>\n",
       "    <tr>\n",
       "      <th>dragon</th>\n",
       "      <td>22</td>\n",
       "      <td>10</td>\n",
       "    </tr>\n",
       "    <tr>\n",
       "      <th>unicorn</th>\n",
       "      <td>5</td>\n",
       "      <td>13</td>\n",
       "    </tr>\n",
       "  </tbody>\n",
       "</table>\n",
       "</div>"
      ],
      "text/plain": [
       "         village2  village3\n",
       "dragon         22        10\n",
       "unicorn         5        13"
      ]
     },
     "execution_count": 196,
     "metadata": {
      "tags": []
     },
     "output_type": "execute_result"
    }
   ],
   "source": [
    "fisher_data = chi_data[1:].T[3:]\n",
    "fisher_data"
   ]
  },
  {
   "cell_type": "code",
   "execution_count": null,
   "metadata": {
    "colab": {
     "base_uri": "https://localhost:8080/"
    },
    "id": "zYUwLKQach-b",
    "outputId": "59eefa4d-1790-4862-ab8b-357a86b6ccd5"
   },
   "outputs": [
    {
     "name": "stdout",
     "output_type": "stream",
     "text": [
      "Odds Ratio: 5.72\n",
      "P-Value: 0.048\n",
      "Statistically significant / We can trust the statistic\n",
      "Reject H0: the two groups are independet\n"
     ]
    }
   ],
   "source": [
    "H0 = 'the two groups are independet'\n",
    "a = 0.05\n",
    "\n",
    "oddsratio, expected = ss.fisher_exact(fisher_data)\n",
    "print(f'Odds Ratio: {oddsratio}\\nP-Value: {p:.3f}')\n",
    "if p <= a:\n",
    "    print('Statistically significant / We can trust the statistic')\n",
    "    print(f'Reject H0: {H0}')\n",
    "else:\n",
    "    print('Statistically not significant / We cannot trust the statistic')\n",
    "    print(f'Accept H0: {H0}')"
   ]
  },
  {
   "cell_type": "markdown",
   "metadata": {
    "id": "Hukn4fEHo9kB"
   },
   "source": [
    "### Spearman's rank correlation"
   ]
  },
  {
   "cell_type": "markdown",
   "metadata": {
    "id": "B9JwVIyOpCBA"
   },
   "source": [
    "The Spearman rank-order correlation coefficient is a nonparametric measure of the monotonicity of the relationship between two datasets. Unlike the Pearson correlation, the Spearman correlation does not assume that both datasets are normally distributed. \n",
    "\n",
    "Like other correlation coefficients, this one varies between -1 and +1 with 0 implying no correlation. \n",
    "\n",
    "Correlations of -1 or +1 imply an exact monotonic relationship. \n",
    "\n",
    "**Positive correlations imply that as x increases, so does y.**\n",
    "\n",
    "**Negative correlations imply that as x increases, y decreases.**\n",
    "\n",
    "The p-value roughly indicates the probability of an uncorrelated system producing datasets that have a Spearman correlation at least as extreme as the one computed from these datasets. "
   ]
  },
  {
   "cell_type": "code",
   "execution_count": null,
   "metadata": {
    "colab": {
     "base_uri": "https://localhost:8080/"
    },
    "id": "Acrv9sRwimA7",
    "outputId": "d93d7b6d-2ced-41dd-9aed-13e6e3bf0232"
   },
   "outputs": [
    {
     "name": "stdout",
     "output_type": "stream",
     "text": [
      "Statistic: -0.05454545454545454\n",
      "P-Value: 0.881\n",
      "Statistically not significant / We cannot trust the statistic\n",
      "Accept H0: the two variables are uncorrelated\n"
     ]
    }
   ],
   "source": [
    "H0 = 'the two variables are uncorrelated'\n",
    "a = 0.05\n",
    "\n",
    "stat, p = ss.spearmanr(data['data1'],data['data2'])\n",
    "print(f'Statistic: {stat}\\nP-Value: {p:.3f}')\n",
    "if p <= a:\n",
    "    print('Statistically significant / We can trust the statistic')\n",
    "    print(f'Reject H0: {H0}')\n",
    "else:\n",
    "    print('Statistically not significant / We cannot trust the statistic')\n",
    "    print(f'Accept H0: {H0}')\n"
   ]
  },
  {
   "cell_type": "markdown",
   "metadata": {
    "id": "NuDISXs8gEXQ"
   },
   "source": [
    "### References\n"
   ]
  },
  {
   "cell_type": "markdown",
   "metadata": {
    "id": "X2uKiRSrqZYO"
   },
   "source": [
    "- [Parametric and Non-Parametric tests](http://www.stats.ox.ac.uk/~winkel/stat2l5+1up.pdf)\n",
    "- [Choosing Between a Nonparametric Test and a Parametric Test](https://blog.minitab.com/blog/adventures-in-statistics-2/choosing-between-a-nonparametric-test-and-a-parametric-test)\n",
    "- [Parametric Non-parametric tests](https://www.healthknowledge.org.uk/public-health-textbook/research-methods/1b-statistical-methods/parametric-nonparametric-tests)\n",
    "- [Test Statistics](https://www.scribbr.com/statistics/test-statistic/)\n",
    "- [Choosing the Right Statistical Test](https://www.scribbr.com/statistics/statistical-tests/)\n",
    "- [In Depth Linear Regression](https://jakevdp.github.io/PythonDataScienceHandbook/05.06-linear-regression.html)\n",
    "- [Fisher's exact test](https://www.sheffield.ac.uk/polopoly_fs/1.43998!/file/tutorial-9-fishers.pdf)"
   ]
  },
  {
   "cell_type": "markdown",
   "metadata": {
    "id": "XpIxML6iom1B"
   },
   "source": [
    "## Applying Statistical Tests"
   ]
  },
  {
   "cell_type": "markdown",
   "metadata": {
    "id": "fNlKoHYYUIfx"
   },
   "source": [
    "### About Data\n"
   ]
  },
  {
   "cell_type": "markdown",
   "metadata": {
    "id": "woucYMna1Rdp"
   },
   "source": [
    "[Dataset & Data Dictionary](https://www.kaggle.com/goldenoakresearch/us-acs-mortgage-equity-loans-rent-statistics)\n",
    "\n",
    "**Statistical Themes:**\n",
    "\n",
    "Note: in total there are 75 fields the following are just themes the fields fall under\n",
    "\n",
    "- **Home Owner Costs:** Sum of utilities, property taxes.\n",
    "- **Second Mortgage:** Households with a second mortgage statistics.\n",
    "- **Home Equity Loan:** Households with a Home equity Loan statistics.\n",
    "- **Debt:** Households with any type of debt statistics.\n",
    "- **Mortgage Costs:** Statistics regarding mortgage payments, home equity loans, utilities and property taxes\n",
    "- **Home Owner Costs:** Sum of utilities, property taxes statistics\n",
    "- **Gross Rent:** Contract rent plus the estimated average monthly cost of utility features\n",
    "- **Gross Rent as Percentof Income Gross rent:** as the percent of income very interesting\n",
    "- **High school Graduation:** High school graduation statistics.\n",
    "- **Population Demographics:** Population demographic statistics.\n",
    "- **Age Demographics:** Age demographic statistics.\n",
    "- **Household Income:** Total income of people residing in the household.\n",
    "- **Family Income:** Total income of people related to the householder."
   ]
  },
  {
   "cell_type": "code",
   "execution_count": null,
   "metadata": {
    "colab": {
     "base_uri": "https://localhost:8080/",
     "height": 196
    },
    "id": "e64KmMQ5PyZQ",
    "outputId": "97b01266-5a52-4119-9379-5a06cf398897"
   },
   "outputs": [
    {
     "data": {
      "text/html": [
       "<div>\n",
       "<style scoped>\n",
       "    .dataframe tbody tr th:only-of-type {\n",
       "        vertical-align: middle;\n",
       "    }\n",
       "\n",
       "    .dataframe tbody tr th {\n",
       "        vertical-align: top;\n",
       "    }\n",
       "\n",
       "    .dataframe thead th {\n",
       "        text-align: right;\n",
       "    }\n",
       "</style>\n",
       "<table border=\"1\" class=\"dataframe\">\n",
       "  <thead>\n",
       "    <tr style=\"text-align: right;\">\n",
       "      <th></th>\n",
       "      <th>UID</th>\n",
       "      <th>BLOCKID</th>\n",
       "      <th>SUMLEVEL</th>\n",
       "      <th>COUNTYID</th>\n",
       "      <th>STATEID</th>\n",
       "      <th>state</th>\n",
       "      <th>state_ab</th>\n",
       "      <th>city</th>\n",
       "      <th>place</th>\n",
       "      <th>type</th>\n",
       "      <th>primary</th>\n",
       "      <th>zip_code</th>\n",
       "      <th>area_code</th>\n",
       "      <th>lat</th>\n",
       "      <th>lng</th>\n",
       "      <th>ALand</th>\n",
       "      <th>AWater</th>\n",
       "      <th>pop</th>\n",
       "      <th>male_pop</th>\n",
       "      <th>female_pop</th>\n",
       "      <th>rent_mean</th>\n",
       "      <th>rent_median</th>\n",
       "      <th>rent_stdev</th>\n",
       "      <th>rent_sample_weight</th>\n",
       "      <th>rent_samples</th>\n",
       "      <th>rent_gt_10</th>\n",
       "      <th>rent_gt_15</th>\n",
       "      <th>rent_gt_20</th>\n",
       "      <th>rent_gt_25</th>\n",
       "      <th>rent_gt_30</th>\n",
       "      <th>rent_gt_35</th>\n",
       "      <th>rent_gt_40</th>\n",
       "      <th>rent_gt_50</th>\n",
       "      <th>universe_samples</th>\n",
       "      <th>used_samples</th>\n",
       "      <th>hi_mean</th>\n",
       "      <th>hi_median</th>\n",
       "      <th>hi_stdev</th>\n",
       "      <th>hi_sample_weight</th>\n",
       "      <th>hi_samples</th>\n",
       "      <th>family_mean</th>\n",
       "      <th>family_median</th>\n",
       "      <th>family_stdev</th>\n",
       "      <th>family_sample_weight</th>\n",
       "      <th>family_samples</th>\n",
       "      <th>hc_mortgage_mean</th>\n",
       "      <th>hc_mortgage_median</th>\n",
       "      <th>hc_mortgage_stdev</th>\n",
       "      <th>hc_mortgage_sample_weight</th>\n",
       "      <th>hc_mortgage_samples</th>\n",
       "      <th>hc_mean</th>\n",
       "      <th>hc_median</th>\n",
       "      <th>hc_stdev</th>\n",
       "      <th>hc_samples</th>\n",
       "      <th>hc_sample_weight</th>\n",
       "      <th>home_equity_second_mortgage</th>\n",
       "      <th>second_mortgage</th>\n",
       "      <th>home_equity</th>\n",
       "      <th>debt</th>\n",
       "      <th>second_mortgage_cdf</th>\n",
       "      <th>home_equity_cdf</th>\n",
       "      <th>debt_cdf</th>\n",
       "      <th>hs_degree</th>\n",
       "      <th>hs_degree_male</th>\n",
       "      <th>hs_degree_female</th>\n",
       "      <th>male_age_mean</th>\n",
       "      <th>male_age_median</th>\n",
       "      <th>male_age_stdev</th>\n",
       "      <th>male_age_sample_weight</th>\n",
       "      <th>male_age_samples</th>\n",
       "      <th>female_age_mean</th>\n",
       "      <th>female_age_median</th>\n",
       "      <th>female_age_stdev</th>\n",
       "      <th>female_age_sample_weight</th>\n",
       "      <th>female_age_samples</th>\n",
       "      <th>pct_own</th>\n",
       "      <th>married</th>\n",
       "      <th>married_snp</th>\n",
       "      <th>separated</th>\n",
       "      <th>divorced</th>\n",
       "    </tr>\n",
       "  </thead>\n",
       "  <tbody>\n",
       "    <tr>\n",
       "      <th>0</th>\n",
       "      <td>220336</td>\n",
       "      <td>NaN</td>\n",
       "      <td>140</td>\n",
       "      <td>16</td>\n",
       "      <td>2</td>\n",
       "      <td>Alaska</td>\n",
       "      <td>AK</td>\n",
       "      <td>Unalaska</td>\n",
       "      <td>Unalaska City</td>\n",
       "      <td>City</td>\n",
       "      <td>tract</td>\n",
       "      <td>99685</td>\n",
       "      <td>907</td>\n",
       "      <td>53.621091</td>\n",
       "      <td>-166.770979</td>\n",
       "      <td>2823180154</td>\n",
       "      <td>3101986247</td>\n",
       "      <td>4619</td>\n",
       "      <td>2725</td>\n",
       "      <td>1894</td>\n",
       "      <td>1366.24657</td>\n",
       "      <td>1405.0</td>\n",
       "      <td>650.16380</td>\n",
       "      <td>131.50967</td>\n",
       "      <td>372.0</td>\n",
       "      <td>0.85676</td>\n",
       "      <td>0.65676</td>\n",
       "      <td>0.47838</td>\n",
       "      <td>0.35405</td>\n",
       "      <td>0.28108</td>\n",
       "      <td>0.21081</td>\n",
       "      <td>0.15135</td>\n",
       "      <td>0.12432</td>\n",
       "      <td>661</td>\n",
       "      <td>370</td>\n",
       "      <td>107394.63092</td>\n",
       "      <td>92807.0</td>\n",
       "      <td>70691.05352</td>\n",
       "      <td>329.85389</td>\n",
       "      <td>874.0</td>\n",
       "      <td>114330.20465</td>\n",
       "      <td>101229.0</td>\n",
       "      <td>63955.77136</td>\n",
       "      <td>161.15239</td>\n",
       "      <td>519.0</td>\n",
       "      <td>2266.22562</td>\n",
       "      <td>2283.0</td>\n",
       "      <td>768.53497</td>\n",
       "      <td>41.65644</td>\n",
       "      <td>155.0</td>\n",
       "      <td>840.67205</td>\n",
       "      <td>776.0</td>\n",
       "      <td>341.85580</td>\n",
       "      <td>58.0</td>\n",
       "      <td>29.74375</td>\n",
       "      <td>0.00469</td>\n",
       "      <td>0.01408</td>\n",
       "      <td>0.02817</td>\n",
       "      <td>0.72770</td>\n",
       "      <td>0.50216</td>\n",
       "      <td>0.77143</td>\n",
       "      <td>0.30304</td>\n",
       "      <td>0.82841</td>\n",
       "      <td>0.82784</td>\n",
       "      <td>0.82940</td>\n",
       "      <td>38.45838</td>\n",
       "      <td>39.25000</td>\n",
       "      <td>17.65453</td>\n",
       "      <td>709.06255</td>\n",
       "      <td>2725.0</td>\n",
       "      <td>32.78177</td>\n",
       "      <td>31.91667</td>\n",
       "      <td>19.31875</td>\n",
       "      <td>440.46429</td>\n",
       "      <td>1894.0</td>\n",
       "      <td>0.25053</td>\n",
       "      <td>0.47388</td>\n",
       "      <td>0.30134</td>\n",
       "      <td>0.03443</td>\n",
       "      <td>0.09802</td>\n",
       "    </tr>\n",
       "    <tr>\n",
       "      <th>1</th>\n",
       "      <td>220342</td>\n",
       "      <td>NaN</td>\n",
       "      <td>140</td>\n",
       "      <td>20</td>\n",
       "      <td>2</td>\n",
       "      <td>Alaska</td>\n",
       "      <td>AK</td>\n",
       "      <td>Eagle River</td>\n",
       "      <td>Anchorage</td>\n",
       "      <td>City</td>\n",
       "      <td>tract</td>\n",
       "      <td>99577</td>\n",
       "      <td>907</td>\n",
       "      <td>61.174250</td>\n",
       "      <td>-149.284329</td>\n",
       "      <td>509234898</td>\n",
       "      <td>1859309</td>\n",
       "      <td>3727</td>\n",
       "      <td>1780</td>\n",
       "      <td>1947</td>\n",
       "      <td>2347.69441</td>\n",
       "      <td>2351.0</td>\n",
       "      <td>382.73576</td>\n",
       "      <td>4.32064</td>\n",
       "      <td>44.0</td>\n",
       "      <td>0.79545</td>\n",
       "      <td>0.56818</td>\n",
       "      <td>0.56818</td>\n",
       "      <td>0.45455</td>\n",
       "      <td>0.20455</td>\n",
       "      <td>0.20455</td>\n",
       "      <td>0.20455</td>\n",
       "      <td>0.00000</td>\n",
       "      <td>50</td>\n",
       "      <td>44</td>\n",
       "      <td>136547.39117</td>\n",
       "      <td>119141.0</td>\n",
       "      <td>84268.79529</td>\n",
       "      <td>288.40934</td>\n",
       "      <td>1103.0</td>\n",
       "      <td>148641.70829</td>\n",
       "      <td>143026.0</td>\n",
       "      <td>69628.72286</td>\n",
       "      <td>159.20875</td>\n",
       "      <td>836.0</td>\n",
       "      <td>2485.10777</td>\n",
       "      <td>2306.0</td>\n",
       "      <td>919.76234</td>\n",
       "      <td>180.92883</td>\n",
       "      <td>797.0</td>\n",
       "      <td>712.33066</td>\n",
       "      <td>742.0</td>\n",
       "      <td>336.98847</td>\n",
       "      <td>256.0</td>\n",
       "      <td>159.32270</td>\n",
       "      <td>0.03609</td>\n",
       "      <td>0.06078</td>\n",
       "      <td>0.07407</td>\n",
       "      <td>0.75689</td>\n",
       "      <td>0.15520</td>\n",
       "      <td>0.56228</td>\n",
       "      <td>0.23925</td>\n",
       "      <td>0.94090</td>\n",
       "      <td>0.97253</td>\n",
       "      <td>0.91503</td>\n",
       "      <td>37.26216</td>\n",
       "      <td>39.33333</td>\n",
       "      <td>19.66765</td>\n",
       "      <td>503.83410</td>\n",
       "      <td>1780.0</td>\n",
       "      <td>38.97956</td>\n",
       "      <td>39.66667</td>\n",
       "      <td>20.05513</td>\n",
       "      <td>466.65478</td>\n",
       "      <td>1947.0</td>\n",
       "      <td>0.94989</td>\n",
       "      <td>0.52381</td>\n",
       "      <td>0.01777</td>\n",
       "      <td>0.00782</td>\n",
       "      <td>0.13575</td>\n",
       "    </tr>\n",
       "    <tr>\n",
       "      <th>2</th>\n",
       "      <td>220343</td>\n",
       "      <td>NaN</td>\n",
       "      <td>140</td>\n",
       "      <td>20</td>\n",
       "      <td>2</td>\n",
       "      <td>Alaska</td>\n",
       "      <td>AK</td>\n",
       "      <td>Jber</td>\n",
       "      <td>Anchorage</td>\n",
       "      <td>City</td>\n",
       "      <td>tract</td>\n",
       "      <td>99505</td>\n",
       "      <td>907</td>\n",
       "      <td>61.284745</td>\n",
       "      <td>-149.653973</td>\n",
       "      <td>270593047</td>\n",
       "      <td>66534601</td>\n",
       "      <td>8736</td>\n",
       "      <td>5166</td>\n",
       "      <td>3570</td>\n",
       "      <td>2071.30766</td>\n",
       "      <td>2089.0</td>\n",
       "      <td>442.89099</td>\n",
       "      <td>195.07816</td>\n",
       "      <td>1749.0</td>\n",
       "      <td>0.99469</td>\n",
       "      <td>0.97403</td>\n",
       "      <td>0.92680</td>\n",
       "      <td>0.89020</td>\n",
       "      <td>0.73022</td>\n",
       "      <td>0.62574</td>\n",
       "      <td>0.54368</td>\n",
       "      <td>0.32999</td>\n",
       "      <td>1933</td>\n",
       "      <td>1694</td>\n",
       "      <td>69361.23167</td>\n",
       "      <td>57976.0</td>\n",
       "      <td>45054.38537</td>\n",
       "      <td>1104.22753</td>\n",
       "      <td>1955.0</td>\n",
       "      <td>67678.50158</td>\n",
       "      <td>58248.0</td>\n",
       "      <td>38155.76319</td>\n",
       "      <td>1023.98149</td>\n",
       "      <td>1858.0</td>\n",
       "      <td>NaN</td>\n",
       "      <td>NaN</td>\n",
       "      <td>NaN</td>\n",
       "      <td>NaN</td>\n",
       "      <td>NaN</td>\n",
       "      <td>525.89101</td>\n",
       "      <td>810.0</td>\n",
       "      <td>392.27170</td>\n",
       "      <td>22.0</td>\n",
       "      <td>10.83444</td>\n",
       "      <td>0.00000</td>\n",
       "      <td>0.00000</td>\n",
       "      <td>0.00000</td>\n",
       "      <td>0.00000</td>\n",
       "      <td>1.00000</td>\n",
       "      <td>1.00000</td>\n",
       "      <td>1.00000</td>\n",
       "      <td>0.99097</td>\n",
       "      <td>0.99661</td>\n",
       "      <td>0.98408</td>\n",
       "      <td>21.96291</td>\n",
       "      <td>22.25000</td>\n",
       "      <td>11.09657</td>\n",
       "      <td>1734.05720</td>\n",
       "      <td>5166.0</td>\n",
       "      <td>22.20427</td>\n",
       "      <td>23.16667</td>\n",
       "      <td>13.86575</td>\n",
       "      <td>887.67805</td>\n",
       "      <td>3570.0</td>\n",
       "      <td>0.00759</td>\n",
       "      <td>0.50459</td>\n",
       "      <td>0.06676</td>\n",
       "      <td>0.01000</td>\n",
       "      <td>0.01838</td>\n",
       "    </tr>\n",
       "  </tbody>\n",
       "</table>\n",
       "</div>"
      ],
      "text/plain": [
       "      UID  BLOCKID  SUMLEVEL  ...  married_snp  separated divorced\n",
       "0  220336      NaN       140  ...      0.30134    0.03443  0.09802\n",
       "1  220342      NaN       140  ...      0.01777    0.00782  0.13575\n",
       "2  220343      NaN       140  ...      0.06676    0.01000  0.01838\n",
       "\n",
       "[3 rows x 80 columns]"
      ]
     },
     "execution_count": 2,
     "metadata": {
      "tags": []
     },
     "output_type": "execute_result"
    }
   ],
   "source": [
    "df = pd.read_csv('/content/drive/MyDrive/Datasets/real_estate_db.csv',encoding='latin8')\n",
    "df[:3]"
   ]
  },
  {
   "cell_type": "code",
   "execution_count": null,
   "metadata": {
    "id": "-0TMARCHklEr"
   },
   "outputs": [],
   "source": [
    "cols = ['state','state_ab','city','area_code','lat','lng','ALand','AWater','pop','male_pop','female_pop','debt','married','divorced','separated']\n",
    "cdf = df[cols].copy()"
   ]
  },
  {
   "cell_type": "markdown",
   "metadata": {
    "id": "YR-ws2Z-lBHI"
   },
   "source": [
    "### EDA"
   ]
  },
  {
   "cell_type": "markdown",
   "metadata": {
    "id": "18AYIHtfz0uB"
   },
   "source": [
    "**Fancy scatter plot by Latitutde and Longitude**"
   ]
  },
  {
   "cell_type": "code",
   "execution_count": null,
   "metadata": {
    "colab": {
     "base_uri": "https://localhost:8080/",
     "height": 533
    },
    "id": "lSrElxJDjtAx",
    "outputId": "0e91a4e1-adf3-46f5-9705-7769a3401e44"
   },
   "outputs": [
    {
     "data": {
      "image/png": "[encoded data removed]",
      "text/plain": [
       "<Figure size 576x396 with 1 Axes>"
      ]
     },
     "metadata": {
      "tags": []
     },
     "output_type": "display_data"
    }
   ],
   "source": [
    "sns.scatterplot(data=cdf,x='lat',y='lng',hue='state');\n",
    "plt.legend(bbox_to_anchor=(1.2, -0.1),fancybox=False, shadow=False, ncol=5);"
   ]
  },
  {
   "cell_type": "markdown",
   "metadata": {
    "id": "5bLH6ehuz5it"
   },
   "source": [
    "**Summary of population and area by state**"
   ]
  },
  {
   "cell_type": "code",
   "execution_count": null,
   "metadata": {
    "colab": {
     "base_uri": "https://localhost:8080/",
     "height": 1000
    },
    "id": "67eZzDsAmIbY",
    "outputId": "52e2dd4c-4c0d-4b09-9152-795072538bd4"
   },
   "outputs": [
    {
     "data": {
      "text/html": [
       "<div>\n",
       "<style scoped>\n",
       "    .dataframe tbody tr th:only-of-type {\n",
       "        vertical-align: middle;\n",
       "    }\n",
       "\n",
       "    .dataframe tbody tr th {\n",
       "        vertical-align: top;\n",
       "    }\n",
       "\n",
       "    .dataframe thead th {\n",
       "        text-align: right;\n",
       "    }\n",
       "</style>\n",
       "<table border=\"1\" class=\"dataframe\">\n",
       "  <thead>\n",
       "    <tr style=\"text-align: right;\">\n",
       "      <th></th>\n",
       "      <th>pop</th>\n",
       "      <th>male_pop</th>\n",
       "      <th>female_pop</th>\n",
       "      <th>ALand</th>\n",
       "      <th>AWater</th>\n",
       "      <th>state</th>\n",
       "    </tr>\n",
       "    <tr>\n",
       "      <th>state_ab</th>\n",
       "      <th></th>\n",
       "      <th></th>\n",
       "      <th></th>\n",
       "      <th></th>\n",
       "      <th></th>\n",
       "      <th></th>\n",
       "    </tr>\n",
       "  </thead>\n",
       "  <tbody>\n",
       "    <tr>\n",
       "      <th>AK</th>\n",
       "      <td>469126</td>\n",
       "      <td>246520</td>\n",
       "      <td>222606</td>\n",
       "      <td>722368907357</td>\n",
       "      <td>137757072654</td>\n",
       "      <td>Alaska</td>\n",
       "    </tr>\n",
       "    <tr>\n",
       "      <th>AL</th>\n",
       "      <td>2516214</td>\n",
       "      <td>1226877</td>\n",
       "      <td>1289337</td>\n",
       "      <td>70352962626</td>\n",
       "      <td>1732053991</td>\n",
       "      <td>Alabama</td>\n",
       "    </tr>\n",
       "    <tr>\n",
       "      <th>AR</th>\n",
       "      <td>1540462</td>\n",
       "      <td>758011</td>\n",
       "      <td>782451</td>\n",
       "      <td>69537343629</td>\n",
       "      <td>1484286648</td>\n",
       "      <td>Arkansas</td>\n",
       "    </tr>\n",
       "    <tr>\n",
       "      <th>AZ</th>\n",
       "      <td>3491125</td>\n",
       "      <td>1737284</td>\n",
       "      <td>1753841</td>\n",
       "      <td>180325081831</td>\n",
       "      <td>662716229</td>\n",
       "      <td>Arizona</td>\n",
       "    </tr>\n",
       "    <tr>\n",
       "      <th>CA</th>\n",
       "      <td>20197555</td>\n",
       "      <td>10081248</td>\n",
       "      <td>10116307</td>\n",
       "      <td>235174645131</td>\n",
       "      <td>4507004866</td>\n",
       "      <td>California</td>\n",
       "    </tr>\n",
       "    <tr>\n",
       "      <th>CO</th>\n",
       "      <td>2799395</td>\n",
       "      <td>1411330</td>\n",
       "      <td>1388065</td>\n",
       "      <td>155452913241</td>\n",
       "      <td>711290617</td>\n",
       "      <td>Colorado</td>\n",
       "    </tr>\n",
       "    <tr>\n",
       "      <th>CT</th>\n",
       "      <td>1914899</td>\n",
       "      <td>924516</td>\n",
       "      <td>990383</td>\n",
       "      <td>6865055353</td>\n",
       "      <td>312560243</td>\n",
       "      <td>Connecticut</td>\n",
       "    </tr>\n",
       "    <tr>\n",
       "      <th>DC</th>\n",
       "      <td>357842</td>\n",
       "      <td>172707</td>\n",
       "      <td>185135</td>\n",
       "      <td>89106477</td>\n",
       "      <td>13002616</td>\n",
       "      <td>District of Columbia</td>\n",
       "    </tr>\n",
       "    <tr>\n",
       "      <th>DE</th>\n",
       "      <td>488669</td>\n",
       "      <td>236762</td>\n",
       "      <td>251907</td>\n",
       "      <td>2877996732</td>\n",
       "      <td>114847579</td>\n",
       "      <td>Delaware</td>\n",
       "    </tr>\n",
       "    <tr>\n",
       "      <th>FL</th>\n",
       "      <td>10609057</td>\n",
       "      <td>5193417</td>\n",
       "      <td>5415640</td>\n",
       "      <td>69619448692</td>\n",
       "      <td>8393132389</td>\n",
       "      <td>Florida</td>\n",
       "    </tr>\n",
       "    <tr>\n",
       "      <th>GA</th>\n",
       "      <td>5412817</td>\n",
       "      <td>2641952</td>\n",
       "      <td>2770865</td>\n",
       "      <td>85141396708</td>\n",
       "      <td>2126459048</td>\n",
       "      <td>Georgia</td>\n",
       "    </tr>\n",
       "    <tr>\n",
       "      <th>HI</th>\n",
       "      <td>782728</td>\n",
       "      <td>397432</td>\n",
       "      <td>385296</td>\n",
       "      <td>6393739701</td>\n",
       "      <td>558912797</td>\n",
       "      <td>Hawaii</td>\n",
       "    </tr>\n",
       "    <tr>\n",
       "      <th>IA</th>\n",
       "      <td>1501895</td>\n",
       "      <td>743877</td>\n",
       "      <td>758018</td>\n",
       "      <td>70142911735</td>\n",
       "      <td>581858320</td>\n",
       "      <td>Iowa</td>\n",
       "    </tr>\n",
       "    <tr>\n",
       "      <th>ID</th>\n",
       "      <td>868080</td>\n",
       "      <td>433259</td>\n",
       "      <td>434821</td>\n",
       "      <td>92735376589</td>\n",
       "      <td>809101938</td>\n",
       "      <td>Idaho</td>\n",
       "    </tr>\n",
       "    <tr>\n",
       "      <th>IL</th>\n",
       "      <td>6588759</td>\n",
       "      <td>3239561</td>\n",
       "      <td>3349198</td>\n",
       "      <td>71027589926</td>\n",
       "      <td>956940364</td>\n",
       "      <td>Illinois</td>\n",
       "    </tr>\n",
       "    <tr>\n",
       "      <th>IN</th>\n",
       "      <td>3389012</td>\n",
       "      <td>1672018</td>\n",
       "      <td>1716994</td>\n",
       "      <td>48379840329</td>\n",
       "      <td>499474076</td>\n",
       "      <td>Indiana</td>\n",
       "    </tr>\n",
       "    <tr>\n",
       "      <th>KS</th>\n",
       "      <td>1602050</td>\n",
       "      <td>797338</td>\n",
       "      <td>804712</td>\n",
       "      <td>117291643373</td>\n",
       "      <td>734489089</td>\n",
       "      <td>Kansas</td>\n",
       "    </tr>\n",
       "    <tr>\n",
       "      <th>KY</th>\n",
       "      <td>2243143</td>\n",
       "      <td>1103713</td>\n",
       "      <td>1139430</td>\n",
       "      <td>50493602211</td>\n",
       "      <td>1170176450</td>\n",
       "      <td>Kentucky</td>\n",
       "    </tr>\n",
       "    <tr>\n",
       "      <th>LA</th>\n",
       "      <td>2454659</td>\n",
       "      <td>1197975</td>\n",
       "      <td>1256684</td>\n",
       "      <td>56404296747</td>\n",
       "      <td>6722140365</td>\n",
       "      <td>Louisiana</td>\n",
       "    </tr>\n",
       "    <tr>\n",
       "      <th>MA</th>\n",
       "      <td>3555026</td>\n",
       "      <td>1724503</td>\n",
       "      <td>1830523</td>\n",
       "      <td>10404663063</td>\n",
       "      <td>1035756604</td>\n",
       "      <td>Massachusetts</td>\n",
       "    </tr>\n",
       "    <tr>\n",
       "      <th>MD</th>\n",
       "      <td>3292145</td>\n",
       "      <td>1602210</td>\n",
       "      <td>1689935</td>\n",
       "      <td>14815063927</td>\n",
       "      <td>1511194979</td>\n",
       "      <td>Maryland</td>\n",
       "    </tr>\n",
       "    <tr>\n",
       "      <th>ME</th>\n",
       "      <td>710622</td>\n",
       "      <td>347816</td>\n",
       "      <td>362806</td>\n",
       "      <td>52878488979</td>\n",
       "      <td>5008597586</td>\n",
       "      <td>Maine</td>\n",
       "    </tr>\n",
       "    <tr>\n",
       "      <th>MI</th>\n",
       "      <td>5224877</td>\n",
       "      <td>2557263</td>\n",
       "      <td>2667614</td>\n",
       "      <td>75206589121</td>\n",
       "      <td>4940194318</td>\n",
       "      <td>Michigan</td>\n",
       "    </tr>\n",
       "    <tr>\n",
       "      <th>MN</th>\n",
       "      <td>2879177</td>\n",
       "      <td>1426107</td>\n",
       "      <td>1453070</td>\n",
       "      <td>84805439583</td>\n",
       "      <td>4311294489</td>\n",
       "      <td>Minnesota</td>\n",
       "    </tr>\n",
       "    <tr>\n",
       "      <th>MO</th>\n",
       "      <td>3092144</td>\n",
       "      <td>1518324</td>\n",
       "      <td>1573820</td>\n",
       "      <td>88816439192</td>\n",
       "      <td>1426397941</td>\n",
       "      <td>Missouri</td>\n",
       "    </tr>\n",
       "    <tr>\n",
       "      <th>MS</th>\n",
       "      <td>1558044</td>\n",
       "      <td>755465</td>\n",
       "      <td>802579</td>\n",
       "      <td>65062078135</td>\n",
       "      <td>1329197525</td>\n",
       "      <td>Mississippi</td>\n",
       "    </tr>\n",
       "    <tr>\n",
       "      <th>MT</th>\n",
       "      <td>564861</td>\n",
       "      <td>282401</td>\n",
       "      <td>282460</td>\n",
       "      <td>248905480934</td>\n",
       "      <td>2666670939</td>\n",
       "      <td>Montana</td>\n",
       "    </tr>\n",
       "    <tr>\n",
       "      <th>NC</th>\n",
       "      <td>5184944</td>\n",
       "      <td>2526445</td>\n",
       "      <td>2658499</td>\n",
       "      <td>65055897110</td>\n",
       "      <td>3226470120</td>\n",
       "      <td>North Carolina</td>\n",
       "    </tr>\n",
       "    <tr>\n",
       "      <th>ND</th>\n",
       "      <td>368821</td>\n",
       "      <td>188536</td>\n",
       "      <td>180285</td>\n",
       "      <td>95466673548</td>\n",
       "      <td>2182730770</td>\n",
       "      <td>North Dakota</td>\n",
       "    </tr>\n",
       "    <tr>\n",
       "      <th>NE</th>\n",
       "      <td>970077</td>\n",
       "      <td>482309</td>\n",
       "      <td>487768</td>\n",
       "      <td>89479501945</td>\n",
       "      <td>535697730</td>\n",
       "      <td>Nebraska</td>\n",
       "    </tr>\n",
       "    <tr>\n",
       "      <th>NH</th>\n",
       "      <td>694959</td>\n",
       "      <td>344063</td>\n",
       "      <td>350896</td>\n",
       "      <td>12491054114</td>\n",
       "      <td>514406119</td>\n",
       "      <td>New Hampshire</td>\n",
       "    </tr>\n",
       "    <tr>\n",
       "      <th>NJ</th>\n",
       "      <td>4482520</td>\n",
       "      <td>2182652</td>\n",
       "      <td>2299868</td>\n",
       "      <td>10493982942</td>\n",
       "      <td>799251245</td>\n",
       "      <td>New Jersey</td>\n",
       "    </tr>\n",
       "    <tr>\n",
       "      <th>NM</th>\n",
       "      <td>1203128</td>\n",
       "      <td>595608</td>\n",
       "      <td>607520</td>\n",
       "      <td>172251088200</td>\n",
       "      <td>546012923</td>\n",
       "      <td>New Mexico</td>\n",
       "    </tr>\n",
       "    <tr>\n",
       "      <th>NV</th>\n",
       "      <td>1459071</td>\n",
       "      <td>739535</td>\n",
       "      <td>719536</td>\n",
       "      <td>136008316579</td>\n",
       "      <td>1002763632</td>\n",
       "      <td>Nevada</td>\n",
       "    </tr>\n",
       "    <tr>\n",
       "      <th>NY</th>\n",
       "      <td>10394107</td>\n",
       "      <td>5032257</td>\n",
       "      <td>5361850</td>\n",
       "      <td>62316115428</td>\n",
       "      <td>2604980644</td>\n",
       "      <td>New York</td>\n",
       "    </tr>\n",
       "    <tr>\n",
       "      <th>OH</th>\n",
       "      <td>6139531</td>\n",
       "      <td>3010888</td>\n",
       "      <td>3128643</td>\n",
       "      <td>58182736607</td>\n",
       "      <td>788921631</td>\n",
       "      <td>Ohio</td>\n",
       "    </tr>\n",
       "    <tr>\n",
       "      <th>OK</th>\n",
       "      <td>2022316</td>\n",
       "      <td>1003736</td>\n",
       "      <td>1018580</td>\n",
       "      <td>98611541123</td>\n",
       "      <td>1915772469</td>\n",
       "      <td>Oklahoma</td>\n",
       "    </tr>\n",
       "    <tr>\n",
       "      <th>OR</th>\n",
       "      <td>2162139</td>\n",
       "      <td>1070676</td>\n",
       "      <td>1091463</td>\n",
       "      <td>159980775965</td>\n",
       "      <td>1918272471</td>\n",
       "      <td>Oregon</td>\n",
       "    </tr>\n",
       "    <tr>\n",
       "      <th>PA</th>\n",
       "      <td>6786776</td>\n",
       "      <td>3315641</td>\n",
       "      <td>3471135</td>\n",
       "      <td>58402582122</td>\n",
       "      <td>789727993</td>\n",
       "      <td>Pennsylvania</td>\n",
       "    </tr>\n",
       "    <tr>\n",
       "      <th>PR</th>\n",
       "      <td>1839485</td>\n",
       "      <td>883267</td>\n",
       "      <td>956218</td>\n",
       "      <td>4726099514</td>\n",
       "      <td>343252481</td>\n",
       "      <td>Puerto Rico</td>\n",
       "    </tr>\n",
       "    <tr>\n",
       "      <th>RI</th>\n",
       "      <td>527716</td>\n",
       "      <td>256423</td>\n",
       "      <td>271293</td>\n",
       "      <td>1421606369</td>\n",
       "      <td>173869644</td>\n",
       "      <td>Rhode Island</td>\n",
       "    </tr>\n",
       "    <tr>\n",
       "      <th>SC</th>\n",
       "      <td>2461759</td>\n",
       "      <td>1194553</td>\n",
       "      <td>1267206</td>\n",
       "      <td>41059983803</td>\n",
       "      <td>1362937733</td>\n",
       "      <td>South Carolina</td>\n",
       "    </tr>\n",
       "    <tr>\n",
       "      <th>SD</th>\n",
       "      <td>471349</td>\n",
       "      <td>236300</td>\n",
       "      <td>235049</td>\n",
       "      <td>109275231275</td>\n",
       "      <td>2004057966</td>\n",
       "      <td>South Dakota</td>\n",
       "    </tr>\n",
       "    <tr>\n",
       "      <th>TN</th>\n",
       "      <td>3367715</td>\n",
       "      <td>1643458</td>\n",
       "      <td>1724257</td>\n",
       "      <td>54101294407</td>\n",
       "      <td>1202156340</td>\n",
       "      <td>Tennessee</td>\n",
       "    </tr>\n",
       "    <tr>\n",
       "      <th>TX</th>\n",
       "      <td>13935294</td>\n",
       "      <td>6916078</td>\n",
       "      <td>7019216</td>\n",
       "      <td>358358562994</td>\n",
       "      <td>9644620956</td>\n",
       "      <td>Texas</td>\n",
       "    </tr>\n",
       "    <tr>\n",
       "      <th>UT</th>\n",
       "      <td>1598815</td>\n",
       "      <td>804287</td>\n",
       "      <td>794528</td>\n",
       "      <td>87867228560</td>\n",
       "      <td>2427239469</td>\n",
       "      <td>Utah</td>\n",
       "    </tr>\n",
       "    <tr>\n",
       "      <th>VA</th>\n",
       "      <td>4293918</td>\n",
       "      <td>2102950</td>\n",
       "      <td>2190968</td>\n",
       "      <td>53817438188</td>\n",
       "      <td>2389908012</td>\n",
       "      <td>Virginia</td>\n",
       "    </tr>\n",
       "    <tr>\n",
       "      <th>VT</th>\n",
       "      <td>313577</td>\n",
       "      <td>154456</td>\n",
       "      <td>159121</td>\n",
       "      <td>13268212222</td>\n",
       "      <td>507787768</td>\n",
       "      <td>Vermont</td>\n",
       "    </tr>\n",
       "    <tr>\n",
       "      <th>WA</th>\n",
       "      <td>3870279</td>\n",
       "      <td>1930122</td>\n",
       "      <td>1940157</td>\n",
       "      <td>95953804619</td>\n",
       "      <td>4024544353</td>\n",
       "      <td>Washington</td>\n",
       "    </tr>\n",
       "    <tr>\n",
       "      <th>WI</th>\n",
       "      <td>3009899</td>\n",
       "      <td>1494100</td>\n",
       "      <td>1515799</td>\n",
       "      <td>73736007342</td>\n",
       "      <td>4562686687</td>\n",
       "      <td>Wisconsin</td>\n",
       "    </tr>\n",
       "    <tr>\n",
       "      <th>WV</th>\n",
       "      <td>1045789</td>\n",
       "      <td>517338</td>\n",
       "      <td>528451</td>\n",
       "      <td>32769779880</td>\n",
       "      <td>272517541</td>\n",
       "      <td>West Virginia</td>\n",
       "    </tr>\n",
       "    <tr>\n",
       "      <th>WY</th>\n",
       "      <td>345577</td>\n",
       "      <td>175935</td>\n",
       "      <td>169642</td>\n",
       "      <td>124417325108</td>\n",
       "      <td>735843754</td>\n",
       "      <td>Wyoming</td>\n",
       "    </tr>\n",
       "  </tbody>\n",
       "</table>\n",
       "</div>"
      ],
      "text/plain": [
       "               pop  male_pop  ...        AWater                 state\n",
       "state_ab                      ...                                    \n",
       "AK          469126    246520  ...  137757072654                Alaska\n",
       "AL         2516214   1226877  ...    1732053991               Alabama\n",
       "AR         1540462    758011  ...    1484286648              Arkansas\n",
       "AZ         3491125   1737284  ...     662716229               Arizona\n",
       "CA        20197555  10081248  ...    4507004866            California\n",
       "CO         2799395   1411330  ...     711290617              Colorado\n",
       "CT         1914899    924516  ...     312560243           Connecticut\n",
       "DC          357842    172707  ...      13002616  District of Columbia\n",
       "DE          488669    236762  ...     114847579              Delaware\n",
       "FL        10609057   5193417  ...    8393132389               Florida\n",
       "GA         5412817   2641952  ...    2126459048               Georgia\n",
       "HI          782728    397432  ...     558912797                Hawaii\n",
       "IA         1501895    743877  ...     581858320                  Iowa\n",
       "ID          868080    433259  ...     809101938                 Idaho\n",
       "IL         6588759   3239561  ...     956940364              Illinois\n",
       "IN         3389012   1672018  ...     499474076               Indiana\n",
       "KS         1602050    797338  ...     734489089                Kansas\n",
       "KY         2243143   1103713  ...    1170176450              Kentucky\n",
       "LA         2454659   1197975  ...    6722140365             Louisiana\n",
       "MA         3555026   1724503  ...    1035756604         Massachusetts\n",
       "MD         3292145   1602210  ...    1511194979              Maryland\n",
       "ME          710622    347816  ...    5008597586                 Maine\n",
       "MI         5224877   2557263  ...    4940194318              Michigan\n",
       "MN         2879177   1426107  ...    4311294489             Minnesota\n",
       "MO         3092144   1518324  ...    1426397941              Missouri\n",
       "MS         1558044    755465  ...    1329197525           Mississippi\n",
       "MT          564861    282401  ...    2666670939               Montana\n",
       "NC         5184944   2526445  ...    3226470120        North Carolina\n",
       "ND          368821    188536  ...    2182730770          North Dakota\n",
       "NE          970077    482309  ...     535697730              Nebraska\n",
       "NH          694959    344063  ...     514406119         New Hampshire\n",
       "NJ         4482520   2182652  ...     799251245            New Jersey\n",
       "NM         1203128    595608  ...     546012923            New Mexico\n",
       "NV         1459071    739535  ...    1002763632                Nevada\n",
       "NY        10394107   5032257  ...    2604980644              New York\n",
       "OH         6139531   3010888  ...     788921631                  Ohio\n",
       "OK         2022316   1003736  ...    1915772469              Oklahoma\n",
       "OR         2162139   1070676  ...    1918272471                Oregon\n",
       "PA         6786776   3315641  ...     789727993          Pennsylvania\n",
       "PR         1839485    883267  ...     343252481           Puerto Rico\n",
       "RI          527716    256423  ...     173869644          Rhode Island\n",
       "SC         2461759   1194553  ...    1362937733        South Carolina\n",
       "SD          471349    236300  ...    2004057966          South Dakota\n",
       "TN         3367715   1643458  ...    1202156340             Tennessee\n",
       "TX        13935294   6916078  ...    9644620956                 Texas\n",
       "UT         1598815    804287  ...    2427239469                  Utah\n",
       "VA         4293918   2102950  ...    2389908012              Virginia\n",
       "VT          313577    154456  ...     507787768               Vermont\n",
       "WA         3870279   1930122  ...    4024544353            Washington\n",
       "WI         3009899   1494100  ...    4562686687             Wisconsin\n",
       "WV         1045789    517338  ...     272517541         West Virginia\n",
       "WY          345577    175935  ...     735843754               Wyoming\n",
       "\n",
       "[52 rows x 6 columns]"
      ]
     },
     "execution_count": 4,
     "metadata": {
      "tags": []
     },
     "output_type": "execute_result"
    }
   ],
   "source": [
    "summary = cdf.groupby('state_ab').agg({'pop':'sum','male_pop':'sum','female_pop':'sum','ALand':'sum','AWater':'sum','state':'first'})\n",
    "summary"
   ]
  },
  {
   "cell_type": "markdown",
   "metadata": {
    "id": "X5amfeBPz_Qs"
   },
   "source": [
    "**Male and Female distribution by state**"
   ]
  },
  {
   "cell_type": "code",
   "execution_count": null,
   "metadata": {
    "colab": {
     "base_uri": "https://localhost:8080/",
     "height": 298
    },
    "id": "XKw-n7sym17K",
    "outputId": "b5fee156-fd80-42d9-c121-9fea31f604b4"
   },
   "outputs": [
    {
     "data": {
      "image/png": "[encoded data removed]",
      "text/plain": [
       "<Figure size 1800x360 with 1 Axes>"
      ]
     },
     "metadata": {
      "tags": []
     },
     "output_type": "display_data"
    }
   ],
   "source": [
    "summary[['male_pop','female_pop']] \\\n",
    ".div(summary['pop'],axis=0) \\\n",
    ".plot.bar(stacked=True,rot=0,figsize=(25,5)) \\\n",
    ".legend(bbox_to_anchor=(0.58, -0.1),fancybox=False, shadow=False, ncol=2);"
   ]
  },
  {
   "cell_type": "markdown",
   "metadata": {
    "id": "WJdI4Jf00HFQ"
   },
   "source": [
    "**States distribution by Land and Water**"
   ]
  },
  {
   "cell_type": "code",
   "execution_count": null,
   "metadata": {
    "colab": {
     "base_uri": "https://localhost:8080/",
     "height": 345
    },
    "id": "cPJx0Okfod0w",
    "outputId": "d7a28ab8-a8d5-439e-b635-c73de7f513fb"
   },
   "outputs": [
    {
     "data": {
      "image/png": "[encoded data removed]",
      "text/plain": [
       "<Figure size 720x360 with 1 Axes>"
      ]
     },
     "metadata": {
      "needs_background": "light",
      "tags": []
     },
     "output_type": "display_data"
    }
   ],
   "source": [
    "plt.figure(figsize=(10,5))\n",
    "sns.scatterplot(data=summary.reset_index(),x='ALand',y='AWater')\n",
    "\n",
    "for x in summary.reset_index().itertuples():\n",
    "    plt.annotate(x.state,(x.ALand,x.AWater),va='top',ha='right');\n"
   ]
  },
  {
   "cell_type": "code",
   "execution_count": null,
   "metadata": {
    "colab": {
     "base_uri": "https://localhost:8080/",
     "height": 453
    },
    "id": "mtCYz3jHphnZ",
    "outputId": "614d8cf1-5b32-44e5-e1c4-c392920c7060"
   },
   "outputs": [
    {
     "data": {
      "image/png": "[encoded data removed]",
      "text/plain": [
       "<Figure size 1800x504 with 1 Axes>"
      ]
     },
     "metadata": {
      "needs_background": "light",
      "tags": []
     },
     "output_type": "display_data"
    }
   ],
   "source": [
    "plt.figure(figsize=(25,7))\n",
    "sns.scatterplot(data=summary[summary.state != 'Alaska'],x='ALand',y='AWater');\n",
    "\n",
    "for x in summary[summary.state != 'Alaska'].itertuples():\n",
    "    plt.annotate(x.state,(x.ALand,x.AWater),va='top',ha='right');\n"
   ]
  },
  {
   "cell_type": "markdown",
   "metadata": {
    "id": "TtZ8C4uD1HYk"
   },
   "source": [
    "### Let's find some hypotheses"
   ]
  },
  {
   "cell_type": "markdown",
   "metadata": {
    "id": "xyU7bQAAlHBc"
   },
   "source": [
    "First let's look if we have some correlations between our variables"
   ]
  },
  {
   "cell_type": "code",
   "execution_count": null,
   "metadata": {
    "colab": {
     "base_uri": "https://localhost:8080/",
     "height": 369
    },
    "id": "_muMp6_RlJOQ",
    "outputId": "aa5a3ff8-b093-4903-b74a-eef7bbe8b27a"
   },
   "outputs": [
    {
     "data": {
      "image/png": "[encoded data removed]",
      "text/plain": [
       "<Figure size 1800x360 with 4 Axes>"
      ]
     },
     "metadata": {
      "needs_background": "light",
      "tags": []
     },
     "output_type": "display_data"
    }
   ],
   "source": [
    "corr_data = cdf.select_dtypes(exclude=['object']).drop(['area_code','lat','lng'],axis=1).copy().dropna()\n",
    "corr_matrix = pd.DataFrame([[ss.spearmanr(corr_data[c_x],corr_data[c_y])[1] for c_x in corr_data.columns] for c_y in corr_data.columns],columns=corr_data.columns,index=corr_data.columns)\n",
    "corr_matrix[corr_matrix == 0] = np.nan\n",
    "fig,ax = plt.subplots(1,2,figsize=(25,5))\n",
    "\n",
    "sns.heatmap(corr_data.corr(method='spearman'),annot=True,fmt='.2f',ax=ax[0],cmap='Blues')\n",
    "ax[0].set_title('Correlation Statistic')\n",
    "\n",
    "sns.heatmap(corr_matrix,annot=True,fmt='.2f',ax=ax[1],cmap='Blues')\n",
    "ax[1].set_title('P-Values')\n",
    "\n",
    "plt.tight_layout()"
   ]
  },
  {
   "cell_type": "markdown",
   "metadata": {
    "id": "MhKigxyQqoVx"
   },
   "source": [
    "**H:** Is there a corelation between the Land area and number of people - Expect to see the more land, the more people"
   ]
  },
  {
   "cell_type": "code",
   "execution_count": null,
   "metadata": {
    "colab": {
     "base_uri": "https://localhost:8080/",
     "height": 480
    },
    "id": "AZugm9BDqt5a",
    "outputId": "0da3675c-97af-459f-c125-1423c89e9d43"
   },
   "outputs": [
    {
     "name": "stdout",
     "output_type": "stream",
     "text": [
      "Slope: -0.00000\n",
      "Intercept: 4338.79206\n",
      "P-Value: 0.00000\n",
      "r: -0.03189\n",
      "se: 0.00000\n",
      "Statistically significant / We can trust the statistic\n",
      "Reject H0: changes in the predictor are not associated with changes in the response\n"
     ]
    },
    {
     "data": {
      "image/png": "[encoded data removed]",
      "text/plain": [
       "<Figure size 576x396 with 1 Axes>"
      ]
     },
     "metadata": {
      "tags": []
     },
     "output_type": "display_data"
    }
   ],
   "source": [
    "sns.regplot(x=cdf['ALand'],y=cdf['pop']);\n",
    "\n",
    "slope, intercept, r, p, se = ss.linregress(cdf['ALand'],cdf['pop'])\n",
    "\n",
    "print(f'Slope: {slope:.5f}\\nIntercept: {intercept:.5f}\\nP-Value: {p:.5f}\\nr: {r:.5f}\\nse: {se:.5f}')\n",
    "\n",
    "H0 = 'changes in the predictor are not associated with changes in the response'\n",
    "a = 0.05\n",
    "if p <= a:\n",
    "    print('Statistically significant / We can trust the statistic')\n",
    "    print(f'Reject H0: {H0}')\n",
    "else:\n",
    "    print('Statistically not significant / We cannot trust the statistic')\n",
    "    print(f'Accept H0: {H0}')"
   ]
  },
  {
   "cell_type": "markdown",
   "metadata": {
    "id": "WhMynD5Yw1sL"
   },
   "source": [
    "**H:** Is there a correlation between the percentage of debt and city population - Expect to see more debt where more people"
   ]
  },
  {
   "cell_type": "code",
   "execution_count": null,
   "metadata": {
    "colab": {
     "base_uri": "https://localhost:8080/"
    },
    "id": "AsArSs2r2LF8",
    "outputId": "42390c94-fb86-466e-ba39-6238e65bc6d3"
   },
   "outputs": [
    {
     "name": "stdout",
     "output_type": "stream",
     "text": [
      "Statistic: 0.2346457692137584\n",
      "P-Value: 0.000\n",
      "Statistically significant / We can trust the statistic\n",
      "Reject H0: the two variables are uncorrelated\n"
     ]
    }
   ],
   "source": [
    "H0 = 'the two variables are uncorrelated'\n",
    "a = 0.05\n",
    "tmp = cdf.dropna(subset=['pop','debt'])\n",
    "stat, p = ss.pearsonr(tmp['pop'],tmp['debt'])\n",
    "print(f'Statistic: {stat}\\nP-Value: {p:.3f}')\n",
    "if p <= a:\n",
    "    print('Statistically significant / We can trust the statistic')\n",
    "    print(f'Reject H0: {H0}')\n",
    "else:\n",
    "    print('Statistically not significant / We cannot trust the statistic')\n",
    "    print(f'Accept H0: {H0}')"
   ]
  },
  {
   "cell_type": "markdown",
   "metadata": {
    "id": "IJhwtvRszGSK"
   },
   "source": [
    "**H:** There is a relationship between the male population and female population"
   ]
  },
  {
   "cell_type": "code",
   "execution_count": null,
   "metadata": {
    "colab": {
     "base_uri": "https://localhost:8080/",
     "height": 398
    },
    "id": "PY6jFrKyy4F5",
    "outputId": "f2255a76-e329-43be-ceb6-48852623832a"
   },
   "outputs": [
    {
     "name": "stdout",
     "output_type": "stream",
     "text": [
      "Slope: 0.90511\n",
      "Intercept: 268.73639\n",
      "P-Value: 0.00000\n",
      "r: 0.91270\n",
      "se: 0.00205\n",
      "Statistically significant / We can trust the statistic\n",
      "Reject H0: changes in the predictor are not associated with changes in the response\n"
     ]
    },
    {
     "data": {
      "image/png": "[encoded data removed]",
      "text/plain": [
       "<Figure size 432x288 with 1 Axes>"
      ]
     },
     "metadata": {
      "needs_background": "light",
      "tags": []
     },
     "output_type": "display_data"
    }
   ],
   "source": [
    "sns.regplot(x=cdf['male_pop'],y=cdf['female_pop']);\n",
    "\n",
    "slope, intercept, r, p, se = ss.linregress(cdf['male_pop'],cdf['female_pop'])\n",
    "\n",
    "print(f'Slope: {slope:.5f}\\nIntercept: {intercept:.5f}\\nP-Value: {p:.5f}\\nr: {r:.5f}\\nse: {se:.5f}')\n",
    "\n",
    "H0 = 'changes in the predictor are not associated with changes in the response'\n",
    "a = 0.05\n",
    "if p <= a:\n",
    "    print('Statistically significant / We can trust the statistic')\n",
    "    print(f'Reject H0: {H0}')\n",
    "else:\n",
    "    print('Statistically not significant / We cannot trust the statistic')\n",
    "    print(f'Accept H0: {H0}')"
   ]
  },
  {
   "cell_type": "code",
   "execution_count": null,
   "metadata": {
    "colab": {
     "base_uri": "https://localhost:8080/"
    },
    "id": "yBK3f-fsoVCU",
    "outputId": "5f0ec0fa-bdf9-429a-e35e-9239705b5197"
   },
   "outputs": [
    {
     "name": "stdout",
     "output_type": "stream",
     "text": [
      "Statistic: 70.82427410415444\n",
      "P-Value: 0.000\n",
      "Statistically significant / We can trust the statistic\n",
      "Reject H0: two or more groups have the same population mean\n"
     ]
    }
   ],
   "source": [
    "H0 = 'two or more groups have the same population mean'\n",
    "a = 0.05\n",
    "\n",
    "stat, p = ss.f_oneway(cdf['male_pop'],cdf['female_pop'])\n",
    "print(f'Statistic: {stat}\\nP-Value: {p:.3f}')\n",
    "if p <= a:\n",
    "    print('Statistically significant / We can trust the statistic')\n",
    "    print(f'Reject H0: {H0}')\n",
    "else:\n",
    "    print('Statistically not significant / We cannot trust the statistic')\n",
    "    print(f'Accept H0: {H0}')\n"
   ]
  },
  {
   "cell_type": "markdown",
   "metadata": {
    "id": "k7yOLnNgsRAN"
   },
   "source": [
    "## Conclusions\n",
    "\n",
    "- Statistical tests are great for hypothesis testing\n",
    "- Is very important to know what type of test to use and when to use it, but you can do that just by looking at your variables\n",
    "\n",
    "Follow up topics and questions:\n",
    "- Have a look on Harvey-Collier multiplier test for linearity\n",
    "- How do we meassure right the statistic from each test\n",
    "- When having a P-Value == 0 mens the test failed and when not\n"
   ]
  }
 ],
 "metadata": {
  "colab": {
   "collapsed_sections": [
    "efS8-u_JobeJ",
    "oHpeNxHQ-r4h",
    "KXhrRTYLqDNF",
    "2h4uxAwPqAV7",
    "3R9XgldloYOX",
    "8MUt4xlYIzqU",
    "uLKuNXIKpCfF",
    "j46D7w6VoTol",
    "dVFbcGn8oyMH",
    "Hukn4fEHo9kB"
   ],
   "name": "2021-01-29-Statistical-Testing.ipynb",
   "provenance": []
  },
  "kernelspec": {
   "display_name": "Python 3",
   "language": "python",
   "name": "python3"
  },
  "language_info": {
   "codemirror_mode": {
    "name": "ipython",
    "version": 3
   },
   "file_extension": ".py",
   "mimetype": "text/x-python",
   "name": "python",
   "nbconvert_exporter": "python",
   "pygments_lexer": "ipython3",
   "version": "3.8.5"
  }
 },
 "nbformat": 4,
 "nbformat_minor": 4
}

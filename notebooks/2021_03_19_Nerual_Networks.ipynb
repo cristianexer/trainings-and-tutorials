{
  "nbformat": 4,
  "nbformat_minor": 0,
  "metadata": {
    "colab": {
      "name": "2021-03-19-Nerual-Networks.ipynb",
      "provenance": [],
      "collapsed_sections": [
        "CWzyirG7i-_I",
        "9jXUP8iElOoD",
        "LgPO8EtzjEO0",
        "rfNOO7kbUmqC",
        "q0iW3-NxDOia",
        "p3nAjJj1kugd",
        "HhnPRqPUlqCN",
        "1AMdd4N0QD4f",
        "-SEGtyQhsBo_"
      ],
      "authorship_tag": "ABX9TyOMzlrCT/T/ozcTqGB4JNd0",
      "include_colab_link": true
    },
    "kernelspec": {
      "name": "python3",
      "display_name": "Python 3"
    }
  },
  "cells": [
    {
      "cell_type": "markdown",
      "metadata": {
        "id": "view-in-github",
        "colab_type": "text"
      },
      "source": [
        "<a href=\"https://colab.research.google.com/github/cristianexer/tmp/blob/main/2021_03_19_Nerual_Networks.ipynb\" target=\"_parent\"><img src=\"https://colab.research.google.com/assets/colab-badge.svg\" alt=\"Open In Colab\"/></a>"
      ]
    },
    {
      "cell_type": "markdown",
      "metadata": {
        "id": "CWzyirG7i-_I"
      },
      "source": [
        "# Neural Networks from scratch"
      ]
    },
    {
      "cell_type": "markdown",
      "metadata": {
        "id": "huwpAs6RkwTH"
      },
      "source": [
        "![](https://www.asimovinstitute.org/wp-content/uploads/2019/04/NeuralNetworkZoo20042019-1400x2380.png)"
      ]
    },
    {
      "cell_type": "markdown",
      "metadata": {
        "id": "9jXUP8iElOoD"
      },
      "source": [
        "## Background Research"
      ]
    },
    {
      "cell_type": "markdown",
      "metadata": {
        "id": "TE1AhUWbrNMG"
      },
      "source": [
        "**What are neural networks ?**"
      ]
    },
    {
      "cell_type": "markdown",
      "metadata": {
        "id": "0F65m-ElmG5w"
      },
      "source": [
        "Artificial Neural Networks(ANN) are efficient data-driven modelling tools widely used for nonlinear systems dynamic modelling and identification, due to their universal approximation capabilities and flexible structure that allow to capture complex nonlinear behaviors. Feed-forward multi-layer perceptron ANNs type is frequently used in engineering applications "
      ]
    },
    {
      "cell_type": "markdown",
      "metadata": {
        "id": "7eNzABYPryRO"
      },
      "source": [
        "**Common Types of ANNs:**\n",
        "\n",
        "- Feedforward\n",
        "    - Information passes through in a single direction from an entry point or input node to an exit point or output node. It differs from other more complex ANN types in that it does not have feedback connections where the output from each layer of neurons is fed back to it for learning. A feedforward neural network does not form a cycle or loop to allow a program to learn.\n",
        "\n",
        "    - Applications: Feedforward neural networks are used in computer vision and facial recognition applications.\n",
        "\n",
        "- Radial Basic Functions (RBF)\n",
        "    - Radial basic functions consider the distance of a point with respect to the center. RBF functions have two layers, first where the features are combined with the Radial Basis Function in the inner layer and then the output of these features are taken into consideration while computing the same output in the next time-step which is basically a memory.\n",
        "    - Applications: This neural network has been applied in Power Restoration Systems. Power systems have increased in size and complexity. Both factors increase the risk of major power outages. After a blackout, power needs to be restored as quickly and reliably as possible. \n",
        "\n",
        "- Recurrent Neural Network (RNN)\n",
        "    - This type of ANN is similar to a feedforward neural network, but it saves the output of a specific layer and feeds it back as input. As a result, it can help predict several possible outcomes from any particular layer.\n",
        "\n",
        "    - Drilling down to specifics: If the first layer receives the output and sends it back as input, the next layers will start the recurrent neural network process. Each node retains a memory from the previous step. And so, the system remembers wrong predictions and learns from them to improve its next ones. In short, RNNs can learn from each step to predict the outcome in the next step.\n",
        "\n",
        "    - Applications: RNNs are used in text-to-speech applications that predict what users may want to say next, depending on the context of their initial input.\n",
        "\n",
        "- Multilayer Perceptron (MLP)\n",
        "    - This type of ANN has three or more layers that classify data that cannot be linearly separated (i.e., go through a straight path). Thus, it is fully connected, which means that each node within a layer is connected to the succeeding node in the next layer.\n",
        "\n",
        "    - Applications: MLPs aid in speech recognition and machine translation technologies.\n",
        "\n",
        "\n",
        "- Kohonen Self Organizing Neural Network ( also known as Self-Organising Maps)\n",
        "    - The objective of a Kohonen map is to input vectors of arbitrary dimension to discrete map comprised of neurons. The map needs to be trained to create its own organization of the training data. It comprises either one or two dimensions. When training the map the location of the neuron remains constant but the weights differ depending on the value. This self-organization process has different parts, in the first phase, every neuron value is initialized with a small weight and the input vector.\n",
        "\n",
        "    - In the second phase, the neuron closest to the point is the ‘winning neuron’ and the neurons connected to the winning neuron will also move towards the point like in the graphic below. The distance between the point and the neurons is calculated by the euclidean distance, the neuron with the least distance wins. Through the iterations, all the points are clustered and each neuron represents each kind of cluster\n",
        "    - Applications: Kohonen Neural Network is used to recognize patterns in the data. Its application can be found in medical analysis to cluster data into different categories. Kohonen map was able to classify patients having glomerular or tubular with an high accuracy\n",
        "\n"
      ]
    },
    {
      "cell_type": "markdown",
      "metadata": {
        "id": "kXFFoE1t2AAr"
      },
      "source": [
        "**Why Neural Networks ?**"
      ]
    },
    {
      "cell_type": "markdown",
      "metadata": {
        "id": "NE3vTXCIllFb"
      },
      "source": [
        "## How do they work ?"
      ]
    },
    {
      "cell_type": "markdown",
      "metadata": {
        "id": "cjCyVnPH88So"
      },
      "source": [
        "A NN consists of a series of units called \"neurons\". These are usually simple processing units which take one or more inputs and produce an output. Each input to a neuron has an associated \"weight\" which modifies the strength of the input. When a NN is trained, these weights are adjusted to bring the output as close as possible to that desired.\n",
        "\n",
        "The essence of NNs is to \"learn\" the weights that best replicate the desired output given a series of inputs.\n",
        "\n",
        "For given input values, the NN looks at the difference between the calculated output and the desired output, and then, starting with the Output layer and working back to the Input layer, adjusts the weights according to their contribution to this difference. Usually all the weights are adjusted together - that is the changes to all the weights are calculated and then implemented simultaneously, rather than changing each weight one at a time."
      ]
    },
    {
      "cell_type": "markdown",
      "metadata": {
        "id": "rK8BUlXb7KS5"
      },
      "source": [
        "![](https://miro.medium.com/max/700/1*VYCxF4prixcjppys3EK5IQ.png)"
      ]
    },
    {
      "cell_type": "markdown",
      "metadata": {
        "id": "NuA6CE8zi9Jy"
      },
      "source": [
        "**Imports**"
      ]
    },
    {
      "cell_type": "code",
      "metadata": {
        "id": "b_lu1Jqnl0G9"
      },
      "source": [
        "import pandas as pd\n",
        "import numpy as np\n",
        "\n",
        "from matplotlib import pyplot as plt\n",
        "import seaborn as sns\n",
        "sns.set_style('whitegrid')\n",
        "\n",
        "from sklearn import metrics\n",
        "from sklearn.model_selection import train_test_split\n",
        "from sklearn.datasets import load_wine, make_classification, make_regression"
      ],
      "execution_count": null,
      "outputs": []
    },
    {
      "cell_type": "markdown",
      "metadata": {
        "id": "_rix4RuPlvoY"
      },
      "source": [
        "### Classification"
      ]
    },
    {
      "cell_type": "markdown",
      "metadata": {
        "id": "LgPO8EtzjEO0"
      },
      "source": [
        "#### One Epoch Training"
      ]
    },
    {
      "cell_type": "markdown",
      "metadata": {
        "id": "Z4hTMYYRU0Xw"
      },
      "source": [
        "**Parameters Specs**"
      ]
    },
    {
      "cell_type": "markdown",
      "metadata": {
        "id": "No-SYOLrU3Xm"
      },
      "source": [
        "Using those parameters we can define our initial random matrices"
      ]
    },
    {
      "cell_type": "code",
      "metadata": {
        "id": "LXy9dl8QUsL0"
      },
      "source": [
        "n_features = 5\n",
        "n_hidden_layers = 4\n",
        "n_targets = 1"
      ],
      "execution_count": null,
      "outputs": []
    },
    {
      "cell_type": "markdown",
      "metadata": {
        "id": "lwLpehs1Ru3H"
      },
      "source": [
        "**Classification dummy data**"
      ]
    },
    {
      "cell_type": "code",
      "metadata": {
        "colab": {
          "base_uri": "https://localhost:8080/"
        },
        "id": "U-wkhsqfeYdw",
        "outputId": "8c4eb197-7da7-4c61-dda8-88077b84d888"
      },
      "source": [
        "X,y = make_classification(n_samples=2000, n_features=n_features)\n",
        "train_X,test_X, train_y, test_y = train_test_split(X,y,random_state=42,test_size=0.33)\n",
        "train_X.shape,train_y.shape"
      ],
      "execution_count": null,
      "outputs": [
        {
          "output_type": "execute_result",
          "data": {
            "text/plain": [
              "((1340, 5), (1340,))"
            ]
          },
          "metadata": {
            "tags": []
          },
          "execution_count": 3
        }
      ]
    },
    {
      "cell_type": "markdown",
      "metadata": {
        "id": "HeBRkDd_VW6_"
      },
      "source": [
        "**Input Weight Matrix**"
      ]
    },
    {
      "cell_type": "markdown",
      "metadata": {
        "id": "xAg8Gk-gkmjE"
      },
      "source": [
        ">These dimensions are based on number of rows equals the number of attributes for the observations in our training set. The number columns equals the number of neurons in the hidden layer. The dimensions of the weights matrix between two layers is determined by the sizes of the two layers it connects. There is one weight for every input-to-neuron connection between the layers."
      ]
    },
    {
      "cell_type": "code",
      "metadata": {
        "id": "SpW6Fk3aVQij",
        "colab": {
          "base_uri": "https://localhost:8080/"
        },
        "outputId": "050420cd-a332-418f-d00e-fde99c4fb5e6"
      },
      "source": [
        "W_1 = np.random.randn(n_hidden_layers, n_features) * 0.01\n",
        "W_1"
      ],
      "execution_count": null,
      "outputs": [
        {
          "output_type": "execute_result",
          "data": {
            "text/plain": [
              "array([[-0.00631188,  0.00683958, -0.0085386 , -0.00136799, -0.00662717],\n",
              "       [-0.00056565, -0.00748994, -0.00130406,  0.00115884, -0.00693   ],\n",
              "       [ 0.01604485,  0.00461277, -0.00223851, -0.01027897, -0.00144147],\n",
              "       [-0.0025016 ,  0.00651565,  0.00697293, -0.00438075,  0.00644069]])"
            ]
          },
          "metadata": {
            "tags": []
          },
          "execution_count": 4
        }
      ]
    },
    {
      "cell_type": "markdown",
      "metadata": {
        "id": "YU9f8svbVVhb"
      },
      "source": [
        "**Bias Vector for the inpurt weight matrix**"
      ]
    },
    {
      "cell_type": "markdown",
      "metadata": {
        "id": "kOa0WIAKVwsf"
      },
      "source": [
        ">Bias is just like an intercept added in a linear equation. It is an additional parameter in the Neural Network which is used to adjust the output along with the weighted sum of the inputs to the neuron. Moreover, bias value allows you to shift the activation function to either right or left."
      ]
    },
    {
      "cell_type": "code",
      "metadata": {
        "id": "qF0vqjYdVV8U",
        "colab": {
          "base_uri": "https://localhost:8080/"
        },
        "outputId": "11436205-9968-414e-9cc4-4d8b5058cc04"
      },
      "source": [
        "b_1 = np.zeros(shape=(n_hidden_layers, 1))\n",
        "b_1"
      ],
      "execution_count": null,
      "outputs": [
        {
          "output_type": "execute_result",
          "data": {
            "text/plain": [
              "array([[0.],\n",
              "       [0.],\n",
              "       [0.],\n",
              "       [0.]])"
            ]
          },
          "metadata": {
            "tags": []
          },
          "execution_count": 5
        }
      ]
    },
    {
      "cell_type": "markdown",
      "metadata": {
        "id": "4bI3GtjkVbUW"
      },
      "source": [
        "**Output Weight Matrix**"
      ]
    },
    {
      "cell_type": "code",
      "metadata": {
        "id": "3q1L3d_fUz00",
        "colab": {
          "base_uri": "https://localhost:8080/"
        },
        "outputId": "e31a0541-8877-4fbf-cc5c-61351e2e514c"
      },
      "source": [
        "W_2 = np.random.randn(n_targets, n_hidden_layers) * 0.01\n",
        "W_2"
      ],
      "execution_count": null,
      "outputs": [
        {
          "output_type": "execute_result",
          "data": {
            "text/plain": [
              "array([[ 0.00300714,  0.00634344, -0.00683559,  0.00707612]])"
            ]
          },
          "metadata": {
            "tags": []
          },
          "execution_count": 6
        }
      ]
    },
    {
      "cell_type": "markdown",
      "metadata": {
        "id": "PfwQF5VAVaUf"
      },
      "source": [
        "**Bias Vector for the output weight matrix**"
      ]
    },
    {
      "cell_type": "code",
      "metadata": {
        "id": "z3S0syuzVaFH",
        "colab": {
          "base_uri": "https://localhost:8080/"
        },
        "outputId": "9fdec41e-d0c5-4da5-8b3a-d8dfa4619189"
      },
      "source": [
        "b_2 = np.zeros(shape=(n_hidden_layers, 1))\n",
        "b_2"
      ],
      "execution_count": null,
      "outputs": [
        {
          "output_type": "execute_result",
          "data": {
            "text/plain": [
              "array([[0.],\n",
              "       [0.],\n",
              "       [0.],\n",
              "       [0.]])"
            ]
          },
          "metadata": {
            "tags": []
          },
          "execution_count": 7
        }
      ]
    },
    {
      "cell_type": "markdown",
      "metadata": {
        "id": "3K8nsJIn9UkY"
      },
      "source": [
        "The activation function is applied to the weighted sum of the inputs of a neuron to translate the inputs to an output. Good candidates for transfer functions are bounded, monotonic, continuous and differentiable everywhere. "
      ]
    },
    {
      "cell_type": "markdown",
      "metadata": {
        "id": "aUK49DxAe3KB"
      },
      "source": [
        "**Sigmoid Activation Fucntion**"
      ]
    },
    {
      "cell_type": "code",
      "metadata": {
        "id": "0btJFUWOe2-Y"
      },
      "source": [
        "sigmoid = lambda x: (1/(1 + np.exp(-x)))"
      ],
      "execution_count": null,
      "outputs": []
    },
    {
      "cell_type": "markdown",
      "metadata": {
        "id": "vUf0mWhTe-rs"
      },
      "source": [
        "**Feed Forward**"
      ]
    },
    {
      "cell_type": "code",
      "metadata": {
        "id": "n5hns--Ve6XF"
      },
      "source": [
        "Z_1 = np.dot(W_1,train_X.T) + b_1\n",
        "A_1 = np.tanh(Z_1)\n",
        "Z_2 = np.dot(W_2,A_1) + b_2\n",
        "A_2 = sigmoid(Z_2)"
      ],
      "execution_count": null,
      "outputs": []
    },
    {
      "cell_type": "markdown",
      "metadata": {
        "id": "wcXuv1WkfOI0"
      },
      "source": [
        "at this point A2 has our predicted probabilities for the train dataframe"
      ]
    },
    {
      "cell_type": "code",
      "metadata": {
        "colab": {
          "base_uri": "https://localhost:8080/"
        },
        "id": "erPqYbTIfNqR",
        "outputId": "119ed0b2-4cb8-4c30-c5b5-8e04d2cad7ae"
      },
      "source": [
        "A_2"
      ],
      "execution_count": null,
      "outputs": [
        {
          "output_type": "execute_result",
          "data": {
            "text/plain": [
              "array([[0.50005643, 0.49999254, 0.50002491, ..., 0.4998932 , 0.500028  ,\n",
              "        0.49998286],\n",
              "       [0.50005643, 0.49999254, 0.50002491, ..., 0.4998932 , 0.500028  ,\n",
              "        0.49998286],\n",
              "       [0.50005643, 0.49999254, 0.50002491, ..., 0.4998932 , 0.500028  ,\n",
              "        0.49998286],\n",
              "       [0.50005643, 0.49999254, 0.50002491, ..., 0.4998932 , 0.500028  ,\n",
              "        0.49998286]])"
            ]
          },
          "metadata": {
            "tags": []
          },
          "execution_count": 10
        }
      ]
    },
    {
      "cell_type": "markdown",
      "metadata": {
        "id": "NkB6GFI1hG68"
      },
      "source": [
        "**Now we compute the cost which in this case is Cross Entropy Loss also konown as logloss**\n"
      ]
    },
    {
      "cell_type": "code",
      "metadata": {
        "colab": {
          "base_uri": "https://localhost:8080/"
        },
        "id": "AMMh2iOPhAuJ",
        "outputId": "5fd338f9-07dc-4c35-ad1a-5b765c022d27"
      },
      "source": [
        "epsilon=1e-15\n",
        "loss = -1 * (train_y.reshape(1, train_y.shape[0]) * np.log(A_2 + epsilon) + (1 - train_y.reshape(1, train_y.shape[0])) * np.log(1 - A_2 + epsilon))\n",
        "cost = 1 / len(train_y.reshape(1, train_y.shape[0])) * np.sum(loss)\n",
        "cost = np.squeeze(cost)\n",
        "cost"
      ],
      "execution_count": null,
      "outputs": [
        {
          "output_type": "execute_result",
          "data": {
            "text/plain": [
              "3715.2557736260746"
            ]
          },
          "metadata": {
            "tags": []
          },
          "execution_count": 11
        }
      ]
    },
    {
      "cell_type": "markdown",
      "metadata": {
        "id": "q-FoyiI_hobr"
      },
      "source": [
        "**Calculate the gradients which we will use to update the weights**"
      ]
    },
    {
      "cell_type": "code",
      "metadata": {
        "id": "JDxxwyv5hfSw"
      },
      "source": [
        "d_Z2 = A_2 - train_y.reshape(1, train_y.shape[0])\n",
        "d_W2 = (1 / len(train_X)) * np.dot(d_Z2, A_1.T)\n",
        "db_2 = (1 / len(train_X)) * np.sum(d_Z2, axis=1, keepdims=True)\n",
        "d_Z1 = np.multiply(np.dot(W_2, d_Z2), 1 - np.power(A_1, 2))\n",
        "d_W1 = (1 / len(train_X)) * np.dot(d_Z1, train_X)\n",
        "db_1 = (1 / len(train_X)) * np.sum(d_Z1, axis=1, keepdims=True)"
      ],
      "execution_count": null,
      "outputs": []
    },
    {
      "cell_type": "markdown",
      "metadata": {
        "id": "_vqR5R_RioPd"
      },
      "source": [
        "**Learning Rate**"
      ]
    },
    {
      "cell_type": "code",
      "metadata": {
        "id": "iG2I6Kd1ikxH"
      },
      "source": [
        "lr = 0.03"
      ],
      "execution_count": null,
      "outputs": []
    },
    {
      "cell_type": "markdown",
      "metadata": {
        "id": "9s9JknL6kD8o"
      },
      "source": [
        "**Upade the Weight matrix and Bias vector using the caluclated graadients from previous step**"
      ]
    },
    {
      "cell_type": "code",
      "metadata": {
        "id": "mfF8E1eSiS01"
      },
      "source": [
        "W_1 = W_1 - lr * d_W1\n",
        "b_1 = b_1 - lr * db_1\n",
        "W_2 = W_2 - lr * d_W2\n",
        "b_2 = b_2 - lr * db_2"
      ],
      "execution_count": null,
      "outputs": []
    },
    {
      "cell_type": "markdown",
      "metadata": {
        "id": "BqXLs6aGizUX"
      },
      "source": [
        "**After we have updated the weights we can use the feed forward steps to get the new predictions**\n",
        "\n",
        "at this point we have trained 1 epoch"
      ]
    },
    {
      "cell_type": "code",
      "metadata": {
        "id": "My6-wtvBiv2t"
      },
      "source": [
        "Z_1 = np.dot(W_1,train_X.T) + b_1\n",
        "A_1 = np.tanh(Z_1)\n",
        "Z_2 = np.dot(W_2,A_1) + b_2\n",
        "A_2 = sigmoid(Z_2)"
      ],
      "execution_count": null,
      "outputs": []
    },
    {
      "cell_type": "code",
      "metadata": {
        "colab": {
          "base_uri": "https://localhost:8080/"
        },
        "id": "K4IIeLlJi985",
        "outputId": "f3da16c0-8ec5-4263-d698-337286d8e4c0"
      },
      "source": [
        "A_2"
      ],
      "execution_count": null,
      "outputs": [
        {
          "output_type": "execute_result",
          "data": {
            "text/plain": [
              "array([[0.50003713, 0.4999723 , 0.5000013 , ..., 0.49987011, 0.5000108 ,\n",
              "        0.49995933],\n",
              "       [0.50003713, 0.4999723 , 0.5000013 , ..., 0.49987011, 0.5000108 ,\n",
              "        0.49995933],\n",
              "       [0.50003713, 0.4999723 , 0.5000013 , ..., 0.49987011, 0.5000108 ,\n",
              "        0.49995933],\n",
              "       [0.50003713, 0.4999723 , 0.5000013 , ..., 0.49987011, 0.5000108 ,\n",
              "        0.49995933]])"
            ]
          },
          "metadata": {
            "tags": []
          },
          "execution_count": 16
        }
      ]
    },
    {
      "cell_type": "markdown",
      "metadata": {
        "id": "O-iAAJ_Kj2Lh"
      },
      "source": [
        "The results have not changed that much compared with the initial epoch, so let's wrap this code into a class and train our neural network for a different number of epochs"
      ]
    },
    {
      "cell_type": "markdown",
      "metadata": {
        "id": "rfNOO7kbUmqC"
      },
      "source": [
        "#### Let's wrap this up in a class"
      ]
    },
    {
      "cell_type": "code",
      "metadata": {
        "id": "V6yUqt3s9KoU"
      },
      "source": [
        "class NN(object):\n",
        "\n",
        "    def __init__(self, input_size, hidden_size, output_size,learning_rate=0.03):\n",
        "        # parameters shapes\n",
        "        self.input_size = input_size\n",
        "        self.hidden_size = hidden_size\n",
        "        self.output_size = output_size\n",
        "        self.learning_rate = learning_rate\n",
        "        # init weights matrices\n",
        "        self.init_parameters()\n",
        "\n",
        "    def init_parameters(self):\n",
        "\n",
        "        self.W1 = np.random.randn(self.hidden_size,self.input_size) * 0.01\n",
        "        self.b1 = np.zeros(shape=(self.hidden_size, 1))\n",
        "\n",
        "        self.W2 = np.random.randn(self.output_size,self.hidden_size) * 0.01\n",
        "        self.b2 = np.zeros(shape=(self.hidden_size, 1))\n",
        "\n",
        "    def sigmoid(self,x): \n",
        "        return (1/(1 + np.exp(-x)))\n",
        "\n",
        "    def forward(self,X):\n",
        "        Z1 = np.dot(self.W1,X) + self.b1\n",
        "        A1 = np.tanh(Z1)\n",
        "        Z2 = np.dot(self.W2,A1) +self.b2\n",
        "        A2 = self.sigmoid(Z2) # Final output prediction\n",
        "        return A1,A2\n",
        "\n",
        "    def cost(self, y_true, y_pred, epsilon=1e-15):\n",
        "\n",
        "        loss = -1 * (y_true * np.log(y_pred + epsilon) + (1 - y_true) * np.log(1 - y_pred + epsilon))\n",
        "        cost = 1 / len(y_true) * np.sum(loss)\n",
        "        return np.log(np.squeeze(cost))\n",
        "\n",
        "    def back_propagation(self, X, Y, A1, A2):\n",
        "        number_of_training_samples = len(X)\n",
        "        # compute gradients\n",
        "        dZ2 = A2 - Y\n",
        "        dW2 = (1.0 / number_of_training_samples) * np.dot(dZ2, A1.T)\n",
        "        db2 = (1.0 / number_of_training_samples) * np.sum(dZ2, axis=1, keepdims=True)\n",
        "\n",
        "        dZ1 = np.multiply(\n",
        "            np.dot(self.W2, dZ2), \n",
        "            1.0 - np.power(A1, 2)\n",
        "        )\n",
        "\n",
        "        dW1 = (1.0 / number_of_training_samples) * np.dot(dZ1, X.T)\n",
        "        db1 = (1.0 / number_of_training_samples) * np.sum(dZ1, axis=1, keepdims=True)\n",
        "\n",
        "        # update weights\n",
        "        self.W1 -= (self.learning_rate * dW1)\n",
        "        self.b1 -= (self.learning_rate * db1)\n",
        "        self.W2 = self.W2.T - (self.learning_rate * dW2)\n",
        "        self.b2 -= (self.learning_rate * db2)\n",
        "        \n",
        "    def fit(self, X, y_true, epochs=10,verbose=1):\n",
        "        X = X.T\n",
        "        y_true = y_true.reshape(1, y_true.shape[0])\n",
        "        for epoch in range(epochs):\n",
        "            \n",
        "            A1,y_pred = self.forward(X)\n",
        "\n",
        "            c = self.cost(y_true,y_pred)\n",
        "\n",
        "            self.back_propagation(X,y_true,A1,y_pred)\n",
        "            if epoch % verbose == 0:\n",
        "                print(f'Epoch:{epoch}/{epochs} - cost: {c}')\n",
        "            \n",
        "    def predict(self,X):\n",
        "        X = X.T\n",
        "        _,A2 = self.forward(X)\n",
        "        return [x.max() for x in A2.T]"
      ],
      "execution_count": null,
      "outputs": []
    },
    {
      "cell_type": "markdown",
      "metadata": {
        "id": "RxQ-iQ3PjnDL"
      },
      "source": [
        "**Now let's use our Neural Network**"
      ]
    },
    {
      "cell_type": "code",
      "metadata": {
        "colab": {
          "base_uri": "https://localhost:8080/"
        },
        "id": "1bJgdDmsDV5x",
        "outputId": "a0c270b5-355f-47a1-eba0-8bc634e9316d"
      },
      "source": [
        "nn = NN(n_features,1,n_targets)\n",
        "nn.fit(train_X,train_y,epochs=25,verbose=5)"
      ],
      "execution_count": null,
      "outputs": [
        {
          "output_type": "stream",
          "text": [
            "Epoch:0/25 - cost: 6.833917509275361\n",
            "Epoch:5/25 - cost: 6.323870635462693\n",
            "Epoch:10/25 - cost: 6.295877828598754\n",
            "Epoch:15/25 - cost: 6.287888994154125\n",
            "Epoch:20/25 - cost: 6.282035530484422\n"
          ],
          "name": "stdout"
        }
      ]
    },
    {
      "cell_type": "markdown",
      "metadata": {
        "id": "-8D0ybowGxRG"
      },
      "source": [
        "**Apply Model on Test data**"
      ]
    },
    {
      "cell_type": "code",
      "metadata": {
        "colab": {
          "base_uri": "https://localhost:8080/",
          "height": 160
        },
        "id": "bobqY2HfKcB8",
        "outputId": "f995c457-4703-4e86-9fca-bfc0ffef7da3"
      },
      "source": [
        "results = pd.DataFrame(test_X)\n",
        "results['y_true'] = test_y\n",
        "results['y_pred'] = nn.predict(test_X)\n",
        "results[:3]"
      ],
      "execution_count": null,
      "outputs": [
        {
          "output_type": "execute_result",
          "data": {
            "text/html": [
              "<div>\n",
              "<style scoped>\n",
              "    .dataframe tbody tr th:only-of-type {\n",
              "        vertical-align: middle;\n",
              "    }\n",
              "\n",
              "    .dataframe tbody tr th {\n",
              "        vertical-align: top;\n",
              "    }\n",
              "\n",
              "    .dataframe thead th {\n",
              "        text-align: right;\n",
              "    }\n",
              "</style>\n",
              "<table border=\"1\" class=\"dataframe\">\n",
              "  <thead>\n",
              "    <tr style=\"text-align: right;\">\n",
              "      <th></th>\n",
              "      <th>0</th>\n",
              "      <th>1</th>\n",
              "      <th>2</th>\n",
              "      <th>3</th>\n",
              "      <th>4</th>\n",
              "      <th>y_true</th>\n",
              "      <th>y_pred</th>\n",
              "    </tr>\n",
              "  </thead>\n",
              "  <tbody>\n",
              "    <tr>\n",
              "      <th>0</th>\n",
              "      <td>0.501031</td>\n",
              "      <td>-2.350484</td>\n",
              "      <td>1.948580</td>\n",
              "      <td>-2.870213</td>\n",
              "      <td>-0.263953</td>\n",
              "      <td>0</td>\n",
              "      <td>0.129548</td>\n",
              "    </tr>\n",
              "    <tr>\n",
              "      <th>1</th>\n",
              "      <td>-1.712485</td>\n",
              "      <td>-2.600663</td>\n",
              "      <td>1.290135</td>\n",
              "      <td>-1.890028</td>\n",
              "      <td>1.750550</td>\n",
              "      <td>0</td>\n",
              "      <td>0.129549</td>\n",
              "    </tr>\n",
              "    <tr>\n",
              "      <th>2</th>\n",
              "      <td>-2.766780</td>\n",
              "      <td>-1.883156</td>\n",
              "      <td>0.351031</td>\n",
              "      <td>-0.502650</td>\n",
              "      <td>-0.197338</td>\n",
              "      <td>1</td>\n",
              "      <td>0.131501</td>\n",
              "    </tr>\n",
              "  </tbody>\n",
              "</table>\n",
              "</div>"
            ],
            "text/plain": [
              "          0         1         2         3         4  y_true    y_pred\n",
              "0  0.501031 -2.350484  1.948580 -2.870213 -0.263953       0  0.129548\n",
              "1 -1.712485 -2.600663  1.290135 -1.890028  1.750550       0  0.129549\n",
              "2 -2.766780 -1.883156  0.351031 -0.502650 -0.197338       1  0.131501"
            ]
          },
          "metadata": {
            "tags": []
          },
          "execution_count": 19
        }
      ]
    },
    {
      "cell_type": "markdown",
      "metadata": {
        "id": "M5_T7xJZGz7E"
      },
      "source": [
        "**Metrics**"
      ]
    },
    {
      "cell_type": "code",
      "metadata": {
        "colab": {
          "base_uri": "https://localhost:8080/"
        },
        "id": "fuWrcKiCTQOk",
        "outputId": "716e9237-9d5d-471e-ce49-6e82d35f7601"
      },
      "source": [
        "print('Accuracy: ',metrics.accuracy_score(results['y_true'],results['y_pred'].gt(.5).astype(int)))"
      ],
      "execution_count": null,
      "outputs": [
        {
          "output_type": "stream",
          "text": [
            "Accuracy:  0.8272727272727273\n"
          ],
          "name": "stdout"
        }
      ]
    },
    {
      "cell_type": "code",
      "metadata": {
        "colab": {
          "base_uri": "https://localhost:8080/"
        },
        "id": "Hyqf6lDiT77A",
        "outputId": "4cd1cc14-c9df-4ba4-d4c0-00cc59592ba2"
      },
      "source": [
        "print(metrics.classification_report(results['y_true'],results['y_pred'].gt(.5).astype(int)))"
      ],
      "execution_count": null,
      "outputs": [
        {
          "output_type": "stream",
          "text": [
            "              precision    recall  f1-score   support\n",
            "\n",
            "           0       0.82      0.84      0.83       329\n",
            "           1       0.84      0.81      0.83       331\n",
            "\n",
            "    accuracy                           0.83       660\n",
            "   macro avg       0.83      0.83      0.83       660\n",
            "weighted avg       0.83      0.83      0.83       660\n",
            "\n"
          ],
          "name": "stdout"
        }
      ]
    },
    {
      "cell_type": "code",
      "metadata": {
        "colab": {
          "base_uri": "https://localhost:8080/",
          "height": 286
        },
        "id": "UNfvNFyPICCI",
        "outputId": "3e3c937c-c477-4d8d-f634-aa03e2c9dd35"
      },
      "source": [
        "plt.hist(results['y_true'],alpha=.7,label='Actual')\n",
        "plt.hist(results['y_pred'].gt(0.5).astype(int),alpha=.7,label='Predicted');\n",
        "plt.legend();"
      ],
      "execution_count": null,
      "outputs": [
        {
          "output_type": "display_data",
          "data": {
            "image/png": "[encoded data removed]",
            "text/plain": [
              "<Figure size 432x288 with 1 Axes>"
            ]
          },
          "metadata": {
            "tags": [],
            "needs_background": "light"
          }
        }
      ]
    },
    {
      "cell_type": "markdown",
      "metadata": {
        "id": "PGkAJ8u4lyZc"
      },
      "source": [
        "### Regression"
      ]
    },
    {
      "cell_type": "markdown",
      "metadata": {
        "id": "q0iW3-NxDOia"
      },
      "source": [
        "#### Once Epoch Training"
      ]
    },
    {
      "cell_type": "markdown",
      "metadata": {
        "id": "iFwmAE20RqRf"
      },
      "source": [
        "**Parameter Specs**"
      ]
    },
    {
      "cell_type": "code",
      "metadata": {
        "id": "yL-15RDrovx4"
      },
      "source": [
        "n_features = 20\n",
        "n_hidden_layers = 4\n",
        "n_targets = 1"
      ],
      "execution_count": null,
      "outputs": []
    },
    {
      "cell_type": "markdown",
      "metadata": {
        "id": "zaKrwHxrRsYP"
      },
      "source": [
        "**Regression dummy data**"
      ]
    },
    {
      "cell_type": "code",
      "metadata": {
        "colab": {
          "base_uri": "https://localhost:8080/"
        },
        "id": "jHJBRcZlont9",
        "outputId": "962f74a1-86dd-4fbe-dc7b-77d7cb2e18b8"
      },
      "source": [
        "X,y = make_regression(n_samples=2000, n_features=n_features)\n",
        "train_X,test_X, train_y, test_y = train_test_split(X,y,random_state=42,test_size=0.33)\n",
        "train_X.shape,train_y.shape"
      ],
      "execution_count": null,
      "outputs": [
        {
          "output_type": "execute_result",
          "data": {
            "text/plain": [
              "((1340, 20), (1340,))"
            ]
          },
          "metadata": {
            "tags": []
          },
          "execution_count": 24
        }
      ]
    },
    {
      "cell_type": "markdown",
      "metadata": {
        "id": "O85YMMi5RyKF"
      },
      "source": [
        "**Core functions**"
      ]
    },
    {
      "cell_type": "code",
      "metadata": {
        "id": "2DR9ukKGief9"
      },
      "source": [
        "def predict(w,x):\n",
        "    result = x.T * w\n",
        "    return np.mean(result,axis=1)\n",
        "\n",
        "def gradient(w, x, t):\n",
        "    return 2 * x.T * (predict(x, w) - t.reshape(1,-1).T)\n",
        "\n",
        "\n",
        "def delta_w(w_k, x, t, learning_rate):\n",
        "    return learning_rate * np.mean(gradient(w_k, x, t))\n",
        "\n",
        "def loss(y, t):\n",
        "    return np.sqrt(np.mean((t.reshape(1,-1) - y)**2))"
      ],
      "execution_count": null,
      "outputs": []
    },
    {
      "cell_type": "markdown",
      "metadata": {
        "id": "dsvwgASQvRxN"
      },
      "source": [
        "**Training the model**"
      ]
    },
    {
      "cell_type": "code",
      "metadata": {
        "id": "PmZZ0mhz15jm",
        "colab": {
          "base_uri": "https://localhost:8080/",
          "height": 520
        },
        "outputId": "2427fb09-8c92-470b-9224-e4d7b7e59623"
      },
      "source": [
        "n_hidden_layers = 1\n",
        "learning_rate = 0.1\n",
        "\n",
        "w = np.random.rand(n_hidden_layers,n_features)\n",
        "\n",
        "x = train_X.T\n",
        "t = train_y\n",
        "\n",
        "nb_of_iterations =  130\n",
        "verbose = 10\n",
        "\n",
        "for i in range(nb_of_iterations+1):\n",
        "\n",
        "    dw = delta_w(w, x, t, learning_rate)\n",
        "    w -= dw \n",
        "\n",
        "    # print(w)\n",
        "\n",
        "    if i % verbose == 0:\n",
        "        print(f'Epoch[{i+1}] - Loss: {loss(predict(w=w,x=x), t):.25}') \n",
        "\n",
        "\n",
        "plt.hist(train_y,label='Actual',alpha=.7);\n",
        "plt.hist(predict(w=w,x=x),label='Predicted',alpha=.7);\n",
        "plt.legend();"
      ],
      "execution_count": null,
      "outputs": [
        {
          "output_type": "stream",
          "text": [
            "Epoch[1] - Loss: 191.4654795507951803301694\n",
            "Epoch[11] - Loss: 185.206724676566267362432\n",
            "Epoch[21] - Loss: 179.437355634256050507247\n",
            "Epoch[31] - Loss: 174.2034113547436788849154\n",
            "Epoch[41] - Loss: 169.5518287736971103640826\n",
            "Epoch[51] - Loss: 165.5289987357509744470008\n",
            "Epoch[61] - Loss: 162.1789562720664150674565\n",
            "Epoch[71] - Loss: 159.5412906441778773114493\n",
            "Epoch[81] - Loss: 157.6489393253810362693912\n",
            "Epoch[91] - Loss: 156.5261008420152109010814\n",
            "Epoch[101] - Loss: 156.1865386407660309942003\n",
            "Epoch[111] - Loss: 156.6325294061535657874629\n",
            "Epoch[121] - Loss: 157.8546271893008281494986\n",
            "Epoch[131] - Loss: 159.8322849414541053647554\n"
          ],
          "name": "stdout"
        },
        {
          "output_type": "display_data",
          "data": {
            "image/png": "[encoded data removed]",
            "text/plain": [
              "<Figure size 432x288 with 1 Axes>"
            ]
          },
          "metadata": {
            "tags": [],
            "needs_background": "light"
          }
        }
      ]
    },
    {
      "cell_type": "markdown",
      "metadata": {
        "id": "p3nAjJj1kugd"
      },
      "source": [
        "#### Let's Wrap up into a class..again"
      ]
    },
    {
      "cell_type": "code",
      "metadata": {
        "id": "kl9mPeXmjoEp"
      },
      "source": [
        "class NNR(object):\n",
        "\n",
        "    def __init__(self, input_size, hidden_size, output_size,learning_rate=0.03):\n",
        "        # parameters shapes\n",
        "        self.input_size = input_size\n",
        "        self.hidden_size = hidden_size\n",
        "        self.output_size = output_size\n",
        "        self.learning_rate = learning_rate\n",
        "        # init weights matrices\n",
        "        self.init_parameters()\n",
        "\n",
        "    def init_parameters(self):\n",
        "\n",
        "        self.W1 = np.random.randn(self.hidden_size,self.input_size)\n",
        "\n",
        "    def predict(self, x):\n",
        "        result = x * self.W1\n",
        "        return np.mean(result,axis=1)\n",
        "\n",
        "    def gradient(self, x, t):\n",
        "        return 2 * x * (self.predict(x) - t.reshape(1,-1)).T\n",
        "\n",
        "    def delta_w(self, x, t):\n",
        "        return self.learning_rate * np.mean(self.gradient(x, t))\n",
        "\n",
        "    def cost(self,y, t):\n",
        "        return np.sqrt(np.mean((t.reshape(1,-1) - y.reshape(1,-1).T)**2))\n",
        "        \n",
        "    def fit(self, X, y_true, epochs=10,verbose=1):\n",
        "\n",
        "        for epoch in range(epochs):\n",
        "            dw = self.delta_w( X, y_true)\n",
        "            self.W1 -= dw\n",
        "\n",
        "            if epoch % verbose == 0:\n",
        "                print(f'Epoch:{epoch}/{epochs} - cost: {self.cost(self.predict(X), t):.2f}')\n"
      ],
      "execution_count": null,
      "outputs": []
    },
    {
      "cell_type": "code",
      "metadata": {
        "colab": {
          "base_uri": "https://localhost:8080/"
        },
        "id": "TdRgEEask2yA",
        "outputId": "37d7443b-a74b-4e9a-bf4e-e888f763a220"
      },
      "source": [
        "nnr = NNR(n_features,1,n_targets,learning_rate=0.1)\n",
        "nnr.fit(train_X,train_y,epochs=130,verbose=10)"
      ],
      "execution_count": null,
      "outputs": [
        {
          "output_type": "stream",
          "text": [
            "Epoch:0/130 - cost: 192.20\n",
            "Epoch:10/130 - cost: 192.55\n",
            "Epoch:20/130 - cost: 193.38\n",
            "Epoch:30/130 - cost: 194.53\n",
            "Epoch:40/130 - cost: 195.89\n",
            "Epoch:50/130 - cost: 197.38\n",
            "Epoch:60/130 - cost: 198.95\n",
            "Epoch:70/130 - cost: 200.52\n",
            "Epoch:80/130 - cost: 202.08\n",
            "Epoch:90/130 - cost: 203.60\n",
            "Epoch:100/130 - cost: 205.05\n",
            "Epoch:110/130 - cost: 206.44\n",
            "Epoch:120/130 - cost: 207.74\n"
          ],
          "name": "stdout"
        }
      ]
    },
    {
      "cell_type": "code",
      "metadata": {
        "colab": {
          "base_uri": "https://localhost:8080/",
          "height": 160
        },
        "id": "BT9cPsiZk2pa",
        "outputId": "b7120a4e-75de-4850-a64c-297ea0fcf46b"
      },
      "source": [
        "results = pd.DataFrame(test_X)\n",
        "results['y_true'] = test_y\n",
        "results['y_pred'] = nnr.predict(test_X)\n",
        "results[:3]"
      ],
      "execution_count": null,
      "outputs": [
        {
          "output_type": "execute_result",
          "data": {
            "text/html": [
              "<div>\n",
              "<style scoped>\n",
              "    .dataframe tbody tr th:only-of-type {\n",
              "        vertical-align: middle;\n",
              "    }\n",
              "\n",
              "    .dataframe tbody tr th {\n",
              "        vertical-align: top;\n",
              "    }\n",
              "\n",
              "    .dataframe thead th {\n",
              "        text-align: right;\n",
              "    }\n",
              "</style>\n",
              "<table border=\"1\" class=\"dataframe\">\n",
              "  <thead>\n",
              "    <tr style=\"text-align: right;\">\n",
              "      <th></th>\n",
              "      <th>0</th>\n",
              "      <th>1</th>\n",
              "      <th>2</th>\n",
              "      <th>3</th>\n",
              "      <th>4</th>\n",
              "      <th>5</th>\n",
              "      <th>6</th>\n",
              "      <th>7</th>\n",
              "      <th>8</th>\n",
              "      <th>9</th>\n",
              "      <th>10</th>\n",
              "      <th>11</th>\n",
              "      <th>12</th>\n",
              "      <th>13</th>\n",
              "      <th>14</th>\n",
              "      <th>15</th>\n",
              "      <th>16</th>\n",
              "      <th>17</th>\n",
              "      <th>18</th>\n",
              "      <th>19</th>\n",
              "      <th>y_true</th>\n",
              "      <th>y_pred</th>\n",
              "    </tr>\n",
              "  </thead>\n",
              "  <tbody>\n",
              "    <tr>\n",
              "      <th>0</th>\n",
              "      <td>0.300504</td>\n",
              "      <td>-1.502485</td>\n",
              "      <td>1.528171</td>\n",
              "      <td>-0.357347</td>\n",
              "      <td>-0.491012</td>\n",
              "      <td>1.574301</td>\n",
              "      <td>1.225100</td>\n",
              "      <td>-0.086599</td>\n",
              "      <td>2.255562</td>\n",
              "      <td>-0.914363</td>\n",
              "      <td>0.442334</td>\n",
              "      <td>0.576583</td>\n",
              "      <td>0.620020</td>\n",
              "      <td>-1.367436</td>\n",
              "      <td>-0.770247</td>\n",
              "      <td>-0.371141</td>\n",
              "      <td>0.555621</td>\n",
              "      <td>-0.987475</td>\n",
              "      <td>0.168115</td>\n",
              "      <td>0.113092</td>\n",
              "      <td>-21.663189</td>\n",
              "      <td>45.767221</td>\n",
              "    </tr>\n",
              "    <tr>\n",
              "      <th>1</th>\n",
              "      <td>0.343782</td>\n",
              "      <td>0.272212</td>\n",
              "      <td>-0.064699</td>\n",
              "      <td>-0.140448</td>\n",
              "      <td>-0.588566</td>\n",
              "      <td>0.670829</td>\n",
              "      <td>0.926857</td>\n",
              "      <td>-0.038570</td>\n",
              "      <td>-1.050645</td>\n",
              "      <td>-0.237553</td>\n",
              "      <td>0.500089</td>\n",
              "      <td>-0.237830</td>\n",
              "      <td>-0.013772</td>\n",
              "      <td>0.699805</td>\n",
              "      <td>-0.165918</td>\n",
              "      <td>-0.350467</td>\n",
              "      <td>-1.584418</td>\n",
              "      <td>0.688303</td>\n",
              "      <td>-0.622688</td>\n",
              "      <td>1.273929</td>\n",
              "      <td>55.503551</td>\n",
              "      <td>4.951251</td>\n",
              "    </tr>\n",
              "    <tr>\n",
              "      <th>2</th>\n",
              "      <td>-0.181931</td>\n",
              "      <td>1.456127</td>\n",
              "      <td>-0.554732</td>\n",
              "      <td>0.633134</td>\n",
              "      <td>1.119143</td>\n",
              "      <td>-0.818410</td>\n",
              "      <td>-0.876868</td>\n",
              "      <td>0.623699</td>\n",
              "      <td>-0.442342</td>\n",
              "      <td>-1.617016</td>\n",
              "      <td>0.658834</td>\n",
              "      <td>0.867214</td>\n",
              "      <td>0.097908</td>\n",
              "      <td>0.576261</td>\n",
              "      <td>-0.075242</td>\n",
              "      <td>-1.728641</td>\n",
              "      <td>0.056180</td>\n",
              "      <td>-0.735676</td>\n",
              "      <td>1.045112</td>\n",
              "      <td>1.156614</td>\n",
              "      <td>-9.055754</td>\n",
              "      <td>22.941940</td>\n",
              "    </tr>\n",
              "  </tbody>\n",
              "</table>\n",
              "</div>"
            ],
            "text/plain": [
              "          0         1         2  ...        19     y_true     y_pred\n",
              "0  0.300504 -1.502485  1.528171  ...  0.113092 -21.663189  45.767221\n",
              "1  0.343782  0.272212 -0.064699  ...  1.273929  55.503551   4.951251\n",
              "2 -0.181931  1.456127 -0.554732  ...  1.156614  -9.055754  22.941940\n",
              "\n",
              "[3 rows x 22 columns]"
            ]
          },
          "metadata": {
            "tags": []
          },
          "execution_count": 29
        }
      ]
    },
    {
      "cell_type": "code",
      "metadata": {
        "colab": {
          "base_uri": "https://localhost:8080/",
          "height": 286
        },
        "id": "WK2Kmft9k2gY",
        "outputId": "e934a19e-9467-41e7-dbe9-ce49773b4bab"
      },
      "source": [
        "plt.hist(results['y_true'],label='Actual',alpha=.7);\n",
        "plt.hist(results['y_pred'],label='Predicted',alpha=.7);\n",
        "plt.legend();"
      ],
      "execution_count": null,
      "outputs": [
        {
          "output_type": "display_data",
          "data": {
            "image/png": "[encoded data removed]",
            "text/plain": [
              "<Figure size 432x288 with 1 Axes>"
            ]
          },
          "metadata": {
            "tags": [],
            "needs_background": "light"
          }
        }
      ]
    },
    {
      "cell_type": "markdown",
      "metadata": {
        "id": "HhnPRqPUlqCN"
      },
      "source": [
        "## Let's apply them on real life data"
      ]
    },
    {
      "cell_type": "markdown",
      "metadata": {
        "id": "eVvkra6PHlFQ"
      },
      "source": [
        "***Wine recognition dataset***\n",
        "\n",
        "**Data Set Characteristics:**\n",
        "\n",
        "- Number of Instances: 178 (50 in each of three classes)\n",
        "- Number of Attributes: 13 numeric, predictive attributes and the class\n",
        "- Attribute Information:\n",
        "    - Alcohol\n",
        "    - Malic acid\n",
        "    - Ash\n",
        "    - Alcalinity of ash  \n",
        "    - Magnesium\n",
        "    - Total phenols\n",
        "    - Flavanoids\n",
        "    - Nonflavanoid phenols\n",
        "    - Proanthocyanins\n",
        "    - Color intensity\n",
        "    - Hue\n",
        "    - OD280/OD315 of diluted wines\n",
        "    - Proline\n",
        "\n",
        "- class: [ class_0, class_1, class_2 ]\n",
        "    \n"
      ]
    },
    {
      "cell_type": "markdown",
      "metadata": {
        "id": "tRULbaBbIYXO"
      },
      "source": [
        "**Load Wine Data**"
      ]
    },
    {
      "cell_type": "code",
      "metadata": {
        "id": "sBuKN4eftfxb"
      },
      "source": [
        "wine = load_wine()"
      ],
      "execution_count": null,
      "outputs": []
    },
    {
      "cell_type": "code",
      "metadata": {
        "colab": {
          "base_uri": "https://localhost:8080/"
        },
        "id": "Qsamwn16KcEX",
        "outputId": "a5c24b1d-a67f-4a7f-f8f8-8a834e86c840"
      },
      "source": [
        "wine.keys()"
      ],
      "execution_count": null,
      "outputs": [
        {
          "output_type": "execute_result",
          "data": {
            "text/plain": [
              "dict_keys(['data', 'target', 'target_names', 'DESCR', 'feature_names'])"
            ]
          },
          "metadata": {
            "tags": []
          },
          "execution_count": 32
        }
      ]
    },
    {
      "cell_type": "markdown",
      "metadata": {
        "id": "fe7w8zv8IaCE"
      },
      "source": [
        "**Add data into a dataframe**"
      ]
    },
    {
      "cell_type": "code",
      "metadata": {
        "colab": {
          "base_uri": "https://localhost:8080/",
          "height": 160
        },
        "id": "RIv6DOfdtpqF",
        "outputId": "0f4b2334-6814-4587-839b-02219290c431"
      },
      "source": [
        "data = pd.DataFrame(wine['data'],columns=wine['feature_names'])\n",
        "data['target'] = wine['target']\n",
        "data.loc[data.target==2,'target'] = 1\n",
        "data[:3]"
      ],
      "execution_count": null,
      "outputs": [
        {
          "output_type": "execute_result",
          "data": {
            "text/html": [
              "<div>\n",
              "<style scoped>\n",
              "    .dataframe tbody tr th:only-of-type {\n",
              "        vertical-align: middle;\n",
              "    }\n",
              "\n",
              "    .dataframe tbody tr th {\n",
              "        vertical-align: top;\n",
              "    }\n",
              "\n",
              "    .dataframe thead th {\n",
              "        text-align: right;\n",
              "    }\n",
              "</style>\n",
              "<table border=\"1\" class=\"dataframe\">\n",
              "  <thead>\n",
              "    <tr style=\"text-align: right;\">\n",
              "      <th></th>\n",
              "      <th>alcohol</th>\n",
              "      <th>malic_acid</th>\n",
              "      <th>ash</th>\n",
              "      <th>alcalinity_of_ash</th>\n",
              "      <th>magnesium</th>\n",
              "      <th>total_phenols</th>\n",
              "      <th>flavanoids</th>\n",
              "      <th>nonflavanoid_phenols</th>\n",
              "      <th>proanthocyanins</th>\n",
              "      <th>color_intensity</th>\n",
              "      <th>hue</th>\n",
              "      <th>od280/od315_of_diluted_wines</th>\n",
              "      <th>proline</th>\n",
              "      <th>target</th>\n",
              "    </tr>\n",
              "  </thead>\n",
              "  <tbody>\n",
              "    <tr>\n",
              "      <th>0</th>\n",
              "      <td>14.23</td>\n",
              "      <td>1.71</td>\n",
              "      <td>2.43</td>\n",
              "      <td>15.6</td>\n",
              "      <td>127.0</td>\n",
              "      <td>2.80</td>\n",
              "      <td>3.06</td>\n",
              "      <td>0.28</td>\n",
              "      <td>2.29</td>\n",
              "      <td>5.64</td>\n",
              "      <td>1.04</td>\n",
              "      <td>3.92</td>\n",
              "      <td>1065.0</td>\n",
              "      <td>0</td>\n",
              "    </tr>\n",
              "    <tr>\n",
              "      <th>1</th>\n",
              "      <td>13.20</td>\n",
              "      <td>1.78</td>\n",
              "      <td>2.14</td>\n",
              "      <td>11.2</td>\n",
              "      <td>100.0</td>\n",
              "      <td>2.65</td>\n",
              "      <td>2.76</td>\n",
              "      <td>0.26</td>\n",
              "      <td>1.28</td>\n",
              "      <td>4.38</td>\n",
              "      <td>1.05</td>\n",
              "      <td>3.40</td>\n",
              "      <td>1050.0</td>\n",
              "      <td>0</td>\n",
              "    </tr>\n",
              "    <tr>\n",
              "      <th>2</th>\n",
              "      <td>13.16</td>\n",
              "      <td>2.36</td>\n",
              "      <td>2.67</td>\n",
              "      <td>18.6</td>\n",
              "      <td>101.0</td>\n",
              "      <td>2.80</td>\n",
              "      <td>3.24</td>\n",
              "      <td>0.30</td>\n",
              "      <td>2.81</td>\n",
              "      <td>5.68</td>\n",
              "      <td>1.03</td>\n",
              "      <td>3.17</td>\n",
              "      <td>1185.0</td>\n",
              "      <td>0</td>\n",
              "    </tr>\n",
              "  </tbody>\n",
              "</table>\n",
              "</div>"
            ],
            "text/plain": [
              "   alcohol  malic_acid   ash  ...  od280/od315_of_diluted_wines  proline  target\n",
              "0    14.23        1.71  2.43  ...                          3.92   1065.0       0\n",
              "1    13.20        1.78  2.14  ...                          3.40   1050.0       0\n",
              "2    13.16        2.36  2.67  ...                          3.17   1185.0       0\n",
              "\n",
              "[3 rows x 14 columns]"
            ]
          },
          "metadata": {
            "tags": []
          },
          "execution_count": 33
        }
      ]
    },
    {
      "cell_type": "markdown",
      "metadata": {
        "id": "7Pujv_KjIfwj"
      },
      "source": [
        "**Set targets**"
      ]
    },
    {
      "cell_type": "code",
      "metadata": {
        "id": "_4xXJ21nLBEb"
      },
      "source": [
        "clf_target = 'target'\n",
        "reg_target = 'alcohol'"
      ],
      "execution_count": null,
      "outputs": []
    },
    {
      "cell_type": "markdown",
      "metadata": {
        "id": "9zGIsPDIIiYE"
      },
      "source": [
        "**Train Test Split data**"
      ]
    },
    {
      "cell_type": "code",
      "metadata": {
        "id": "xHijfEU_Dyrr"
      },
      "source": [
        "train,test = train_test_split(data, test_size=0.33, random_state=42, stratify=data[clf_target])"
      ],
      "execution_count": null,
      "outputs": []
    },
    {
      "cell_type": "markdown",
      "metadata": {
        "id": "ZBWiIXvQIkPH"
      },
      "source": [
        "**Convert dataframes to numpy arrays**"
      ]
    },
    {
      "cell_type": "code",
      "metadata": {
        "id": "h0gqlHMnEIWo"
      },
      "source": [
        "clf_train_x = train.drop([clf_target],axis=1).to_numpy()\n",
        "clf_train_y = train[clf_target].to_numpy()\n",
        "\n",
        "reg_train_x = train.drop([clf_target,reg_target],axis=1).to_numpy()\n",
        "reg_train_y = train[reg_target].to_numpy()"
      ],
      "execution_count": null,
      "outputs": []
    },
    {
      "cell_type": "markdown",
      "metadata": {
        "id": "dCU2SMuoKY7G"
      },
      "source": [
        "**Train Neural Network for Classificaiton**"
      ]
    },
    {
      "cell_type": "code",
      "metadata": {
        "id": "7rrl8F1Kt-uH",
        "colab": {
          "base_uri": "https://localhost:8080/"
        },
        "outputId": "c09af2aa-9dc7-4399-d740-85b9f1a20f4e"
      },
      "source": [
        "clf = NN(13,2,1,learning_rate=0.0001)\n",
        "clf.fit(clf_train_x,clf_train_y,verbose=10,epochs=100)"
      ],
      "execution_count": 100,
      "outputs": [
        {
          "output_type": "stream",
          "text": [
            "Epoch:0/100 - cost: 5.106135379884956\n",
            "Epoch:10/100 - cost: 5.103701414004047\n",
            "Epoch:20/100 - cost: 5.1025833977790045\n",
            "Epoch:30/100 - cost: 5.101350249521844\n",
            "Epoch:40/100 - cost: 5.10012644856383\n",
            "Epoch:50/100 - cost: 5.099012213442998\n",
            "Epoch:60/100 - cost: 5.097714378636637\n",
            "Epoch:70/100 - cost: 5.096834676637267\n",
            "Epoch:80/100 - cost: 5.095642509100944\n",
            "Epoch:90/100 - cost: 5.094579101971179\n"
          ],
          "name": "stdout"
        }
      ]
    },
    {
      "cell_type": "markdown",
      "metadata": {
        "id": "6FrQCTzWKdSc"
      },
      "source": [
        "**Results and Metrics**"
      ]
    },
    {
      "cell_type": "code",
      "metadata": {
        "id": "xoCohsrtIqs3"
      },
      "source": [
        "test_copy = test.copy()\n",
        "test_copy['y_pred'] = clf.predict(test.drop([clf_target],axis=1).to_numpy())"
      ],
      "execution_count": 101,
      "outputs": []
    },
    {
      "cell_type": "code",
      "metadata": {
        "colab": {
          "base_uri": "https://localhost:8080/"
        },
        "id": "ap_BxqweJTlK",
        "outputId": "e2b5fa9a-d3cd-43a7-ee5f-87e0003d3df0"
      },
      "source": [
        "print(metrics.classification_report(test_copy.target,test_copy.y_pred.gt(.5).astype(int),zero_division=False))"
      ],
      "execution_count": 102,
      "outputs": [
        {
          "output_type": "stream",
          "text": [
            "              precision    recall  f1-score   support\n",
            "\n",
            "           0       0.00      0.00      0.00        20\n",
            "           1       0.66      1.00      0.80        39\n",
            "\n",
            "    accuracy                           0.66        59\n",
            "   macro avg       0.33      0.50      0.40        59\n",
            "weighted avg       0.44      0.66      0.53        59\n",
            "\n"
          ],
          "name": "stdout"
        }
      ]
    },
    {
      "cell_type": "markdown",
      "metadata": {
        "id": "uu8keDzPKfY-"
      },
      "source": [
        "**Train Neural Network for Regresssion**"
      ]
    },
    {
      "cell_type": "code",
      "metadata": {
        "id": "eWUAahTTt-oD",
        "colab": {
          "base_uri": "https://localhost:8080/"
        },
        "outputId": "0ba2da52-9165-45b0-d3a2-bff0d0a52bc7"
      },
      "source": [
        "reg = NNR(12,1,1, learning_rate=0.0001)\n",
        "reg.fit(reg_train_x, reg_train_y, verbose=1, epochs=5)"
      ],
      "execution_count": 103,
      "outputs": [
        {
          "output_type": "stream",
          "text": [
            "Epoch:0/5 - cost: 192.71\n",
            "Epoch:1/5 - cost: 192.78\n",
            "Epoch:2/5 - cost: 192.76\n",
            "Epoch:3/5 - cost: 192.76\n",
            "Epoch:4/5 - cost: 192.76\n"
          ],
          "name": "stdout"
        }
      ]
    },
    {
      "cell_type": "markdown",
      "metadata": {
        "id": "OohGqBAGKkC4"
      },
      "source": [
        "**Results and Metrics**"
      ]
    },
    {
      "cell_type": "code",
      "metadata": {
        "id": "WqjP1iiiPuTP"
      },
      "source": [
        "test_copy = test.copy()\n",
        "test_copy['y_pred'] = reg.predict(test.drop([clf_target,reg_target],axis=1).to_numpy())"
      ],
      "execution_count": 104,
      "outputs": []
    },
    {
      "cell_type": "code",
      "metadata": {
        "colab": {
          "base_uri": "https://localhost:8080/"
        },
        "id": "DxHUh3-5PmNA",
        "outputId": "797239d9-7dcc-464c-fec6-3d586f270c21"
      },
      "source": [
        "print('RMSE: ',metrics.mean_squared_error(test_copy[reg_target],test_copy['y_pred'],squared=False))"
      ],
      "execution_count": 105,
      "outputs": [
        {
          "output_type": "stream",
          "text": [
            "RMSE:  6.297109835293276\n"
          ],
          "name": "stdout"
        }
      ]
    },
    {
      "cell_type": "code",
      "metadata": {
        "id": "AIQQCbjcrrFG",
        "colab": {
          "base_uri": "https://localhost:8080/",
          "height": 286
        },
        "outputId": "27e08e88-0a31-43a4-ea4b-e50195fea9e1"
      },
      "source": [
        "plt.hist(test_copy[reg_target], label='Actual', alpha=.7)\n",
        "plt.hist(test_copy['y_pred'], label='Predicted', alpha=.7)\n",
        "plt.legend();"
      ],
      "execution_count": 106,
      "outputs": [
        {
          "output_type": "display_data",
          "data": {
            "image/png": "[encoded data removed]",
            "text/plain": [
              "<Figure size 432x288 with 1 Axes>"
            ]
          },
          "metadata": {
            "tags": [],
            "needs_background": "light"
          }
        }
      ]
    },
    {
      "cell_type": "markdown",
      "metadata": {
        "id": "1AMdd4N0QD4f"
      },
      "source": [
        "## Conclusions"
      ]
    },
    {
      "cell_type": "markdown",
      "metadata": {
        "id": "I7WIaPk-QFO8"
      },
      "source": [
        "- Is essential to have at least a high level understanding of how those works, but also to know how to work around the activation functions and the optimizers which are in a very strong relationship with each other\n",
        "- You can tweak the training time and performance by adjusting the learning rate and weights properly\n",
        "- The larger dimensional space gets in the weights, the higher the training time"
      ]
    },
    {
      "cell_type": "markdown",
      "metadata": {
        "id": "-SEGtyQhsBo_"
      },
      "source": [
        "## References"
      ]
    },
    {
      "cell_type": "markdown",
      "metadata": {
        "id": "NBNYkOXvsDoc"
      },
      "source": [
        "- [Neural Net from scratch (using Numpy) by Sanjay.M](https://towardsdatascience.com/neural-net-from-scratch-using-numpy-71a31f6e3675)\n",
        "- [Artificial Neural Networks: Types and Applications by TECHSLANG](https://www.techslang.com/artificial-neural-networks-types-and-applications/)\n",
        "- [6 Types of Artificial Neural Networks Currently Being Used in Machine Learning by Kishan Maladkar ](https://analyticsindiamag.com/6-types-of-artificial-neural-networks-currently-being-used-in-todays-technology/)\n",
        "- [ML Glossary](https://ml-cheatsheet.readthedocs.io/en/latest/forwardpropagation.html)\n",
        "\n",
        "- [NN From scratch](https://towardsdatascience.com/a-neural-network-from-scratch-c09fd2dea45d)\n",
        "\n",
        "- [neural-network-implementation](https://peterroelants.github.io/posts/neural-network-implementation-part01/)"
      ]
    }
  ]
}
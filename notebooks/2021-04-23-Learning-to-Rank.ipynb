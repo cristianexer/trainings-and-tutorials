{
 "cells": [
  {
   "cell_type": "markdown",
   "metadata": {},
   "source": [
    "# Learning to Rank"
   ]
  },
  {
   "cell_type": "markdown",
   "metadata": {},
   "source": [
    "![](https://blog.griddynamics.com/content/images/2020/03/img-3-1.jpg)"
   ]
  },
  {
   "cell_type": "markdown",
   "metadata": {},
   "source": [
    "**Imports**"
   ]
  },
  {
   "cell_type": "code",
   "execution_count": 1,
   "metadata": {},
   "outputs": [],
   "source": [
    "import pandas as pd\n",
    "import numpy as np\n",
    "\n",
    "import matplotlib.pyplot as plt\n",
    "import seaborn as sns\n",
    "\n",
    "import xgboost as xgb\n",
    "\n",
    "from sklearn.linear_model import LogisticRegression\n",
    "from sklearn.model_selection import train_test_split\n",
    "from sklearn import metrics\n",
    "import shap\n",
    "\n",
    "plt.style.use('seaborn')"
   ]
  },
  {
   "cell_type": "markdown",
   "metadata": {},
   "source": [
    "## What is Ranking ?"
   ]
  },
  {
   "cell_type": "markdown",
   "metadata": {},
   "source": [
    "Ranking of query is one of the fundamental problems in information retrieval (IR), the scientific/engineering discipline behind search engines. \n",
    "\n",
    "Given a query $q$ and a collection $D$ of documents that match the query, the problem is to rank, that is, sort, the documents in $D$ according to some criterion so that the \"best\" results appear early in the result list displayed to the user. \n",
    "\n",
    "Ranking in terms of information retrieval is an important concept in computer science and is used in many different applications such as search engine queries and recommender systems. \n",
    "\n",
    "A majority of search engines use ranking algorithms to provide users with accurate and relevant results."
   ]
  },
  {
   "cell_type": "markdown",
   "metadata": {},
   "source": [
    "***Applications of Ranking:***\n",
    "- Information Retrieval\n",
    "- Collaborative Filtering\n",
    "- Automated Text Scoring (Essay Scoring)\n",
    "- Machine Translation\n",
    "- Sentence Parsing"
   ]
  },
  {
   "cell_type": "markdown",
   "metadata": {},
   "source": [
    "**Learning to Rank**"
   ]
  },
  {
   "cell_type": "markdown",
   "metadata": {},
   "source": [
    ">Learning to rank or machine-learned ranking (MLR) is the application of machine learning, typically supervised, semi-supervised or reinforcement learning, in the construction of ranking models for information retrieval systems. Training data consists of lists of items with some partial order specified between items in each list. This order is typically induced by giving a numerical or ordinal score or a binary judgment (e.g. \"relevant\" or \"not relevant\") for each item. The ranking model purposes to rank, i.e. producing a permutation of items in new, unseen lists in a similar way to rankings in the training data."
   ]
  },
  {
   "cell_type": "markdown",
   "metadata": {},
   "source": [
    "## Supervised Ranking"
   ]
  },
  {
   "cell_type": "markdown",
   "metadata": {},
   "source": [
    "### Pointwise model"
   ]
  },
  {
   "cell_type": "markdown",
   "metadata": {},
   "source": [
    "Pointwise approaches look at a single document at a time in the loss function. They essentially take a single document and train a classifier / regressor on it to predict how relevant it is for the current query. The final ranking is achieved by simply sorting the result list by these document scores. For pointwise approaches, the score for each document is independent of the other documents that are in the result list for the query.\n",
    "All the standard regression and classification algorithms can be directly used for pointwise learning to rank."
   ]
  },
  {
   "cell_type": "markdown",
   "metadata": {},
   "source": [
    "Regression, Classification, Ordinal regression (items to be ranked are treated in isolation)"
   ]
  },
  {
   "cell_type": "markdown",
   "metadata": {},
   "source": [
    "Scenario:\n",
    "We have customers searching for different movies and those have been ranked by a customer relevance score"
   ]
  },
  {
   "cell_type": "code",
   "execution_count": 91,
   "metadata": {},
   "outputs": [
    {
     "data": {
      "text/html": [
       "<div>\n",
       "<style scoped>\n",
       "    .dataframe tbody tr th:only-of-type {\n",
       "        vertical-align: middle;\n",
       "    }\n",
       "\n",
       "    .dataframe tbody tr th {\n",
       "        vertical-align: top;\n",
       "    }\n",
       "\n",
       "    .dataframe thead th {\n",
       "        text-align: right;\n",
       "    }\n",
       "</style>\n",
       "<table border=\"1\" class=\"dataframe\">\n",
       "  <thead>\n",
       "    <tr style=\"text-align: right;\">\n",
       "      <th></th>\n",
       "      <th>customer_id</th>\n",
       "      <th>movie</th>\n",
       "      <th>genere</th>\n",
       "      <th>price</th>\n",
       "      <th>rating</th>\n",
       "      <th>relevance</th>\n",
       "    </tr>\n",
       "  </thead>\n",
       "  <tbody>\n",
       "    <tr>\n",
       "      <th>0</th>\n",
       "      <td>c4</td>\n",
       "      <td>movie_1</td>\n",
       "      <td>Animation</td>\n",
       "      <td>36.875232</td>\n",
       "      <td>0.109586</td>\n",
       "      <td>0.0</td>\n",
       "    </tr>\n",
       "    <tr>\n",
       "      <th>1</th>\n",
       "      <td>c2</td>\n",
       "      <td>movie_2</td>\n",
       "      <td>Horror</td>\n",
       "      <td>14.994330</td>\n",
       "      <td>29.543855</td>\n",
       "      <td>1.0</td>\n",
       "    </tr>\n",
       "    <tr>\n",
       "      <th>2</th>\n",
       "      <td>c2</td>\n",
       "      <td>movie_3</td>\n",
       "      <td>Crime</td>\n",
       "      <td>18.350202</td>\n",
       "      <td>24.308950</td>\n",
       "      <td>0.0</td>\n",
       "    </tr>\n",
       "    <tr>\n",
       "      <th>3</th>\n",
       "      <td>c5</td>\n",
       "      <td>movie_4</td>\n",
       "      <td>Children’s</td>\n",
       "      <td>36.660083</td>\n",
       "      <td>15.435363</td>\n",
       "      <td>0.0</td>\n",
       "    </tr>\n",
       "    <tr>\n",
       "      <th>4</th>\n",
       "      <td>c1</td>\n",
       "      <td>movie_5</td>\n",
       "      <td>Comedy</td>\n",
       "      <td>14.498468</td>\n",
       "      <td>3.320721</td>\n",
       "      <td>0.0</td>\n",
       "    </tr>\n",
       "    <tr>\n",
       "      <th>...</th>\n",
       "      <td>...</td>\n",
       "      <td>...</td>\n",
       "      <td>...</td>\n",
       "      <td>...</td>\n",
       "      <td>...</td>\n",
       "      <td>...</td>\n",
       "    </tr>\n",
       "    <tr>\n",
       "      <th>995</th>\n",
       "      <td>c4</td>\n",
       "      <td>movie_996</td>\n",
       "      <td>Comedy</td>\n",
       "      <td>38.772438</td>\n",
       "      <td>59.713921</td>\n",
       "      <td>0.0</td>\n",
       "    </tr>\n",
       "    <tr>\n",
       "      <th>996</th>\n",
       "      <td>c3</td>\n",
       "      <td>movie_997</td>\n",
       "      <td>Thriller</td>\n",
       "      <td>36.178473</td>\n",
       "      <td>11.326334</td>\n",
       "      <td>0.0</td>\n",
       "    </tr>\n",
       "    <tr>\n",
       "      <th>997</th>\n",
       "      <td>c4</td>\n",
       "      <td>movie_998</td>\n",
       "      <td>Adventure</td>\n",
       "      <td>21.479971</td>\n",
       "      <td>43.585153</td>\n",
       "      <td>1.0</td>\n",
       "    </tr>\n",
       "    <tr>\n",
       "      <th>998</th>\n",
       "      <td>c1</td>\n",
       "      <td>movie_999</td>\n",
       "      <td>War</td>\n",
       "      <td>28.659169</td>\n",
       "      <td>0.708221</td>\n",
       "      <td>0.0</td>\n",
       "    </tr>\n",
       "    <tr>\n",
       "      <th>999</th>\n",
       "      <td>c5</td>\n",
       "      <td>movie_1000</td>\n",
       "      <td>Drama</td>\n",
       "      <td>15.476363</td>\n",
       "      <td>29.697476</td>\n",
       "      <td>1.0</td>\n",
       "    </tr>\n",
       "  </tbody>\n",
       "</table>\n",
       "<p>1000 rows × 6 columns</p>\n",
       "</div>"
      ],
      "text/plain": [
       "    customer_id       movie      genere      price     rating  relevance\n",
       "0            c4     movie_1   Animation  36.875232   0.109586        0.0\n",
       "1            c2     movie_2      Horror  14.994330  29.543855        1.0\n",
       "2            c2     movie_3       Crime  18.350202  24.308950        0.0\n",
       "3            c5     movie_4  Children’s  36.660083  15.435363        0.0\n",
       "4            c1     movie_5      Comedy  14.498468   3.320721        0.0\n",
       "..          ...         ...         ...        ...        ...        ...\n",
       "995          c4   movie_996      Comedy  38.772438  59.713921        0.0\n",
       "996          c3   movie_997    Thriller  36.178473  11.326334        0.0\n",
       "997          c4   movie_998   Adventure  21.479971  43.585153        1.0\n",
       "998          c1   movie_999         War  28.659169   0.708221        0.0\n",
       "999          c5  movie_1000       Drama  15.476363  29.697476        1.0\n",
       "\n",
       "[1000 rows x 6 columns]"
      ]
     },
     "execution_count": 91,
     "metadata": {},
     "output_type": "execute_result"
    }
   ],
   "source": [
    "size = 1000\n",
    "movie_genere = ['Action','Adventure','Animation','Children’s','Comedy','Crime','Documentary','Drama','Fantasy','Film-Noir','Horror','Musical','Mystery','Romance','Sci-Fi','Thriller','War','Western']\n",
    "\n",
    "movies = pd.DataFrame({\n",
    "    'customer_id': np.random.choice(['c1','c2','c3','c4','c5'],size=size),\n",
    "    'movie': [ f'movie_{x+1}' for x in range(size)],\n",
    "    'genere': np.random.choice(movie_genere,size=size),\n",
    "    'price': np.random.gamma(50,size=size) * np.random.uniform(0.0,1.0,size=size),\n",
    "    'rating': np.random.randint(1,100,size=size)  * np.random.uniform(0.0,1.0,size=size),\n",
    "})\n",
    "\n",
    "for gnr in movie_genere:\n",
    "    mean_price = movies.loc[movies.genere == gnr,'price'].mean()\n",
    "    mean_rating = movies.loc[movies.genere == gnr,'rating'].mean()\n",
    "    movies.loc[(movies.genere == gnr) & (movies.price < mean_price ) & (movies.rating > mean_rating),'relevance'] = 1\n",
    "\n",
    "movies.loc[movies.relevance != 1, 'relevance'] = 0\n",
    "movies"
   ]
  },
  {
   "cell_type": "markdown",
   "metadata": {},
   "source": [
    "Now that we have the data we can define the features we will use in our model and the target variable"
   ]
  },
  {
   "cell_type": "code",
   "execution_count": 92,
   "metadata": {},
   "outputs": [],
   "source": [
    "features = ['genere','price','rating']\n",
    "target = 'relevance'"
   ]
  },
  {
   "cell_type": "markdown",
   "metadata": {},
   "source": [
    "Since we have a categorical variable we will dumify the data"
   ]
  },
  {
   "cell_type": "code",
   "execution_count": 93,
   "metadata": {},
   "outputs": [],
   "source": [
    "movies_processed = movies.copy()\n",
    "movies_processed = pd.get_dummies(movies_processed[features + [target]])"
   ]
  },
  {
   "cell_type": "markdown",
   "metadata": {},
   "source": [
    "then we can train/test split our dataset"
   ]
  },
  {
   "cell_type": "code",
   "execution_count": 94,
   "metadata": {},
   "outputs": [],
   "source": [
    "train,test = train_test_split(movies_processed, test_size=0.33, random_state=42, stratify=movies[['genere','relevance']])"
   ]
  },
  {
   "cell_type": "markdown",
   "metadata": {},
   "source": [
    "so now we can train our classifier to predict how relevant is a movie for a customer"
   ]
  },
  {
   "cell_type": "code",
   "execution_count": 95,
   "metadata": {},
   "outputs": [
    {
     "data": {
      "text/plain": [
       "LogisticRegression()"
      ]
     },
     "execution_count": 95,
     "metadata": {},
     "output_type": "execute_result"
    }
   ],
   "source": [
    "clf = LogisticRegression()\n",
    "clf.fit(train.drop([target],axis=1),train[target])"
   ]
  },
  {
   "cell_type": "markdown",
   "metadata": {},
   "source": [
    "let's take a copy of our test dataframe and apply the model"
   ]
  },
  {
   "cell_type": "code",
   "execution_count": 96,
   "metadata": {},
   "outputs": [
    {
     "data": {
      "text/html": [
       "<div>\n",
       "<style scoped>\n",
       "    .dataframe tbody tr th:only-of-type {\n",
       "        vertical-align: middle;\n",
       "    }\n",
       "\n",
       "    .dataframe tbody tr th {\n",
       "        vertical-align: top;\n",
       "    }\n",
       "\n",
       "    .dataframe thead th {\n",
       "        text-align: right;\n",
       "    }\n",
       "</style>\n",
       "<table border=\"1\" class=\"dataframe\">\n",
       "  <thead>\n",
       "    <tr style=\"text-align: right;\">\n",
       "      <th></th>\n",
       "      <th>price</th>\n",
       "      <th>rating</th>\n",
       "      <th>relevance</th>\n",
       "      <th>genere_Action</th>\n",
       "      <th>genere_Adventure</th>\n",
       "      <th>genere_Animation</th>\n",
       "      <th>genere_Children’s</th>\n",
       "      <th>genere_Comedy</th>\n",
       "      <th>genere_Crime</th>\n",
       "      <th>genere_Documentary</th>\n",
       "      <th>...</th>\n",
       "      <th>genere_Horror</th>\n",
       "      <th>genere_Musical</th>\n",
       "      <th>genere_Mystery</th>\n",
       "      <th>genere_Romance</th>\n",
       "      <th>genere_Sci-Fi</th>\n",
       "      <th>genere_Thriller</th>\n",
       "      <th>genere_War</th>\n",
       "      <th>genere_Western</th>\n",
       "      <th>y_pred</th>\n",
       "      <th>y_pred_proba</th>\n",
       "    </tr>\n",
       "  </thead>\n",
       "  <tbody>\n",
       "    <tr>\n",
       "      <th>0</th>\n",
       "      <td>44.963785</td>\n",
       "      <td>45.100109</td>\n",
       "      <td>0.0</td>\n",
       "      <td>0</td>\n",
       "      <td>0</td>\n",
       "      <td>0</td>\n",
       "      <td>0</td>\n",
       "      <td>0</td>\n",
       "      <td>0</td>\n",
       "      <td>0</td>\n",
       "      <td>...</td>\n",
       "      <td>0</td>\n",
       "      <td>1</td>\n",
       "      <td>0</td>\n",
       "      <td>0</td>\n",
       "      <td>0</td>\n",
       "      <td>0</td>\n",
       "      <td>0</td>\n",
       "      <td>0</td>\n",
       "      <td>0.0</td>\n",
       "      <td>0.002454</td>\n",
       "    </tr>\n",
       "    <tr>\n",
       "      <th>1</th>\n",
       "      <td>21.442252</td>\n",
       "      <td>35.388441</td>\n",
       "      <td>1.0</td>\n",
       "      <td>0</td>\n",
       "      <td>0</td>\n",
       "      <td>0</td>\n",
       "      <td>0</td>\n",
       "      <td>0</td>\n",
       "      <td>0</td>\n",
       "      <td>0</td>\n",
       "      <td>...</td>\n",
       "      <td>0</td>\n",
       "      <td>0</td>\n",
       "      <td>0</td>\n",
       "      <td>0</td>\n",
       "      <td>0</td>\n",
       "      <td>0</td>\n",
       "      <td>1</td>\n",
       "      <td>0</td>\n",
       "      <td>0.0</td>\n",
       "      <td>0.128310</td>\n",
       "    </tr>\n",
       "    <tr>\n",
       "      <th>2</th>\n",
       "      <td>30.280563</td>\n",
       "      <td>26.777554</td>\n",
       "      <td>0.0</td>\n",
       "      <td>0</td>\n",
       "      <td>0</td>\n",
       "      <td>0</td>\n",
       "      <td>0</td>\n",
       "      <td>0</td>\n",
       "      <td>1</td>\n",
       "      <td>0</td>\n",
       "      <td>...</td>\n",
       "      <td>0</td>\n",
       "      <td>0</td>\n",
       "      <td>0</td>\n",
       "      <td>0</td>\n",
       "      <td>0</td>\n",
       "      <td>0</td>\n",
       "      <td>0</td>\n",
       "      <td>0</td>\n",
       "      <td>0.0</td>\n",
       "      <td>0.010166</td>\n",
       "    </tr>\n",
       "  </tbody>\n",
       "</table>\n",
       "<p>3 rows × 23 columns</p>\n",
       "</div>"
      ],
      "text/plain": [
       "       price     rating  relevance  genere_Action  genere_Adventure  \\\n",
       "0  44.963785  45.100109        0.0              0                 0   \n",
       "1  21.442252  35.388441        1.0              0                 0   \n",
       "2  30.280563  26.777554        0.0              0                 0   \n",
       "\n",
       "   genere_Animation  genere_Children’s  genere_Comedy  genere_Crime  \\\n",
       "0                 0                  0              0             0   \n",
       "1                 0                  0              0             0   \n",
       "2                 0                  0              0             1   \n",
       "\n",
       "   genere_Documentary  ...  genere_Horror  genere_Musical  genere_Mystery  \\\n",
       "0                   0  ...              0               1               0   \n",
       "1                   0  ...              0               0               0   \n",
       "2                   0  ...              0               0               0   \n",
       "\n",
       "   genere_Romance  genere_Sci-Fi  genere_Thriller  genere_War  genere_Western  \\\n",
       "0               0              0                0           0               0   \n",
       "1               0              0                0           1               0   \n",
       "2               0              0                0           0               0   \n",
       "\n",
       "   y_pred  y_pred_proba  \n",
       "0     0.0      0.002454  \n",
       "1     0.0      0.128310  \n",
       "2     0.0      0.010166  \n",
       "\n",
       "[3 rows x 23 columns]"
      ]
     },
     "execution_count": 96,
     "metadata": {},
     "output_type": "execute_result"
    }
   ],
   "source": [
    "val = test.copy().reset_index(drop=True)\n",
    "\n",
    "val['y_pred'] = clf.predict(test.drop([target],axis=1))\n",
    "val['y_pred_proba'] = clf.predict_proba(test.drop([target],axis=1))[:,1]\n",
    "\n",
    "val[:3]"
   ]
  },
  {
   "cell_type": "markdown",
   "metadata": {},
   "source": [
    "**We use the Compute Normalized Discounted Cumulative Gain(NDCG) to assess our model**\n",
    "\n",
    "Sum the true scores ranked in the order induced by the predicted scores, after applying a logarithmic discount. \n",
    "\n",
    "Then divide by the best possible score (Ideal DCG, obtained for a perfect ranking) to obtain a score between 0 and 1."
   ]
  },
  {
   "cell_type": "code",
   "execution_count": 97,
   "metadata": {},
   "outputs": [
    {
     "data": {
      "text/plain": [
       "0.9131585064991307"
      ]
     },
     "execution_count": 97,
     "metadata": {},
     "output_type": "execute_result"
    }
   ],
   "source": [
    "metrics.ndcg_score([val[target]],[val['y_pred']])"
   ]
  },
  {
   "cell_type": "markdown",
   "metadata": {},
   "source": [
    "### Pairwise model"
   ]
  },
  {
   "cell_type": "markdown",
   "metadata": {},
   "source": [
    "Pairwise approaches look at a pair of documents at a time in the loss function. Given a pair of documents, they try and come up with the optimal ordering for that pair and compare it to the ground truth. The goal for the ranker is to minimize the number of inversions in ranking i.e. cases where the pair of results are in the wrong order relative to the ground truth.\n",
    "Pairwise approaches work better in practice than pointwise approaches because predicting relative order is closer to the nature of ranking than predicting class label or relevance score. Some of the most popular Learning to Rank algorithms like RankNet, LambdaRank and LambdaMART are pairwise approaches."
   ]
  },
  {
   "cell_type": "markdown",
   "metadata": {},
   "source": [
    "Rank-preference models (items to be ranked are treated in pairs)"
   ]
  },
  {
   "cell_type": "markdown",
   "metadata": {},
   "source": [
    "Scenario:\n",
    "We have a lot of papers and we some very defined queries - we want to find the most relevant documents given the query"
   ]
  },
  {
   "cell_type": "code",
   "execution_count": 9,
   "metadata": {},
   "outputs": [
    {
     "data": {
      "text/html": [
       "<div>\n",
       "<style scoped>\n",
       "    .dataframe tbody tr th:only-of-type {\n",
       "        vertical-align: middle;\n",
       "    }\n",
       "\n",
       "    .dataframe tbody tr th {\n",
       "        vertical-align: top;\n",
       "    }\n",
       "\n",
       "    .dataframe thead th {\n",
       "        text-align: right;\n",
       "    }\n",
       "</style>\n",
       "<table border=\"1\" class=\"dataframe\">\n",
       "  <thead>\n",
       "    <tr style=\"text-align: right;\">\n",
       "      <th></th>\n",
       "      <th>qid</th>\n",
       "      <th>did</th>\n",
       "      <th>doc_size</th>\n",
       "      <th>doc_authors</th>\n",
       "      <th>doc_paragraphs</th>\n",
       "      <th>relevance</th>\n",
       "      <th>rank</th>\n",
       "    </tr>\n",
       "  </thead>\n",
       "  <tbody>\n",
       "    <tr>\n",
       "      <th>499</th>\n",
       "      <td>query_1</td>\n",
       "      <td>doc_500</td>\n",
       "      <td>134.883309</td>\n",
       "      <td>5</td>\n",
       "      <td>127</td>\n",
       "      <td>0.094079</td>\n",
       "      <td>1</td>\n",
       "    </tr>\n",
       "    <tr>\n",
       "      <th>728</th>\n",
       "      <td>query_4</td>\n",
       "      <td>doc_729</td>\n",
       "      <td>43.758156</td>\n",
       "      <td>3</td>\n",
       "      <td>79</td>\n",
       "      <td>0.090593</td>\n",
       "      <td>1</td>\n",
       "    </tr>\n",
       "    <tr>\n",
       "      <th>727</th>\n",
       "      <td>query_2</td>\n",
       "      <td>doc_728</td>\n",
       "      <td>246.796883</td>\n",
       "      <td>3</td>\n",
       "      <td>101</td>\n",
       "      <td>0.147661</td>\n",
       "      <td>1</td>\n",
       "    </tr>\n",
       "    <tr>\n",
       "      <th>718</th>\n",
       "      <td>query_3</td>\n",
       "      <td>doc_719</td>\n",
       "      <td>348.961423</td>\n",
       "      <td>4</td>\n",
       "      <td>82</td>\n",
       "      <td>0.116877</td>\n",
       "      <td>1</td>\n",
       "    </tr>\n",
       "    <tr>\n",
       "      <th>715</th>\n",
       "      <td>query_3</td>\n",
       "      <td>doc_716</td>\n",
       "      <td>226.646396</td>\n",
       "      <td>4</td>\n",
       "      <td>146</td>\n",
       "      <td>0.157098</td>\n",
       "      <td>1</td>\n",
       "    </tr>\n",
       "    <tr>\n",
       "      <th>...</th>\n",
       "      <td>...</td>\n",
       "      <td>...</td>\n",
       "      <td>...</td>\n",
       "      <td>...</td>\n",
       "      <td>...</td>\n",
       "      <td>...</td>\n",
       "      <td>...</td>\n",
       "    </tr>\n",
       "    <tr>\n",
       "      <th>548</th>\n",
       "      <td>query_4</td>\n",
       "      <td>doc_549</td>\n",
       "      <td>15.807793</td>\n",
       "      <td>3</td>\n",
       "      <td>134</td>\n",
       "      <td>0.959892</td>\n",
       "      <td>5</td>\n",
       "    </tr>\n",
       "    <tr>\n",
       "      <th>835</th>\n",
       "      <td>query_4</td>\n",
       "      <td>doc_836</td>\n",
       "      <td>178.380919</td>\n",
       "      <td>5</td>\n",
       "      <td>112</td>\n",
       "      <td>0.829741</td>\n",
       "      <td>5</td>\n",
       "    </tr>\n",
       "    <tr>\n",
       "      <th>103</th>\n",
       "      <td>query_5</td>\n",
       "      <td>doc_104</td>\n",
       "      <td>215.429695</td>\n",
       "      <td>2</td>\n",
       "      <td>89</td>\n",
       "      <td>0.802579</td>\n",
       "      <td>5</td>\n",
       "    </tr>\n",
       "    <tr>\n",
       "      <th>113</th>\n",
       "      <td>query_5</td>\n",
       "      <td>doc_114</td>\n",
       "      <td>158.357579</td>\n",
       "      <td>5</td>\n",
       "      <td>136</td>\n",
       "      <td>0.891533</td>\n",
       "      <td>5</td>\n",
       "    </tr>\n",
       "    <tr>\n",
       "      <th>355</th>\n",
       "      <td>query_1</td>\n",
       "      <td>doc_356</td>\n",
       "      <td>276.640196</td>\n",
       "      <td>3</td>\n",
       "      <td>101</td>\n",
       "      <td>0.955163</td>\n",
       "      <td>5</td>\n",
       "    </tr>\n",
       "  </tbody>\n",
       "</table>\n",
       "<p>1000 rows × 7 columns</p>\n",
       "</div>"
      ],
      "text/plain": [
       "         qid      did    doc_size  doc_authors  doc_paragraphs  relevance rank\n",
       "499  query_1  doc_500  134.883309            5             127   0.094079    1\n",
       "728  query_4  doc_729   43.758156            3              79   0.090593    1\n",
       "727  query_2  doc_728  246.796883            3             101   0.147661    1\n",
       "718  query_3  doc_719  348.961423            4              82   0.116877    1\n",
       "715  query_3  doc_716  226.646396            4             146   0.157098    1\n",
       "..       ...      ...         ...          ...             ...        ...  ...\n",
       "548  query_4  doc_549   15.807793            3             134   0.959892    5\n",
       "835  query_4  doc_836  178.380919            5             112   0.829741    5\n",
       "103  query_5  doc_104  215.429695            2              89   0.802579    5\n",
       "113  query_5  doc_114  158.357579            5             136   0.891533    5\n",
       "355  query_1  doc_356  276.640196            3             101   0.955163    5\n",
       "\n",
       "[1000 rows x 7 columns]"
      ]
     },
     "execution_count": 9,
     "metadata": {},
     "output_type": "execute_result"
    }
   ],
   "source": [
    "docs_size = 1000\n",
    "query_types = ['query_1','query_2','query_3','query_4','query_5']\n",
    "\n",
    "docs = pd.DataFrame({\n",
    "    'qid': np.random.choice(query_types,size=docs_size),\n",
    "    'did': [ f'doc_{x+1}' for x in range(docs_size)],\n",
    "    'doc_size': np.random.uniform(1,500,size=docs_size),\n",
    "    'doc_authors': np.random.randint(2,6,size=docs_size),\n",
    "    'doc_paragraphs': np.random.randint(50,200,size=docs_size),\n",
    "    'relevance': np.random.uniform(0.0,1.0,size=docs_size)\n",
    "})\n",
    "\n",
    "docs['rank'] = pd.cut(docs['relevance'],5,labels=list(range(1,6)))\n",
    "docs = docs.sort_values(by='rank')\n",
    "docs"
   ]
  },
  {
   "cell_type": "markdown",
   "metadata": {},
   "source": [
    "again we define the features we are going to use in our models"
   ]
  },
  {
   "cell_type": "code",
   "execution_count": 11,
   "metadata": {},
   "outputs": [],
   "source": [
    "docs_feats = ['doc_size','doc_authors','doc_paragraphs']\n",
    "docs_target = 'rank'"
   ]
  },
  {
   "cell_type": "markdown",
   "metadata": {},
   "source": [
    "We train test split the data, but also sort it by the rank we have assigned"
   ]
  },
  {
   "cell_type": "code",
   "execution_count": 10,
   "metadata": {},
   "outputs": [],
   "source": [
    "docs_train, docs_test = train_test_split(docs, test_size=0.33, random_state=42)\n",
    "\n",
    "docs_train = docs_train.sort_values(by='rank')\n",
    "docs_test = docs_test.sort_values(by='rank')"
   ]
  },
  {
   "cell_type": "markdown",
   "metadata": {},
   "source": [
    "in the next models we need to specify the number of samples related to group/query/domain"
   ]
  },
  {
   "cell_type": "code",
   "execution_count": 12,
   "metadata": {},
   "outputs": [],
   "source": [
    "groups = docs_train.groupby('qid').size().to_frame('size')['size'].to_numpy()"
   ]
  },
  {
   "cell_type": "markdown",
   "metadata": {},
   "source": [
    ">Actually, in Learning to Rank field, we are trying to predict the relative score for each document to a specific query. \n",
    "That is, this is not a regression problem or classification problem. Hence, if a document, attached to a query, gets a negative predict score, it means and only means that it's relatively less relative to the query, when comparing to other document(s), with positive scores."
   ]
  },
  {
   "cell_type": "markdown",
   "metadata": {},
   "source": [
    "Then we can train our XGBoost model using the `Pairwise` objective"
   ]
  },
  {
   "cell_type": "code",
   "execution_count": 99,
   "metadata": {},
   "outputs": [
    {
     "data": {
      "text/plain": [
       "XGBRanker(base_score=0.5, booster='gbtree', colsample_bylevel=1,\n",
       "          colsample_bynode=1, colsample_bytree=1, gamma=0, gpu_id=-1,\n",
       "          importance_type='gain', interaction_constraints='',\n",
       "          learning_rate=0.300000012, max_delta_step=0, max_depth=6,\n",
       "          min_child_weight=1, missing=nan, monotone_constraints='()',\n",
       "          n_estimators=100, n_jobs=32, num_parallel_tree=1, random_state=0,\n",
       "          reg_alpha=0, reg_lambda=1, scale_pos_weight=None, subsample=1,\n",
       "          tree_method='exact', validate_parameters=1, verbosity=None)"
      ]
     },
     "execution_count": 99,
     "metadata": {},
     "output_type": "execute_result"
    }
   ],
   "source": [
    "ranker = xgb.XGBRanker(objective='rank:pairwise',booster='gbtree')\n",
    "ranker.fit(docs_train[docs_feats],docs_train['rank'],group=groups)"
   ]
  },
  {
   "cell_type": "markdown",
   "metadata": {},
   "source": [
    "and predict the rank score using our model"
   ]
  },
  {
   "cell_type": "code",
   "execution_count": 103,
   "metadata": {},
   "outputs": [
    {
     "name": "stderr",
     "output_type": "stream",
     "text": [
      "Use subset (sliced data) of np.ndarray is not recommended because it will generate extra copies and increase memory consumption\n"
     ]
    },
    {
     "data": {
      "text/html": [
       "<div>\n",
       "<style scoped>\n",
       "    .dataframe tbody tr th:only-of-type {\n",
       "        vertical-align: middle;\n",
       "    }\n",
       "\n",
       "    .dataframe tbody tr th {\n",
       "        vertical-align: top;\n",
       "    }\n",
       "\n",
       "    .dataframe thead th {\n",
       "        text-align: right;\n",
       "    }\n",
       "</style>\n",
       "<table border=\"1\" class=\"dataframe\">\n",
       "  <thead>\n",
       "    <tr style=\"text-align: right;\">\n",
       "      <th></th>\n",
       "      <th>qid</th>\n",
       "      <th>did</th>\n",
       "      <th>doc_size</th>\n",
       "      <th>doc_authors</th>\n",
       "      <th>doc_paragraphs</th>\n",
       "      <th>relevance</th>\n",
       "      <th>rank</th>\n",
       "      <th>rank_score_pairwise</th>\n",
       "    </tr>\n",
       "  </thead>\n",
       "  <tbody>\n",
       "    <tr>\n",
       "      <th>131</th>\n",
       "      <td>query_5</td>\n",
       "      <td>doc_132</td>\n",
       "      <td>438.245360</td>\n",
       "      <td>5</td>\n",
       "      <td>131</td>\n",
       "      <td>0.468934</td>\n",
       "      <td>3</td>\n",
       "      <td>5.788270</td>\n",
       "    </tr>\n",
       "    <tr>\n",
       "      <th>837</th>\n",
       "      <td>query_5</td>\n",
       "      <td>doc_838</td>\n",
       "      <td>491.327195</td>\n",
       "      <td>3</td>\n",
       "      <td>126</td>\n",
       "      <td>0.271177</td>\n",
       "      <td>2</td>\n",
       "      <td>5.774170</td>\n",
       "    </tr>\n",
       "    <tr>\n",
       "      <th>815</th>\n",
       "      <td>query_2</td>\n",
       "      <td>doc_816</td>\n",
       "      <td>38.272288</td>\n",
       "      <td>5</td>\n",
       "      <td>145</td>\n",
       "      <td>0.644796</td>\n",
       "      <td>4</td>\n",
       "      <td>5.751684</td>\n",
       "    </tr>\n",
       "    <tr>\n",
       "      <th>202</th>\n",
       "      <td>query_4</td>\n",
       "      <td>doc_203</td>\n",
       "      <td>120.329668</td>\n",
       "      <td>3</td>\n",
       "      <td>130</td>\n",
       "      <td>0.575423</td>\n",
       "      <td>3</td>\n",
       "      <td>5.630410</td>\n",
       "    </tr>\n",
       "    <tr>\n",
       "      <th>246</th>\n",
       "      <td>query_4</td>\n",
       "      <td>doc_247</td>\n",
       "      <td>421.376384</td>\n",
       "      <td>3</td>\n",
       "      <td>176</td>\n",
       "      <td>0.056486</td>\n",
       "      <td>1</td>\n",
       "      <td>5.495399</td>\n",
       "    </tr>\n",
       "    <tr>\n",
       "      <th>...</th>\n",
       "      <td>...</td>\n",
       "      <td>...</td>\n",
       "      <td>...</td>\n",
       "      <td>...</td>\n",
       "      <td>...</td>\n",
       "      <td>...</td>\n",
       "      <td>...</td>\n",
       "      <td>...</td>\n",
       "    </tr>\n",
       "    <tr>\n",
       "      <th>419</th>\n",
       "      <td>query_4</td>\n",
       "      <td>doc_420</td>\n",
       "      <td>358.623323</td>\n",
       "      <td>3</td>\n",
       "      <td>56</td>\n",
       "      <td>0.489202</td>\n",
       "      <td>3</td>\n",
       "      <td>-2.377359</td>\n",
       "    </tr>\n",
       "    <tr>\n",
       "      <th>917</th>\n",
       "      <td>query_5</td>\n",
       "      <td>doc_918</td>\n",
       "      <td>13.784377</td>\n",
       "      <td>3</td>\n",
       "      <td>75</td>\n",
       "      <td>0.943996</td>\n",
       "      <td>5</td>\n",
       "      <td>-2.487809</td>\n",
       "    </tr>\n",
       "    <tr>\n",
       "      <th>748</th>\n",
       "      <td>query_2</td>\n",
       "      <td>doc_749</td>\n",
       "      <td>497.286684</td>\n",
       "      <td>3</td>\n",
       "      <td>55</td>\n",
       "      <td>0.904371</td>\n",
       "      <td>5</td>\n",
       "      <td>-3.127292</td>\n",
       "    </tr>\n",
       "    <tr>\n",
       "      <th>282</th>\n",
       "      <td>query_4</td>\n",
       "      <td>doc_283</td>\n",
       "      <td>463.882003</td>\n",
       "      <td>3</td>\n",
       "      <td>57</td>\n",
       "      <td>0.680035</td>\n",
       "      <td>4</td>\n",
       "      <td>-3.233275</td>\n",
       "    </tr>\n",
       "    <tr>\n",
       "      <th>640</th>\n",
       "      <td>query_2</td>\n",
       "      <td>doc_641</td>\n",
       "      <td>114.068297</td>\n",
       "      <td>3</td>\n",
       "      <td>149</td>\n",
       "      <td>0.283694</td>\n",
       "      <td>2</td>\n",
       "      <td>-3.254235</td>\n",
       "    </tr>\n",
       "  </tbody>\n",
       "</table>\n",
       "<p>330 rows × 8 columns</p>\n",
       "</div>"
      ],
      "text/plain": [
       "         qid      did    doc_size  doc_authors  doc_paragraphs  relevance  \\\n",
       "131  query_5  doc_132  438.245360            5             131   0.468934   \n",
       "837  query_5  doc_838  491.327195            3             126   0.271177   \n",
       "815  query_2  doc_816   38.272288            5             145   0.644796   \n",
       "202  query_4  doc_203  120.329668            3             130   0.575423   \n",
       "246  query_4  doc_247  421.376384            3             176   0.056486   \n",
       "..       ...      ...         ...          ...             ...        ...   \n",
       "419  query_4  doc_420  358.623323            3              56   0.489202   \n",
       "917  query_5  doc_918   13.784377            3              75   0.943996   \n",
       "748  query_2  doc_749  497.286684            3              55   0.904371   \n",
       "282  query_4  doc_283  463.882003            3              57   0.680035   \n",
       "640  query_2  doc_641  114.068297            3             149   0.283694   \n",
       "\n",
       "    rank  rank_score_pairwise  \n",
       "131    3             5.788270  \n",
       "837    2             5.774170  \n",
       "815    4             5.751684  \n",
       "202    3             5.630410  \n",
       "246    1             5.495399  \n",
       "..   ...                  ...  \n",
       "419    3            -2.377359  \n",
       "917    5            -2.487809  \n",
       "748    5            -3.127292  \n",
       "282    4            -3.233275  \n",
       "640    2            -3.254235  \n",
       "\n",
       "[330 rows x 8 columns]"
      ]
     },
     "execution_count": 103,
     "metadata": {},
     "output_type": "execute_result"
    }
   ],
   "source": [
    "results = docs_test.copy()\n",
    "results['rank_score_pairwise'] = ranker.predict(results[docs_feats])    \n",
    "results = results.sort_values(by='rank_score_pairwise',ascending=False)\n",
    "results"
   ]
  },
  {
   "cell_type": "markdown",
   "metadata": {},
   "source": [
    "We are using again the NDCG score to see how our model performs"
   ]
  },
  {
   "cell_type": "code",
   "execution_count": 104,
   "metadata": {},
   "outputs": [
    {
     "data": {
      "text/plain": [
       "0.8948626084762222"
      ]
     },
     "execution_count": 104,
     "metadata": {},
     "output_type": "execute_result"
    }
   ],
   "source": [
    "metrics.ndcg_score([results['rank']],[results['rank_score_pairwise']])"
   ]
  },
  {
   "cell_type": "code",
   "execution_count": 105,
   "metadata": {},
   "outputs": [
    {
     "data": {
      "text/html": [
       "<div>\n",
       "<style scoped>\n",
       "    .dataframe tbody tr th:only-of-type {\n",
       "        vertical-align: middle;\n",
       "    }\n",
       "\n",
       "    .dataframe tbody tr th {\n",
       "        vertical-align: top;\n",
       "    }\n",
       "\n",
       "    .dataframe thead th {\n",
       "        text-align: right;\n",
       "    }\n",
       "</style>\n",
       "<table border=\"1\" class=\"dataframe\">\n",
       "  <thead>\n",
       "    <tr style=\"text-align: right;\">\n",
       "      <th></th>\n",
       "      <th>qid</th>\n",
       "      <th>did</th>\n",
       "      <th>doc_size</th>\n",
       "      <th>doc_authors</th>\n",
       "      <th>doc_paragraphs</th>\n",
       "      <th>relevance</th>\n",
       "      <th>rank</th>\n",
       "      <th>rank_score_pairwise</th>\n",
       "    </tr>\n",
       "  </thead>\n",
       "  <tbody>\n",
       "    <tr>\n",
       "      <th>131</th>\n",
       "      <td>query_5</td>\n",
       "      <td>doc_132</td>\n",
       "      <td>438.245360</td>\n",
       "      <td>5</td>\n",
       "      <td>131</td>\n",
       "      <td>0.468934</td>\n",
       "      <td>3</td>\n",
       "      <td>5.788270</td>\n",
       "    </tr>\n",
       "    <tr>\n",
       "      <th>837</th>\n",
       "      <td>query_5</td>\n",
       "      <td>doc_838</td>\n",
       "      <td>491.327195</td>\n",
       "      <td>3</td>\n",
       "      <td>126</td>\n",
       "      <td>0.271177</td>\n",
       "      <td>2</td>\n",
       "      <td>5.774170</td>\n",
       "    </tr>\n",
       "    <tr>\n",
       "      <th>705</th>\n",
       "      <td>query_5</td>\n",
       "      <td>doc_706</td>\n",
       "      <td>463.690276</td>\n",
       "      <td>3</td>\n",
       "      <td>125</td>\n",
       "      <td>0.634287</td>\n",
       "      <td>4</td>\n",
       "      <td>5.332096</td>\n",
       "    </tr>\n",
       "    <tr>\n",
       "      <th>160</th>\n",
       "      <td>query_5</td>\n",
       "      <td>doc_161</td>\n",
       "      <td>48.579709</td>\n",
       "      <td>2</td>\n",
       "      <td>136</td>\n",
       "      <td>0.555408</td>\n",
       "      <td>3</td>\n",
       "      <td>4.670428</td>\n",
       "    </tr>\n",
       "    <tr>\n",
       "      <th>890</th>\n",
       "      <td>query_5</td>\n",
       "      <td>doc_891</td>\n",
       "      <td>202.299155</td>\n",
       "      <td>2</td>\n",
       "      <td>108</td>\n",
       "      <td>0.814885</td>\n",
       "      <td>5</td>\n",
       "      <td>4.618782</td>\n",
       "    </tr>\n",
       "    <tr>\n",
       "      <th>...</th>\n",
       "      <td>...</td>\n",
       "      <td>...</td>\n",
       "      <td>...</td>\n",
       "      <td>...</td>\n",
       "      <td>...</td>\n",
       "      <td>...</td>\n",
       "      <td>...</td>\n",
       "      <td>...</td>\n",
       "    </tr>\n",
       "    <tr>\n",
       "      <th>808</th>\n",
       "      <td>query_1</td>\n",
       "      <td>doc_809</td>\n",
       "      <td>424.648466</td>\n",
       "      <td>5</td>\n",
       "      <td>71</td>\n",
       "      <td>0.006189</td>\n",
       "      <td>1</td>\n",
       "      <td>-0.325586</td>\n",
       "    </tr>\n",
       "    <tr>\n",
       "      <th>850</th>\n",
       "      <td>query_1</td>\n",
       "      <td>doc_851</td>\n",
       "      <td>402.305516</td>\n",
       "      <td>4</td>\n",
       "      <td>68</td>\n",
       "      <td>0.554643</td>\n",
       "      <td>3</td>\n",
       "      <td>-0.591345</td>\n",
       "    </tr>\n",
       "    <tr>\n",
       "      <th>31</th>\n",
       "      <td>query_1</td>\n",
       "      <td>doc_32</td>\n",
       "      <td>470.012134</td>\n",
       "      <td>2</td>\n",
       "      <td>67</td>\n",
       "      <td>0.459052</td>\n",
       "      <td>3</td>\n",
       "      <td>-0.765779</td>\n",
       "    </tr>\n",
       "    <tr>\n",
       "      <th>857</th>\n",
       "      <td>query_1</td>\n",
       "      <td>doc_858</td>\n",
       "      <td>158.421303</td>\n",
       "      <td>2</td>\n",
       "      <td>177</td>\n",
       "      <td>0.703012</td>\n",
       "      <td>4</td>\n",
       "      <td>-1.140166</td>\n",
       "    </tr>\n",
       "    <tr>\n",
       "      <th>643</th>\n",
       "      <td>query_1</td>\n",
       "      <td>doc_644</td>\n",
       "      <td>160.910234</td>\n",
       "      <td>4</td>\n",
       "      <td>152</td>\n",
       "      <td>0.992542</td>\n",
       "      <td>5</td>\n",
       "      <td>-2.205011</td>\n",
       "    </tr>\n",
       "  </tbody>\n",
       "</table>\n",
       "<p>330 rows × 8 columns</p>\n",
       "</div>"
      ],
      "text/plain": [
       "         qid      did    doc_size  doc_authors  doc_paragraphs  relevance  \\\n",
       "131  query_5  doc_132  438.245360            5             131   0.468934   \n",
       "837  query_5  doc_838  491.327195            3             126   0.271177   \n",
       "705  query_5  doc_706  463.690276            3             125   0.634287   \n",
       "160  query_5  doc_161   48.579709            2             136   0.555408   \n",
       "890  query_5  doc_891  202.299155            2             108   0.814885   \n",
       "..       ...      ...         ...          ...             ...        ...   \n",
       "808  query_1  doc_809  424.648466            5              71   0.006189   \n",
       "850  query_1  doc_851  402.305516            4              68   0.554643   \n",
       "31   query_1   doc_32  470.012134            2              67   0.459052   \n",
       "857  query_1  doc_858  158.421303            2             177   0.703012   \n",
       "643  query_1  doc_644  160.910234            4             152   0.992542   \n",
       "\n",
       "    rank  rank_score_pairwise  \n",
       "131    3             5.788270  \n",
       "837    2             5.774170  \n",
       "705    4             5.332096  \n",
       "160    3             4.670428  \n",
       "890    5             4.618782  \n",
       "..   ...                  ...  \n",
       "808    1            -0.325586  \n",
       "850    3            -0.591345  \n",
       "31     3            -0.765779  \n",
       "857    4            -1.140166  \n",
       "643    5            -2.205011  \n",
       "\n",
       "[330 rows x 8 columns]"
      ]
     },
     "execution_count": 105,
     "metadata": {},
     "output_type": "execute_result"
    }
   ],
   "source": [
    "results.sort_values(by=['qid','rank_score_pairwise'],ascending=False)"
   ]
  },
  {
   "cell_type": "markdown",
   "metadata": {},
   "source": [
    "### Listwise model"
   ]
  },
  {
   "cell_type": "markdown",
   "metadata": {},
   "source": [
    "Listwise approaches directly look at the entire list of documents and try to come up with the optimal ordering for it. \n",
    "\n",
    "There are 2 main sub-techniques for doing listwise Learning to Rank:\n",
    "- Direct optimization of IR measures such as NDCG. E.g. SoftRank , AdaRank\n",
    "- Minimize a loss function that is defined based on understanding the unique properties of the kind of ranking you are trying to achieve. E.g. ListNet , ListMLE"
   ]
  },
  {
   "cell_type": "markdown",
   "metadata": {},
   "source": [
    "Treat each list as an instance. Usually tries to directly optimise the evaluation measure (e.g. mean average precision)"
   ]
  },
  {
   "cell_type": "markdown",
   "metadata": {},
   "source": [
    "Using the same data as above we can train another model but this time using the `NDCG` objective"
   ]
  },
  {
   "cell_type": "code",
   "execution_count": 111,
   "metadata": {},
   "outputs": [
    {
     "data": {
      "text/plain": [
       "XGBRanker(base_score=0.5, booster='gbtree', colsample_bylevel=1,\n",
       "          colsample_bynode=1, colsample_bytree=1, gamma=0, gpu_id=-1,\n",
       "          importance_type='gain', interaction_constraints='',\n",
       "          learning_rate=0.300000012, max_delta_step=0, max_depth=6,\n",
       "          min_child_weight=1, missing=nan, monotone_constraints='()',\n",
       "          n_estimators=100, n_jobs=32, num_parallel_tree=1,\n",
       "          objective='rank:ndcg', random_state=0, reg_alpha=0, reg_lambda=1,\n",
       "          scale_pos_weight=None, subsample=1, tree_method='exact',\n",
       "          validate_parameters=1, verbosity=None)"
      ]
     },
     "execution_count": 111,
     "metadata": {},
     "output_type": "execute_result"
    }
   ],
   "source": [
    "ranker = xgb.XGBRanker(objective='rank:ndcg',booster='gbtree')\n",
    "ranker.fit(docs_train[docs_feats],docs_train['rank'],group=groups)"
   ]
  },
  {
   "cell_type": "markdown",
   "metadata": {},
   "source": [
    "and predict the ranking score using this model as well"
   ]
  },
  {
   "cell_type": "code",
   "execution_count": 112,
   "metadata": {},
   "outputs": [
    {
     "name": "stderr",
     "output_type": "stream",
     "text": [
      "Use subset (sliced data) of np.ndarray is not recommended because it will generate extra copies and increase memory consumption\n"
     ]
    },
    {
     "data": {
      "text/html": [
       "<div>\n",
       "<style scoped>\n",
       "    .dataframe tbody tr th:only-of-type {\n",
       "        vertical-align: middle;\n",
       "    }\n",
       "\n",
       "    .dataframe tbody tr th {\n",
       "        vertical-align: top;\n",
       "    }\n",
       "\n",
       "    .dataframe thead th {\n",
       "        text-align: right;\n",
       "    }\n",
       "</style>\n",
       "<table border=\"1\" class=\"dataframe\">\n",
       "  <thead>\n",
       "    <tr style=\"text-align: right;\">\n",
       "      <th></th>\n",
       "      <th>qid</th>\n",
       "      <th>did</th>\n",
       "      <th>doc_size</th>\n",
       "      <th>doc_authors</th>\n",
       "      <th>doc_paragraphs</th>\n",
       "      <th>relevance</th>\n",
       "      <th>rank</th>\n",
       "      <th>rank_score_pairwise</th>\n",
       "      <th>rank_score_ndcg</th>\n",
       "    </tr>\n",
       "  </thead>\n",
       "  <tbody>\n",
       "    <tr>\n",
       "      <th>131</th>\n",
       "      <td>query_5</td>\n",
       "      <td>doc_132</td>\n",
       "      <td>438.245360</td>\n",
       "      <td>5</td>\n",
       "      <td>131</td>\n",
       "      <td>0.468934</td>\n",
       "      <td>3</td>\n",
       "      <td>5.788270</td>\n",
       "      <td>0.564546</td>\n",
       "    </tr>\n",
       "    <tr>\n",
       "      <th>100</th>\n",
       "      <td>query_4</td>\n",
       "      <td>doc_101</td>\n",
       "      <td>311.435717</td>\n",
       "      <td>4</td>\n",
       "      <td>115</td>\n",
       "      <td>0.777631</td>\n",
       "      <td>4</td>\n",
       "      <td>0.721314</td>\n",
       "      <td>0.564546</td>\n",
       "    </tr>\n",
       "    <tr>\n",
       "      <th>460</th>\n",
       "      <td>query_3</td>\n",
       "      <td>doc_461</td>\n",
       "      <td>339.116520</td>\n",
       "      <td>4</td>\n",
       "      <td>173</td>\n",
       "      <td>0.327702</td>\n",
       "      <td>2</td>\n",
       "      <td>3.660527</td>\n",
       "      <td>0.564546</td>\n",
       "    </tr>\n",
       "    <tr>\n",
       "      <th>705</th>\n",
       "      <td>query_5</td>\n",
       "      <td>doc_706</td>\n",
       "      <td>463.690276</td>\n",
       "      <td>3</td>\n",
       "      <td>125</td>\n",
       "      <td>0.634287</td>\n",
       "      <td>4</td>\n",
       "      <td>5.332096</td>\n",
       "      <td>0.564546</td>\n",
       "    </tr>\n",
       "    <tr>\n",
       "      <th>134</th>\n",
       "      <td>query_2</td>\n",
       "      <td>doc_135</td>\n",
       "      <td>422.214211</td>\n",
       "      <td>4</td>\n",
       "      <td>170</td>\n",
       "      <td>0.902875</td>\n",
       "      <td>5</td>\n",
       "      <td>4.722393</td>\n",
       "      <td>0.564546</td>\n",
       "    </tr>\n",
       "    <tr>\n",
       "      <th>...</th>\n",
       "      <td>...</td>\n",
       "      <td>...</td>\n",
       "      <td>...</td>\n",
       "      <td>...</td>\n",
       "      <td>...</td>\n",
       "      <td>...</td>\n",
       "      <td>...</td>\n",
       "      <td>...</td>\n",
       "      <td>...</td>\n",
       "    </tr>\n",
       "    <tr>\n",
       "      <th>421</th>\n",
       "      <td>query_5</td>\n",
       "      <td>doc_422</td>\n",
       "      <td>131.493036</td>\n",
       "      <td>2</td>\n",
       "      <td>69</td>\n",
       "      <td>0.524366</td>\n",
       "      <td>3</td>\n",
       "      <td>3.481098</td>\n",
       "      <td>0.432135</td>\n",
       "    </tr>\n",
       "    <tr>\n",
       "      <th>194</th>\n",
       "      <td>query_4</td>\n",
       "      <td>doc_195</td>\n",
       "      <td>86.266093</td>\n",
       "      <td>2</td>\n",
       "      <td>102</td>\n",
       "      <td>0.499842</td>\n",
       "      <td>3</td>\n",
       "      <td>4.688314</td>\n",
       "      <td>0.432135</td>\n",
       "    </tr>\n",
       "    <tr>\n",
       "      <th>5</th>\n",
       "      <td>query_1</td>\n",
       "      <td>doc_6</td>\n",
       "      <td>154.925980</td>\n",
       "      <td>4</td>\n",
       "      <td>94</td>\n",
       "      <td>0.500868</td>\n",
       "      <td>3</td>\n",
       "      <td>1.975777</td>\n",
       "      <td>0.432135</td>\n",
       "    </tr>\n",
       "    <tr>\n",
       "      <th>663</th>\n",
       "      <td>query_3</td>\n",
       "      <td>doc_664</td>\n",
       "      <td>139.543270</td>\n",
       "      <td>5</td>\n",
       "      <td>61</td>\n",
       "      <td>0.438917</td>\n",
       "      <td>3</td>\n",
       "      <td>3.006506</td>\n",
       "      <td>0.432135</td>\n",
       "    </tr>\n",
       "    <tr>\n",
       "      <th>528</th>\n",
       "      <td>query_5</td>\n",
       "      <td>doc_529</td>\n",
       "      <td>130.788445</td>\n",
       "      <td>2</td>\n",
       "      <td>92</td>\n",
       "      <td>0.521378</td>\n",
       "      <td>3</td>\n",
       "      <td>4.387608</td>\n",
       "      <td>0.432135</td>\n",
       "    </tr>\n",
       "  </tbody>\n",
       "</table>\n",
       "<p>330 rows × 9 columns</p>\n",
       "</div>"
      ],
      "text/plain": [
       "         qid      did    doc_size  doc_authors  doc_paragraphs  relevance  \\\n",
       "131  query_5  doc_132  438.245360            5             131   0.468934   \n",
       "100  query_4  doc_101  311.435717            4             115   0.777631   \n",
       "460  query_3  doc_461  339.116520            4             173   0.327702   \n",
       "705  query_5  doc_706  463.690276            3             125   0.634287   \n",
       "134  query_2  doc_135  422.214211            4             170   0.902875   \n",
       "..       ...      ...         ...          ...             ...        ...   \n",
       "421  query_5  doc_422  131.493036            2              69   0.524366   \n",
       "194  query_4  doc_195   86.266093            2             102   0.499842   \n",
       "5    query_1    doc_6  154.925980            4              94   0.500868   \n",
       "663  query_3  doc_664  139.543270            5              61   0.438917   \n",
       "528  query_5  doc_529  130.788445            2              92   0.521378   \n",
       "\n",
       "    rank  rank_score_pairwise  rank_score_ndcg  \n",
       "131    3             5.788270         0.564546  \n",
       "100    4             0.721314         0.564546  \n",
       "460    2             3.660527         0.564546  \n",
       "705    4             5.332096         0.564546  \n",
       "134    5             4.722393         0.564546  \n",
       "..   ...                  ...              ...  \n",
       "421    3             3.481098         0.432135  \n",
       "194    3             4.688314         0.432135  \n",
       "5      3             1.975777         0.432135  \n",
       "663    3             3.006506         0.432135  \n",
       "528    3             4.387608         0.432135  \n",
       "\n",
       "[330 rows x 9 columns]"
      ]
     },
     "execution_count": 112,
     "metadata": {},
     "output_type": "execute_result"
    }
   ],
   "source": [
    "results['rank_score_ndcg'] = ranker.predict(results[docs_feats])    \n",
    "results = results.sort_values(by='rank_score_ndcg',ascending=False)\n",
    "results"
   ]
  },
  {
   "cell_type": "markdown",
   "metadata": {},
   "source": [
    "We are using again the NDCG score to see how our model performs"
   ]
  },
  {
   "cell_type": "code",
   "execution_count": 113,
   "metadata": {},
   "outputs": [
    {
     "data": {
      "text/plain": [
       "0.8841611992803472"
      ]
     },
     "execution_count": 113,
     "metadata": {},
     "output_type": "execute_result"
    }
   ],
   "source": [
    "metrics.ndcg_score([results['rank']],[results['rank_score_ndcg']])"
   ]
  },
  {
   "cell_type": "code",
   "execution_count": 114,
   "metadata": {},
   "outputs": [
    {
     "data": {
      "text/html": [
       "<div>\n",
       "<style scoped>\n",
       "    .dataframe tbody tr th:only-of-type {\n",
       "        vertical-align: middle;\n",
       "    }\n",
       "\n",
       "    .dataframe tbody tr th {\n",
       "        vertical-align: top;\n",
       "    }\n",
       "\n",
       "    .dataframe thead th {\n",
       "        text-align: right;\n",
       "    }\n",
       "</style>\n",
       "<table border=\"1\" class=\"dataframe\">\n",
       "  <thead>\n",
       "    <tr style=\"text-align: right;\">\n",
       "      <th></th>\n",
       "      <th>qid</th>\n",
       "      <th>did</th>\n",
       "      <th>doc_size</th>\n",
       "      <th>doc_authors</th>\n",
       "      <th>doc_paragraphs</th>\n",
       "      <th>relevance</th>\n",
       "      <th>rank</th>\n",
       "      <th>rank_score_pairwise</th>\n",
       "      <th>rank_score_ndcg</th>\n",
       "    </tr>\n",
       "  </thead>\n",
       "  <tbody>\n",
       "    <tr>\n",
       "      <th>131</th>\n",
       "      <td>query_5</td>\n",
       "      <td>doc_132</td>\n",
       "      <td>438.245360</td>\n",
       "      <td>5</td>\n",
       "      <td>131</td>\n",
       "      <td>0.468934</td>\n",
       "      <td>3</td>\n",
       "      <td>5.788270</td>\n",
       "      <td>0.564546</td>\n",
       "    </tr>\n",
       "    <tr>\n",
       "      <th>705</th>\n",
       "      <td>query_5</td>\n",
       "      <td>doc_706</td>\n",
       "      <td>463.690276</td>\n",
       "      <td>3</td>\n",
       "      <td>125</td>\n",
       "      <td>0.634287</td>\n",
       "      <td>4</td>\n",
       "      <td>5.332096</td>\n",
       "      <td>0.564546</td>\n",
       "    </tr>\n",
       "    <tr>\n",
       "      <th>647</th>\n",
       "      <td>query_5</td>\n",
       "      <td>doc_648</td>\n",
       "      <td>499.702704</td>\n",
       "      <td>5</td>\n",
       "      <td>112</td>\n",
       "      <td>0.640742</td>\n",
       "      <td>4</td>\n",
       "      <td>3.949763</td>\n",
       "      <td>0.564546</td>\n",
       "    </tr>\n",
       "    <tr>\n",
       "      <th>37</th>\n",
       "      <td>query_5</td>\n",
       "      <td>doc_38</td>\n",
       "      <td>446.435847</td>\n",
       "      <td>2</td>\n",
       "      <td>139</td>\n",
       "      <td>0.078024</td>\n",
       "      <td>1</td>\n",
       "      <td>1.788967</td>\n",
       "      <td>0.564546</td>\n",
       "    </tr>\n",
       "    <tr>\n",
       "      <th>372</th>\n",
       "      <td>query_5</td>\n",
       "      <td>doc_373</td>\n",
       "      <td>376.365562</td>\n",
       "      <td>4</td>\n",
       "      <td>118</td>\n",
       "      <td>0.256528</td>\n",
       "      <td>2</td>\n",
       "      <td>1.769992</td>\n",
       "      <td>0.564546</td>\n",
       "    </tr>\n",
       "    <tr>\n",
       "      <th>...</th>\n",
       "      <td>...</td>\n",
       "      <td>...</td>\n",
       "      <td>...</td>\n",
       "      <td>...</td>\n",
       "      <td>...</td>\n",
       "      <td>...</td>\n",
       "      <td>...</td>\n",
       "      <td>...</td>\n",
       "      <td>...</td>\n",
       "    </tr>\n",
       "    <tr>\n",
       "      <th>412</th>\n",
       "      <td>query_1</td>\n",
       "      <td>doc_413</td>\n",
       "      <td>146.237719</td>\n",
       "      <td>3</td>\n",
       "      <td>101</td>\n",
       "      <td>0.505013</td>\n",
       "      <td>3</td>\n",
       "      <td>3.511979</td>\n",
       "      <td>0.432135</td>\n",
       "    </tr>\n",
       "    <tr>\n",
       "      <th>593</th>\n",
       "      <td>query_1</td>\n",
       "      <td>doc_594</td>\n",
       "      <td>51.742807</td>\n",
       "      <td>5</td>\n",
       "      <td>50</td>\n",
       "      <td>0.408177</td>\n",
       "      <td>3</td>\n",
       "      <td>2.817086</td>\n",
       "      <td>0.432135</td>\n",
       "    </tr>\n",
       "    <tr>\n",
       "      <th>174</th>\n",
       "      <td>query_1</td>\n",
       "      <td>doc_175</td>\n",
       "      <td>152.116111</td>\n",
       "      <td>4</td>\n",
       "      <td>103</td>\n",
       "      <td>0.077273</td>\n",
       "      <td>1</td>\n",
       "      <td>2.433534</td>\n",
       "      <td>0.432135</td>\n",
       "    </tr>\n",
       "    <tr>\n",
       "      <th>518</th>\n",
       "      <td>query_1</td>\n",
       "      <td>doc_519</td>\n",
       "      <td>116.540539</td>\n",
       "      <td>5</td>\n",
       "      <td>103</td>\n",
       "      <td>0.418459</td>\n",
       "      <td>3</td>\n",
       "      <td>4.447410</td>\n",
       "      <td>0.432135</td>\n",
       "    </tr>\n",
       "    <tr>\n",
       "      <th>5</th>\n",
       "      <td>query_1</td>\n",
       "      <td>doc_6</td>\n",
       "      <td>154.925980</td>\n",
       "      <td>4</td>\n",
       "      <td>94</td>\n",
       "      <td>0.500868</td>\n",
       "      <td>3</td>\n",
       "      <td>1.975777</td>\n",
       "      <td>0.432135</td>\n",
       "    </tr>\n",
       "  </tbody>\n",
       "</table>\n",
       "<p>330 rows × 9 columns</p>\n",
       "</div>"
      ],
      "text/plain": [
       "         qid      did    doc_size  doc_authors  doc_paragraphs  relevance  \\\n",
       "131  query_5  doc_132  438.245360            5             131   0.468934   \n",
       "705  query_5  doc_706  463.690276            3             125   0.634287   \n",
       "647  query_5  doc_648  499.702704            5             112   0.640742   \n",
       "37   query_5   doc_38  446.435847            2             139   0.078024   \n",
       "372  query_5  doc_373  376.365562            4             118   0.256528   \n",
       "..       ...      ...         ...          ...             ...        ...   \n",
       "412  query_1  doc_413  146.237719            3             101   0.505013   \n",
       "593  query_1  doc_594   51.742807            5              50   0.408177   \n",
       "174  query_1  doc_175  152.116111            4             103   0.077273   \n",
       "518  query_1  doc_519  116.540539            5             103   0.418459   \n",
       "5    query_1    doc_6  154.925980            4              94   0.500868   \n",
       "\n",
       "    rank  rank_score_pairwise  rank_score_ndcg  \n",
       "131    3             5.788270         0.564546  \n",
       "705    4             5.332096         0.564546  \n",
       "647    4             3.949763         0.564546  \n",
       "37     1             1.788967         0.564546  \n",
       "372    2             1.769992         0.564546  \n",
       "..   ...                  ...              ...  \n",
       "412    3             3.511979         0.432135  \n",
       "593    3             2.817086         0.432135  \n",
       "174    1             2.433534         0.432135  \n",
       "518    3             4.447410         0.432135  \n",
       "5      3             1.975777         0.432135  \n",
       "\n",
       "[330 rows x 9 columns]"
      ]
     },
     "execution_count": 114,
     "metadata": {},
     "output_type": "execute_result"
    }
   ],
   "source": [
    "results.sort_values(by=['qid','rank_score_ndcg'],ascending=False)"
   ]
  },
  {
   "cell_type": "markdown",
   "metadata": {},
   "source": [
    "## Expedia Hotel Recommendation"
   ]
  },
  {
   "cell_type": "markdown",
   "metadata": {},
   "source": [
    "![](https://cdn.geekwire.com/wp-content/uploads/2016/05/20160511_Expedia_08-630x420.jpg)"
   ]
  },
  {
   "cell_type": "markdown",
   "metadata": {},
   "source": [
    "Expedia has provided you [logs of customer behavior](https://www.kaggle.com/c/expedia-hotel-recommendations/data). These include what customers searched for, how they interacted with search results (click/book), whether or not the search result was a travel package. The data in this competition is a random selection from Expedia and is not representative of the overall statistics.\n",
    "\n",
    "Expedia is interested in predicting which hotel group a user is going to book. Expedia has in-house algorithms to form hotel clusters, where similar hotels for a search (based on historical price, customer star ratings, geographical locations relative to city center, etc) are grouped together. These hotel clusters serve as good identifiers to which types of hotels people are going to book, while avoiding outliers such as new hotels that don't have historical data."
   ]
  },
  {
   "cell_type": "markdown",
   "metadata": {},
   "source": [
    "| Column name               | Description                                                                                                               | Data type |\n",
    "|---------------------------|---------------------------------------------------------------------------------------------------------------------------|-----------|\n",
    "| date_time                 | Timestamp                                                                                                                 | string    |\n",
    "| site_name                 | ID of the Expedia point of sale (i.e. Expedia.com, Expedia.co.uk, Expedia.co.jp, ...)                                     | int       |\n",
    "| posa_continent            | ID of continent associated with site_name                                                                                 | int       |\n",
    "| user_location_country     | The ID of the country the customer is located                                                                             | int       |\n",
    "| user_location_region      | The ID of the region the customer is located                                                                              | int       |\n",
    "| user_location_city        | The ID of the city the customer is located                                                                                | int       |\n",
    "| orig_destination_distance | Physical distance between a hotel and a customer at the time of search. A null means the distance could not be calculated | double    |\n",
    "| user_id                   | ID of user                                                                                                                | int       |\n",
    "| is_mobile                 | 1 when a user connected from a mobile device, 0 otherwise                                                                 | tinyint   |\n",
    "| is_package                | 1 if the click/booking was generated as a part of a package (i.e. combined with a flight), 0 otherwise                    | int       |\n",
    "| channel                   | ID of a marketing channel                                                                                                 | int       |\n",
    "| srch_ci                   | Checkin date                                                                                                              | string    |\n",
    "| srch_co                   | Checkout date                                                                                                             | string    |\n",
    "| srch_adults_cnt           | The number of adults specified in the hotel room                                                                          | int       |\n",
    "| srch_children_cnt         | The number of (extra occupancy) children specified in the hotel room                                                      | int       |\n",
    "| srch_rm_cnt               | The number of hotel rooms specified in the search                                                                         | int       |\n",
    "| srch_destination_id       | ID of the destination where the hotel search was performed                                                                | int       |\n",
    "| srch_destination_type_id  | Type of destination                                                                                                       | int       |\n",
    "| hotel_continent           | Hotel continent                                                                                                           | int       |\n",
    "| hotel_country             | Hotel country                                                                                                             | int       |\n",
    "| hotel_market              | Hotel market                                                                                                              | int       |\n",
    "| is_booking                | 1 if a booking, 0 if a click                                                                                              | tinyint   |\n",
    "| cnt                       | Numer of similar events in the context of the same user session                                                           | bigint    |\n",
    "| hotel_cluster             | ID of a hotel cluster                                                                                                     | int       |"
   ]
  },
  {
   "cell_type": "code",
   "execution_count": 115,
   "metadata": {},
   "outputs": [
    {
     "data": {
      "text/html": [
       "<div>\n",
       "<style scoped>\n",
       "    .dataframe tbody tr th:only-of-type {\n",
       "        vertical-align: middle;\n",
       "    }\n",
       "\n",
       "    .dataframe tbody tr th {\n",
       "        vertical-align: top;\n",
       "    }\n",
       "\n",
       "    .dataframe thead th {\n",
       "        text-align: right;\n",
       "    }\n",
       "</style>\n",
       "<table border=\"1\" class=\"dataframe\">\n",
       "  <thead>\n",
       "    <tr style=\"text-align: right;\">\n",
       "      <th></th>\n",
       "      <th>date_time</th>\n",
       "      <th>site_name</th>\n",
       "      <th>posa_continent</th>\n",
       "      <th>user_location_country</th>\n",
       "      <th>user_location_region</th>\n",
       "      <th>user_location_city</th>\n",
       "      <th>orig_destination_distance</th>\n",
       "      <th>user_id</th>\n",
       "      <th>is_mobile</th>\n",
       "      <th>is_package</th>\n",
       "      <th>...</th>\n",
       "      <th>srch_children_cnt</th>\n",
       "      <th>srch_rm_cnt</th>\n",
       "      <th>srch_destination_id</th>\n",
       "      <th>srch_destination_type_id</th>\n",
       "      <th>is_booking</th>\n",
       "      <th>cnt</th>\n",
       "      <th>hotel_continent</th>\n",
       "      <th>hotel_country</th>\n",
       "      <th>hotel_market</th>\n",
       "      <th>hotel_cluster</th>\n",
       "    </tr>\n",
       "  </thead>\n",
       "  <tbody>\n",
       "    <tr>\n",
       "      <th>0</th>\n",
       "      <td>2014-08-11 07:46:59</td>\n",
       "      <td>2</td>\n",
       "      <td>3</td>\n",
       "      <td>66</td>\n",
       "      <td>348</td>\n",
       "      <td>48862</td>\n",
       "      <td>2234.2641</td>\n",
       "      <td>12</td>\n",
       "      <td>0</td>\n",
       "      <td>1</td>\n",
       "      <td>...</td>\n",
       "      <td>0</td>\n",
       "      <td>1</td>\n",
       "      <td>8250</td>\n",
       "      <td>1</td>\n",
       "      <td>0</td>\n",
       "      <td>3</td>\n",
       "      <td>2</td>\n",
       "      <td>50</td>\n",
       "      <td>628</td>\n",
       "      <td>1</td>\n",
       "    </tr>\n",
       "    <tr>\n",
       "      <th>1</th>\n",
       "      <td>2014-08-11 08:22:12</td>\n",
       "      <td>2</td>\n",
       "      <td>3</td>\n",
       "      <td>66</td>\n",
       "      <td>348</td>\n",
       "      <td>48862</td>\n",
       "      <td>2234.2641</td>\n",
       "      <td>12</td>\n",
       "      <td>0</td>\n",
       "      <td>1</td>\n",
       "      <td>...</td>\n",
       "      <td>0</td>\n",
       "      <td>1</td>\n",
       "      <td>8250</td>\n",
       "      <td>1</td>\n",
       "      <td>1</td>\n",
       "      <td>1</td>\n",
       "      <td>2</td>\n",
       "      <td>50</td>\n",
       "      <td>628</td>\n",
       "      <td>1</td>\n",
       "    </tr>\n",
       "    <tr>\n",
       "      <th>2</th>\n",
       "      <td>2014-08-11 08:24:33</td>\n",
       "      <td>2</td>\n",
       "      <td>3</td>\n",
       "      <td>66</td>\n",
       "      <td>348</td>\n",
       "      <td>48862</td>\n",
       "      <td>2234.2641</td>\n",
       "      <td>12</td>\n",
       "      <td>0</td>\n",
       "      <td>0</td>\n",
       "      <td>...</td>\n",
       "      <td>0</td>\n",
       "      <td>1</td>\n",
       "      <td>8250</td>\n",
       "      <td>1</td>\n",
       "      <td>0</td>\n",
       "      <td>1</td>\n",
       "      <td>2</td>\n",
       "      <td>50</td>\n",
       "      <td>628</td>\n",
       "      <td>1</td>\n",
       "    </tr>\n",
       "    <tr>\n",
       "      <th>3</th>\n",
       "      <td>2014-08-09 18:05:16</td>\n",
       "      <td>2</td>\n",
       "      <td>3</td>\n",
       "      <td>66</td>\n",
       "      <td>442</td>\n",
       "      <td>35390</td>\n",
       "      <td>913.1932</td>\n",
       "      <td>93</td>\n",
       "      <td>0</td>\n",
       "      <td>0</td>\n",
       "      <td>...</td>\n",
       "      <td>0</td>\n",
       "      <td>1</td>\n",
       "      <td>14984</td>\n",
       "      <td>1</td>\n",
       "      <td>0</td>\n",
       "      <td>1</td>\n",
       "      <td>2</td>\n",
       "      <td>50</td>\n",
       "      <td>1457</td>\n",
       "      <td>80</td>\n",
       "    </tr>\n",
       "    <tr>\n",
       "      <th>4</th>\n",
       "      <td>2014-08-09 18:08:18</td>\n",
       "      <td>2</td>\n",
       "      <td>3</td>\n",
       "      <td>66</td>\n",
       "      <td>442</td>\n",
       "      <td>35390</td>\n",
       "      <td>913.6259</td>\n",
       "      <td>93</td>\n",
       "      <td>0</td>\n",
       "      <td>0</td>\n",
       "      <td>...</td>\n",
       "      <td>0</td>\n",
       "      <td>1</td>\n",
       "      <td>14984</td>\n",
       "      <td>1</td>\n",
       "      <td>0</td>\n",
       "      <td>1</td>\n",
       "      <td>2</td>\n",
       "      <td>50</td>\n",
       "      <td>1457</td>\n",
       "      <td>21</td>\n",
       "    </tr>\n",
       "  </tbody>\n",
       "</table>\n",
       "<p>5 rows × 24 columns</p>\n",
       "</div>"
      ],
      "text/plain": [
       "             date_time  site_name  posa_continent  user_location_country  \\\n",
       "0  2014-08-11 07:46:59          2               3                     66   \n",
       "1  2014-08-11 08:22:12          2               3                     66   \n",
       "2  2014-08-11 08:24:33          2               3                     66   \n",
       "3  2014-08-09 18:05:16          2               3                     66   \n",
       "4  2014-08-09 18:08:18          2               3                     66   \n",
       "\n",
       "   user_location_region  user_location_city  orig_destination_distance  \\\n",
       "0                   348               48862                  2234.2641   \n",
       "1                   348               48862                  2234.2641   \n",
       "2                   348               48862                  2234.2641   \n",
       "3                   442               35390                   913.1932   \n",
       "4                   442               35390                   913.6259   \n",
       "\n",
       "   user_id  is_mobile  is_package  ...  srch_children_cnt srch_rm_cnt  \\\n",
       "0       12          0           1  ...                  0           1   \n",
       "1       12          0           1  ...                  0           1   \n",
       "2       12          0           0  ...                  0           1   \n",
       "3       93          0           0  ...                  0           1   \n",
       "4       93          0           0  ...                  0           1   \n",
       "\n",
       "  srch_destination_id  srch_destination_type_id  is_booking  cnt  \\\n",
       "0                8250                         1           0    3   \n",
       "1                8250                         1           1    1   \n",
       "2                8250                         1           0    1   \n",
       "3               14984                         1           0    1   \n",
       "4               14984                         1           0    1   \n",
       "\n",
       "   hotel_continent  hotel_country  hotel_market  hotel_cluster  \n",
       "0                2             50           628              1  \n",
       "1                2             50           628              1  \n",
       "2                2             50           628              1  \n",
       "3                2             50          1457             80  \n",
       "4                2             50          1457             21  \n",
       "\n",
       "[5 rows x 24 columns]"
      ]
     },
     "execution_count": 115,
     "metadata": {},
     "output_type": "execute_result"
    }
   ],
   "source": [
    "expedia = pd.read_csv('data/expedia-hotel-recommendations/train.csv')[:200000].copy()\n",
    "expedia.head(5)"
   ]
  },
  {
   "cell_type": "markdown",
   "metadata": {},
   "source": [
    "## Modeling"
   ]
  },
  {
   "cell_type": "markdown",
   "metadata": {},
   "source": [
    "Our objective here is to predict a list of hotel clusters for each user.\n",
    "\n",
    "But first let's make a list of features and a variable for target and group_id\n",
    "\n",
    "we use group_id to define the column that will count the number of samples related to a group/query/domain"
   ]
  },
  {
   "cell_type": "code",
   "execution_count": 116,
   "metadata": {},
   "outputs": [],
   "source": [
    "features = [\n",
    "    'site_name','posa_continent','user_location_country','user_location_region', 'user_location_city',\n",
    "    'orig_destination_distance', 'is_mobile', 'is_package','channel', 'srch_adults_cnt', 'srch_children_cnt',\n",
    "    'srch_rm_cnt', 'srch_destination_type_id','is_booking', 'cnt', 'hotel_continent', 'hotel_country', \n",
    "    'hotel_market', 'srch_days', 'srch_ci_month'\n",
    "]\n",
    "group_id = 'user_id'\n",
    "target = 'hotel_cluster'"
   ]
  },
  {
   "cell_type": "markdown",
   "metadata": {},
   "source": [
    "we use this fuction for feature engineering\n",
    "- we want to take the number of the mount from the check in search date\n",
    "- we want to extract the number of days the user is looking to book"
   ]
  },
  {
   "cell_type": "code",
   "execution_count": 119,
   "metadata": {},
   "outputs": [],
   "source": [
    "def my_feature_engineering(df):\n",
    "    data = df.copy()\n",
    "    for c in ['srch_ci','srch_co']:\n",
    "        data[c] = pd.to_datetime(data[c])\n",
    "        data[f'{c}_month'] = data[c].dt.month\n",
    "        \n",
    "    data['srch_days'] = (data['srch_co'] - data['srch_ci']).dt.days    \n",
    "    return data"
   ]
  },
  {
   "cell_type": "markdown",
   "metadata": {},
   "source": [
    "we apply the feature engineering function"
   ]
  },
  {
   "cell_type": "code",
   "execution_count": 120,
   "metadata": {},
   "outputs": [],
   "source": [
    "expedia = my_feature_engineering(expedia)"
   ]
  },
  {
   "cell_type": "markdown",
   "metadata": {},
   "source": [
    "after that we can train/test split our data"
   ]
  },
  {
   "cell_type": "code",
   "execution_count": 121,
   "metadata": {},
   "outputs": [],
   "source": [
    "train,test = train_test_split(expedia, test_size=0.33, random_state=42)"
   ]
  },
  {
   "cell_type": "markdown",
   "metadata": {},
   "source": [
    "then we want to get the number of samples by our group_id column in this case is the `used_id` column\n",
    "\n",
    "Note: the sum of the number of groups must match the size of the training set"
   ]
  },
  {
   "cell_type": "code",
   "execution_count": 122,
   "metadata": {},
   "outputs": [],
   "source": [
    "train_groups = train.groupby(group_id).size()"
   ]
  },
  {
   "cell_type": "code",
   "execution_count": 123,
   "metadata": {},
   "outputs": [
    {
     "data": {
      "text/plain": [
       "6773"
      ]
     },
     "execution_count": 123,
     "metadata": {},
     "output_type": "execute_result"
    }
   ],
   "source": [
    "len(train_groups)"
   ]
  },
  {
   "cell_type": "markdown",
   "metadata": {},
   "source": [
    "finally we can train our ranking model"
   ]
  },
  {
   "cell_type": "code",
   "execution_count": 124,
   "metadata": {},
   "outputs": [
    {
     "data": {
      "text/plain": [
       "XGBRanker(base_score=0.5, booster='gbtree', colsample_bylevel=1,\n",
       "          colsample_bynode=1, colsample_bytree=1, gamma=0, gpu_id=-1,\n",
       "          importance_type='gain', interaction_constraints='',\n",
       "          learning_rate=0.300000012, max_delta_step=0, max_depth=6,\n",
       "          min_child_weight=1, missing=nan, monotone_constraints='()',\n",
       "          n_estimators=100, n_jobs=32, num_parallel_tree=1,\n",
       "          objective='rank:ndcg', random_state=0, reg_alpha=0, reg_lambda=1,\n",
       "          scale_pos_weight=None, subsample=1, tree_method='exact',\n",
       "          validate_parameters=1, verbosity=None)"
      ]
     },
     "execution_count": 124,
     "metadata": {},
     "output_type": "execute_result"
    }
   ],
   "source": [
    "ranker = xgb.XGBRanker(objective='rank:ndcg',booster='gbtree')\n",
    "ranker.fit(train[features], train[target], group=train_groups)"
   ]
  },
  {
   "cell_type": "markdown",
   "metadata": {},
   "source": [
    "Now that we've trained our model we can take a copy of our test data and apply the model.\n",
    "\n",
    "Then we predict the relevance score for each group in our dataframe."
   ]
  },
  {
   "cell_type": "code",
   "execution_count": 125,
   "metadata": {},
   "outputs": [],
   "source": [
    "%%capture\n",
    "results = test.copy()\n",
    "results['rank_score_ndcg'] = ranker.predict(results[features])       \n",
    "results = results.sort_values(by='rank_score_ndcg',ascending=False)"
   ]
  },
  {
   "cell_type": "code",
   "execution_count": 126,
   "metadata": {},
   "outputs": [
    {
     "data": {
      "text/html": [
       "<div>\n",
       "<style scoped>\n",
       "    .dataframe tbody tr th:only-of-type {\n",
       "        vertical-align: middle;\n",
       "    }\n",
       "\n",
       "    .dataframe tbody tr th {\n",
       "        vertical-align: top;\n",
       "    }\n",
       "\n",
       "    .dataframe thead th {\n",
       "        text-align: right;\n",
       "    }\n",
       "</style>\n",
       "<table border=\"1\" class=\"dataframe\">\n",
       "  <thead>\n",
       "    <tr style=\"text-align: right;\">\n",
       "      <th></th>\n",
       "      <th>date_time</th>\n",
       "      <th>site_name</th>\n",
       "      <th>posa_continent</th>\n",
       "      <th>user_location_country</th>\n",
       "      <th>user_location_region</th>\n",
       "      <th>user_location_city</th>\n",
       "      <th>orig_destination_distance</th>\n",
       "      <th>user_id</th>\n",
       "      <th>is_mobile</th>\n",
       "      <th>is_package</th>\n",
       "      <th>...</th>\n",
       "      <th>is_booking</th>\n",
       "      <th>cnt</th>\n",
       "      <th>hotel_continent</th>\n",
       "      <th>hotel_country</th>\n",
       "      <th>hotel_market</th>\n",
       "      <th>hotel_cluster</th>\n",
       "      <th>srch_ci_month</th>\n",
       "      <th>srch_co_month</th>\n",
       "      <th>srch_days</th>\n",
       "      <th>rank_score_ndcg</th>\n",
       "    </tr>\n",
       "  </thead>\n",
       "  <tbody>\n",
       "    <tr>\n",
       "      <th>11832</th>\n",
       "      <td>2014-12-03 23:07:59</td>\n",
       "      <td>2</td>\n",
       "      <td>3</td>\n",
       "      <td>66</td>\n",
       "      <td>174</td>\n",
       "      <td>5013</td>\n",
       "      <td>4134.9107</td>\n",
       "      <td>65362</td>\n",
       "      <td>1</td>\n",
       "      <td>1</td>\n",
       "      <td>...</td>\n",
       "      <td>0</td>\n",
       "      <td>5</td>\n",
       "      <td>0</td>\n",
       "      <td>140</td>\n",
       "      <td>59</td>\n",
       "      <td>92</td>\n",
       "      <td>3.0</td>\n",
       "      <td>3.0</td>\n",
       "      <td>3.0</td>\n",
       "      <td>2.776571</td>\n",
       "    </tr>\n",
       "    <tr>\n",
       "      <th>57880</th>\n",
       "      <td>2013-03-02 17:59:35</td>\n",
       "      <td>2</td>\n",
       "      <td>3</td>\n",
       "      <td>66</td>\n",
       "      <td>318</td>\n",
       "      <td>7412</td>\n",
       "      <td>6007.6063</td>\n",
       "      <td>202006</td>\n",
       "      <td>1</td>\n",
       "      <td>1</td>\n",
       "      <td>...</td>\n",
       "      <td>0</td>\n",
       "      <td>2</td>\n",
       "      <td>0</td>\n",
       "      <td>140</td>\n",
       "      <td>59</td>\n",
       "      <td>92</td>\n",
       "      <td>1.0</td>\n",
       "      <td>1.0</td>\n",
       "      <td>6.0</td>\n",
       "      <td>2.745670</td>\n",
       "    </tr>\n",
       "    <tr>\n",
       "      <th>165013</th>\n",
       "      <td>2013-03-18 23:49:34</td>\n",
       "      <td>30</td>\n",
       "      <td>4</td>\n",
       "      <td>195</td>\n",
       "      <td>995</td>\n",
       "      <td>55763</td>\n",
       "      <td>NaN</td>\n",
       "      <td>623285</td>\n",
       "      <td>0</td>\n",
       "      <td>0</td>\n",
       "      <td>...</td>\n",
       "      <td>0</td>\n",
       "      <td>4</td>\n",
       "      <td>0</td>\n",
       "      <td>63</td>\n",
       "      <td>1108</td>\n",
       "      <td>49</td>\n",
       "      <td>5.0</td>\n",
       "      <td>5.0</td>\n",
       "      <td>3.0</td>\n",
       "      <td>2.699138</td>\n",
       "    </tr>\n",
       "    <tr>\n",
       "      <th>165016</th>\n",
       "      <td>2013-03-18 23:55:09</td>\n",
       "      <td>30</td>\n",
       "      <td>4</td>\n",
       "      <td>195</td>\n",
       "      <td>995</td>\n",
       "      <td>55763</td>\n",
       "      <td>NaN</td>\n",
       "      <td>623285</td>\n",
       "      <td>0</td>\n",
       "      <td>0</td>\n",
       "      <td>...</td>\n",
       "      <td>0</td>\n",
       "      <td>1</td>\n",
       "      <td>0</td>\n",
       "      <td>63</td>\n",
       "      <td>1108</td>\n",
       "      <td>59</td>\n",
       "      <td>5.0</td>\n",
       "      <td>5.0</td>\n",
       "      <td>1.0</td>\n",
       "      <td>2.597546</td>\n",
       "    </tr>\n",
       "    <tr>\n",
       "      <th>14238</th>\n",
       "      <td>2014-01-08 14:19:07</td>\n",
       "      <td>13</td>\n",
       "      <td>1</td>\n",
       "      <td>46</td>\n",
       "      <td>171</td>\n",
       "      <td>56407</td>\n",
       "      <td>8597.2618</td>\n",
       "      <td>72327</td>\n",
       "      <td>0</td>\n",
       "      <td>1</td>\n",
       "      <td>...</td>\n",
       "      <td>0</td>\n",
       "      <td>1</td>\n",
       "      <td>0</td>\n",
       "      <td>63</td>\n",
       "      <td>1193</td>\n",
       "      <td>2</td>\n",
       "      <td>3.0</td>\n",
       "      <td>3.0</td>\n",
       "      <td>1.0</td>\n",
       "      <td>2.582656</td>\n",
       "    </tr>\n",
       "  </tbody>\n",
       "</table>\n",
       "<p>5 rows × 28 columns</p>\n",
       "</div>"
      ],
      "text/plain": [
       "                  date_time  site_name  posa_continent  user_location_country  \\\n",
       "11832   2014-12-03 23:07:59          2               3                     66   \n",
       "57880   2013-03-02 17:59:35          2               3                     66   \n",
       "165013  2013-03-18 23:49:34         30               4                    195   \n",
       "165016  2013-03-18 23:55:09         30               4                    195   \n",
       "14238   2014-01-08 14:19:07         13               1                     46   \n",
       "\n",
       "        user_location_region  user_location_city  orig_destination_distance  \\\n",
       "11832                    174                5013                  4134.9107   \n",
       "57880                    318                7412                  6007.6063   \n",
       "165013                   995               55763                        NaN   \n",
       "165016                   995               55763                        NaN   \n",
       "14238                    171               56407                  8597.2618   \n",
       "\n",
       "        user_id  is_mobile  is_package  ...  is_booking cnt hotel_continent  \\\n",
       "11832     65362          1           1  ...           0   5               0   \n",
       "57880    202006          1           1  ...           0   2               0   \n",
       "165013   623285          0           0  ...           0   4               0   \n",
       "165016   623285          0           0  ...           0   1               0   \n",
       "14238     72327          0           1  ...           0   1               0   \n",
       "\n",
       "        hotel_country  hotel_market  hotel_cluster  srch_ci_month  \\\n",
       "11832             140            59             92            3.0   \n",
       "57880             140            59             92            1.0   \n",
       "165013             63          1108             49            5.0   \n",
       "165016             63          1108             59            5.0   \n",
       "14238              63          1193              2            3.0   \n",
       "\n",
       "        srch_co_month  srch_days  rank_score_ndcg  \n",
       "11832             3.0        3.0         2.776571  \n",
       "57880             1.0        6.0         2.745670  \n",
       "165013            5.0        3.0         2.699138  \n",
       "165016            5.0        1.0         2.597546  \n",
       "14238             3.0        1.0         2.582656  \n",
       "\n",
       "[5 rows x 28 columns]"
      ]
     },
     "execution_count": 126,
     "metadata": {},
     "output_type": "execute_result"
    }
   ],
   "source": [
    "results[:5]"
   ]
  },
  {
   "cell_type": "markdown",
   "metadata": {},
   "source": [
    "Again we use the NDCG score to see how our model performs"
   ]
  },
  {
   "cell_type": "code",
   "execution_count": 127,
   "metadata": {},
   "outputs": [
    {
     "data": {
      "text/plain": [
       "0.9546739271914936"
      ]
     },
     "execution_count": 127,
     "metadata": {},
     "output_type": "execute_result"
    }
   ],
   "source": [
    "metrics.ndcg_score([results[target]],[results['rank_score_ndcg']])"
   ]
  },
  {
   "cell_type": "markdown",
   "metadata": {},
   "source": [
    "Now let's look at the feature importance and impact"
   ]
  },
  {
   "cell_type": "code",
   "execution_count": 128,
   "metadata": {},
   "outputs": [
    {
     "name": "stderr",
     "output_type": "stream",
     "text": [
      "ntree_limit is deprecated, use `iteration_range` or model slicing instead.\n"
     ]
    }
   ],
   "source": [
    "expl = shap.TreeExplainer(ranker)\n",
    "shap_values = expl.shap_values(test[features])"
   ]
  },
  {
   "cell_type": "markdown",
   "metadata": {},
   "source": [
    "At first glance we can see:\n",
    "- a low value/category for hotel_continent is increasing the relevance score where a high value is decreasing it\n",
    "- on the other hand a high value/category for user location region is increasing the score and the reverse of it when the feature value is low\n",
    "- many features have a contradictoy impact whre a high value is having a both negative and positive imapct toward the model output"
   ]
  },
  {
   "cell_type": "code",
   "execution_count": 129,
   "metadata": {},
   "outputs": [
    {
     "data": {
      "image/png": "[encoded data removed]",
      "text/plain": [
       "<Figure size 576x684 with 2 Axes>"
      ]
     },
     "metadata": {},
     "output_type": "display_data"
    }
   ],
   "source": [
    "shap.summary_plot(shap_values,test[features])"
   ]
  },
  {
   "cell_type": "markdown",
   "metadata": {},
   "source": [
    "## Conclusions"
   ]
  },
  {
   "cell_type": "markdown",
   "metadata": {},
   "source": [
    "- Learning to rank is another subranch of machine learning focused on ranking and usaully used in Informatio Retrieval(IR)\n",
    "- Very large datasets are used in training the models in this area, but in the same time filtering capabilities are serving an important role\n",
    "- Framing the problem right give `data` and `goal` is an essential part for solving ranking problem"
   ]
  },
  {
   "cell_type": "markdown",
   "metadata": {},
   "source": [
    "## References"
   ]
  },
  {
   "cell_type": "markdown",
   "metadata": {},
   "source": [
    "- [Tiered machine learned ranking improves relevance for the retail search](https://blog.griddynamics.com/tiered-machine-learning-ranking-improves-relevance-for-the-retail-search/)\n",
    "- [Learning to Rank](https://www.cl.cam.ac.uk/teaching/1516/R222/l2r-overview.pdf)\n",
    "- [learning-to-rank-1](https://dec0de.me/2014/10/learning-to-rank-1)\n",
    "- [Learning to Rank with Partially-Labeled Data](http://www.cs.jhu.edu/~kevinduh/papers/duh08sigir.pdf)\n",
    "- [Learning to Rank with XGBoost and GPU](https://developer.nvidia.com/blog/learning-to-rank-with-xgboost-and-gpu/)\n",
    "- [Ranking Ads with Machine Learning](https://tech.olx.com/ranking-ads-with-machine-learning-ee03d7734bf4)\n",
    "- [How we’ve reworked our listings at OLX](https://medium.com/@pablopallocchi/how-weve-reworked-our-listings-at-olx-b6a6c05be8b5)\n",
    "- [Notes on the NDCG metric used in the Visual Dialog Challenge 2019](https://medium.com/@_init_/notes-on-the-ndcg-metric-used-in-the-visual-dialog-challenge-2019-90cf443b93dc)\n",
    "- [Learning to Rank with Partially-Labeled Data](http://www.cs.jhu.edu/~kevinduh/papers/duh08sigir.pdf)"
   ]
  }
 ],
 "metadata": {
  "kernelspec": {
   "display_name": "Python [conda env:ml]",
   "language": "python",
   "name": "conda-env-ml-py"
  },
  "language_info": {
   "codemirror_mode": {
    "name": "ipython",
    "version": 3
   },
   "file_extension": ".py",
   "mimetype": "text/x-python",
   "name": "python",
   "nbconvert_exporter": "python",
   "pygments_lexer": "ipython3",
   "version": "3.8.8"
  }
 },
 "nbformat": 4,
 "nbformat_minor": 4
}

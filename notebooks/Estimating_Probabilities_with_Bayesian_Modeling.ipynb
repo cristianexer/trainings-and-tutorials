{
  "nbformat": 4,
  "nbformat_minor": 0,
  "metadata": {
    "colab": {
      "name": "Estimating Probabilities with Bayesian Modeling.ipynb",
      "provenance": [],
      "collapsed_sections": [],
      "authorship_tag": "ABX9TyOPm4xGEKwh6Wr2ADK9RDyb",
      "include_colab_link": true
    },
    "kernelspec": {
      "name": "python3",
      "display_name": "Python 3"
    }
  },
  "cells": [
    {
      "cell_type": "markdown",
      "metadata": {
        "id": "view-in-github",
        "colab_type": "text"
      },
      "source": [
        "<a href=\"https://colab.research.google.com/github/cristianexer/tmp/blob/main/Estimating_Probabilities_with_Bayesian_Modeling.ipynb\" target=\"_parent\"><img src=\"https://colab.research.google.com/assets/colab-badge.svg\" alt=\"Open In Colab\"/></a>"
      ]
    },
    {
      "cell_type": "markdown",
      "metadata": {
        "id": "bFwkSdmE7W3y"
      },
      "source": [
        "# Estimating Probabilities with Bayesian Modeling\n",
        "\n",
        "\n",
        "![](https://miro.medium.com/max/1200/1*YVL0hT1qsR8KPpkFDV2-wA.jpeg)"
      ]
    },
    {
      "cell_type": "markdown",
      "metadata": {
        "id": "EZrPnFTPRlDh"
      },
      "source": [
        "## Aim and Objecives\n",
        "\n",
        "Estimating Probabilities with Bayesian Modeling in Python \n",
        " \n",
        "**Objectives:** \n",
        "- Get familiar with probabilities and distributions in Bayesian Modeling \n",
        "- Research and understand the underlaying concepts of Bayesian Modeling \n",
        "- Get a clear understanding of Frequentist vs Bayesian approaches (how they differ)\n",
        "- Implement a simple Model to estimate the probabilities on the Titanic data \n",
        " \n",
        " "
      ]
    },
    {
      "cell_type": "markdown",
      "metadata": {
        "id": "gRomfKWd73OM"
      },
      "source": [
        "## Background Research"
      ]
    },
    {
      "cell_type": "markdown",
      "metadata": {
        "id": "FQfrh5T6ITaq"
      },
      "source": [
        "**Probability Distributions**\n",
        "\n",
        "***What is a distribution ?*** [source](https://machinelearningmastery.com/statistical-data-distributions/)\n",
        "\n",
        "From a practical perspective, we can think of a distribution as a function that describes the relationship between observations in a sample space.\n",
        "\n",
        "---\n",
        "***What is a multinomial distribution ?***\n",
        "\n",
        "The multinomial distribution is the type of probability distribution used to calculate the outcomes of experiments involving two or more variables. The more widely known binomial distribution is a special type of multinomial distribution in which there are only two possible outcomes, such as true/false or heads/tails.\n",
        "\n",
        "---\n",
        "***What is a prior and posterior distribution ?*** [For more details see discussion here](https://stats.stackexchange.com/questions/58564/help-me-understand-bayesian-prior-and-posterior-distributions)\n",
        "\n",
        "It is a combination of the prior distribution and the likelihood function, which tells you what information is contained in your observed data (the “new evidence”). In other words, the posterior distribution summarizes what you know after the data has been observed.\n"
      ]
    },
    {
      "cell_type": "markdown",
      "metadata": {
        "id": "WLWcNjXY73KV"
      },
      "source": [
        "***Probability***\n",
        "\n",
        "$P = \\frac{(Number-of-favourable-outcomes)}{(Total-number-of-favourable-outcomes)}$\n",
        "---\n",
        "\n",
        "***Conditional Probability***\n",
        "\n",
        "$P(B|A) = \\frac{P(A∩B)}{P(A)}$\n",
        "---\n",
        "***Chain rule***\n",
        "\n",
        " We can rearrange the formula for conditional probability to get the so-called product rule:\n",
        "\n",
        "$P(A,B) = p(A|B) p(B)$\n",
        "---\n",
        "We can extend this for three variables:\n",
        "\n",
        "$P(A,B,C) = P(A| B,C) P(B,C) = P(A|B,C) P(B|C) P(C)$\n",
        "---\n",
        "\n",
        "and in general to n variables:\n",
        "\n",
        "$P(A1, A2, ..., An) = P(A1| A2, ..., An) P(A2| A3, ..., An) P(An-1|An) P(An)$\n",
        "---\n",
        "\n",
        "\n",
        "***Bayes' Theorem*** [source](https://blogs.kent.ac.uk/jonw/files/2015/04/Puza2005.pdf)\n",
        "\n",
        "![](https://www.probabilisticworld.com/wp-content/uploads/2016/06/bayes-theorem-with-description-2.png)\n",
        "\n",
        "$P(A|B)$ = $\\frac{P(B|A) P(A)}{P(B)}$\n",
        "---\n",
        "\n",
        "Reading: Probability of A given B equals (probability of B given A times probability of A ) divided by probability of B\n",
        "\n",
        "---\n",
        "Its fundamental aim is to formalize how information about one event can give us understanding of another\n",
        "\n"
      ]
    },
    {
      "cell_type": "markdown",
      "metadata": {
        "id": "iE4OUTTl5LQf"
      },
      "source": [
        "## Frequentist vs Bayesian\n",
        "\n"
      ]
    },
    {
      "cell_type": "markdown",
      "metadata": {
        "id": "2bn9hfce9MWO"
      },
      "source": [
        "![](https://cxl.com/wp-content/uploads/2015/08/frequentists_vs_bayesians.png)"
      ]
    },
    {
      "cell_type": "markdown",
      "metadata": {
        "id": "LjdRF_n79Fa8"
      },
      "source": [
        "**Frequentist**\n",
        "\n",
        "A Frequentist method makes predictions on the underlying truths of the experiment using only data from the current experiment.\n",
        "\n",
        "Frequentist arguments are more counter-factual in nature, and resemble the type of logic that lawyers use in court. Most of us learn frequentist statistics in entry-level statistics courses. A t-test, where we ask, “Is this variation different from the control?” is a basic building block of this approach.\n",
        "\n",
        ">I don’t know what the mean female height is. However, I know that its value is fixed (not a random one). Therefore, I cannot assign probabilities to the mean being equal to a certain value, or being less/greater than some other value. The most I can do is collect data from a sample of the population and estimate its mean as the value which is most consistent with the data."
      ]
    },
    {
      "cell_type": "markdown",
      "metadata": {
        "id": "Vf5UQRMO9Tw9"
      },
      "source": [
        "**Bayesian**\n",
        "\n",
        "Bayesian statistics take a more bottom-up approach to data analysis. This means that past knowledge of similar experiments is encoded into a statistical device known as a prior, and this prior is combined with current experiment data to make a conclusion on the test at hand.\n",
        "\n",
        ">I agree that the mean is a fixed and unknown value, but I see no problem in representing the uncertainty probabilistically. I will do so by defining a probability distribution over the possible values of the mean and use sample data to update this distribution."
      ]
    },
    {
      "cell_type": "markdown",
      "metadata": {
        "id": "INkCbVxbQ0xi"
      },
      "source": [
        "## Estimating probabilities on The Titanic\n",
        "\n",
        "![](https://www.maritimecyprus.com/wp-content/uploads/2015/10/titanic-infographic-1536x951.jpg)"
      ]
    },
    {
      "cell_type": "markdown",
      "metadata": {
        "id": "adWFSvhZRBhn"
      },
      "source": [
        "**Imports**"
      ]
    },
    {
      "cell_type": "code",
      "metadata": {
        "id": "o0uGs2bLGJq_"
      },
      "source": [
        "# data manipulation packages\n",
        "import pandas as pd\n",
        "import numpy as np\n",
        "\n",
        "# viz packages\n",
        "from matplotlib import pyplot as plt\n",
        "import seaborn as sns\n",
        "\n",
        "# plotting settings\n",
        "plt.style.use('seaborn') # plotting theme\n",
        "sns.set_style('whitegrid')\n",
        "plt.rcParams['axes.facecolor'] = 'white' # set plot background to white (readability for dark mode)"
      ],
      "execution_count": 1,
      "outputs": []
    },
    {
      "cell_type": "markdown",
      "metadata": {
        "id": "J-0cWhtYp4P4"
      },
      "source": [
        "**Data**\n",
        "\n",
        "[Link to data](https://web.stanford.edu/class/archive/cs/cs109/cs109.1166/problem12.html)\n",
        "\n",
        "On April 15, 1912, the largest passenger liner ever made collided with an iceberg during her maiden voyage. When the Titanic sank it killed 1502 out of 2224 passengers and crew. This sensational tragedy shocked the international community and led to better safety regulations for ships. One of the reasons that the shipwreck resulted in such loss of life was that there were not enough lifeboats for the passengers and crew. Although there was some element of luck involved in surviving the sinking, some groups of people were more likely to survive than others.\n",
        "\n",
        "The titanic.csv file contains data for 887 of the real Titanic passengers. Each row represents one person. The columns describe different attributes about the person including whether they survived\n",
        "\n",
        "Note:\n",
        "\n",
        "**pclass**: A proxy for socio-economic status (SES)\n",
        "- 1st = Upper\n",
        "- 2nd = Middle\n",
        "- 3rd = Lower\n"
      ]
    },
    {
      "cell_type": "code",
      "metadata": {
        "id": "EA_s-b72Q3iu",
        "colab": {
          "base_uri": "https://localhost:8080/",
          "height": 142
        },
        "outputId": "6ca3f6e3-a6ed-4e39-c80a-dd89e383eb84"
      },
      "source": [
        "df = pd.read_csv('https://web.stanford.edu/class/archive/cs/cs109/cs109.1166/stuff/titanic.csv')\n",
        "df[:3]"
      ],
      "execution_count": 2,
      "outputs": [
        {
          "output_type": "execute_result",
          "data": {
            "text/html": [
              "<div>\n",
              "<style scoped>\n",
              "    .dataframe tbody tr th:only-of-type {\n",
              "        vertical-align: middle;\n",
              "    }\n",
              "\n",
              "    .dataframe tbody tr th {\n",
              "        vertical-align: top;\n",
              "    }\n",
              "\n",
              "    .dataframe thead th {\n",
              "        text-align: right;\n",
              "    }\n",
              "</style>\n",
              "<table border=\"1\" class=\"dataframe\">\n",
              "  <thead>\n",
              "    <tr style=\"text-align: right;\">\n",
              "      <th></th>\n",
              "      <th>Survived</th>\n",
              "      <th>Pclass</th>\n",
              "      <th>Name</th>\n",
              "      <th>Sex</th>\n",
              "      <th>Age</th>\n",
              "      <th>Siblings/Spouses Aboard</th>\n",
              "      <th>Parents/Children Aboard</th>\n",
              "      <th>Fare</th>\n",
              "    </tr>\n",
              "  </thead>\n",
              "  <tbody>\n",
              "    <tr>\n",
              "      <th>0</th>\n",
              "      <td>0</td>\n",
              "      <td>3</td>\n",
              "      <td>Mr. Owen Harris Braund</td>\n",
              "      <td>male</td>\n",
              "      <td>22.0</td>\n",
              "      <td>1</td>\n",
              "      <td>0</td>\n",
              "      <td>7.2500</td>\n",
              "    </tr>\n",
              "    <tr>\n",
              "      <th>1</th>\n",
              "      <td>1</td>\n",
              "      <td>1</td>\n",
              "      <td>Mrs. John Bradley (Florence Briggs Thayer) Cum...</td>\n",
              "      <td>female</td>\n",
              "      <td>38.0</td>\n",
              "      <td>1</td>\n",
              "      <td>0</td>\n",
              "      <td>71.2833</td>\n",
              "    </tr>\n",
              "    <tr>\n",
              "      <th>2</th>\n",
              "      <td>1</td>\n",
              "      <td>3</td>\n",
              "      <td>Miss. Laina Heikkinen</td>\n",
              "      <td>female</td>\n",
              "      <td>26.0</td>\n",
              "      <td>0</td>\n",
              "      <td>0</td>\n",
              "      <td>7.9250</td>\n",
              "    </tr>\n",
              "  </tbody>\n",
              "</table>\n",
              "</div>"
            ],
            "text/plain": [
              "   Survived  Pclass  ... Parents/Children Aboard     Fare\n",
              "0         0       3  ...                       0   7.2500\n",
              "1         1       1  ...                       0  71.2833\n",
              "2         1       3  ...                       0   7.9250\n",
              "\n",
              "[3 rows x 8 columns]"
            ]
          },
          "metadata": {
            "tags": []
          },
          "execution_count": 2
        }
      ]
    },
    {
      "cell_type": "markdown",
      "metadata": {
        "id": "4aQBq6cN3LNx"
      },
      "source": [
        "check for missing values"
      ]
    },
    {
      "cell_type": "code",
      "metadata": {
        "colab": {
          "base_uri": "https://localhost:8080/"
        },
        "id": "tFwgYtIypIAU",
        "outputId": "ae8c0d6a-fc16-4c38-d786-2727b6c493f5"
      },
      "source": [
        "df.isnull().sum()"
      ],
      "execution_count": 3,
      "outputs": [
        {
          "output_type": "execute_result",
          "data": {
            "text/plain": [
              "Survived                   0\n",
              "Pclass                     0\n",
              "Name                       0\n",
              "Sex                        0\n",
              "Age                        0\n",
              "Siblings/Spouses Aboard    0\n",
              "Parents/Children Aboard    0\n",
              "Fare                       0\n",
              "dtype: int64"
            ]
          },
          "metadata": {
            "tags": []
          },
          "execution_count": 3
        }
      ]
    },
    {
      "cell_type": "markdown",
      "metadata": {
        "id": "m5x6Q7BI3GMM"
      },
      "source": [
        "**Create age groups**"
      ]
    },
    {
      "cell_type": "code",
      "metadata": {
        "colab": {
          "base_uri": "https://localhost:8080/",
          "height": 142
        },
        "id": "axgv-Ztpta9s",
        "outputId": "c91a4c13-cfee-4ea0-b08c-149dbb7647de"
      },
      "source": [
        "bins = [0,8,16,32,48,64,75,120]\n",
        "bins_labels = ['1-8','8-16','16-32','32-48','48-64','64-75','75+']\n",
        "df['AgeGroup'] = pd.cut(df.Age,bins=bins,labels=bins_labels)\n",
        "df[:3]"
      ],
      "execution_count": 4,
      "outputs": [
        {
          "output_type": "execute_result",
          "data": {
            "text/html": [
              "<div>\n",
              "<style scoped>\n",
              "    .dataframe tbody tr th:only-of-type {\n",
              "        vertical-align: middle;\n",
              "    }\n",
              "\n",
              "    .dataframe tbody tr th {\n",
              "        vertical-align: top;\n",
              "    }\n",
              "\n",
              "    .dataframe thead th {\n",
              "        text-align: right;\n",
              "    }\n",
              "</style>\n",
              "<table border=\"1\" class=\"dataframe\">\n",
              "  <thead>\n",
              "    <tr style=\"text-align: right;\">\n",
              "      <th></th>\n",
              "      <th>Survived</th>\n",
              "      <th>Pclass</th>\n",
              "      <th>Name</th>\n",
              "      <th>Sex</th>\n",
              "      <th>Age</th>\n",
              "      <th>Siblings/Spouses Aboard</th>\n",
              "      <th>Parents/Children Aboard</th>\n",
              "      <th>Fare</th>\n",
              "      <th>AgeGroup</th>\n",
              "    </tr>\n",
              "  </thead>\n",
              "  <tbody>\n",
              "    <tr>\n",
              "      <th>0</th>\n",
              "      <td>0</td>\n",
              "      <td>3</td>\n",
              "      <td>Mr. Owen Harris Braund</td>\n",
              "      <td>male</td>\n",
              "      <td>22.0</td>\n",
              "      <td>1</td>\n",
              "      <td>0</td>\n",
              "      <td>7.2500</td>\n",
              "      <td>16-32</td>\n",
              "    </tr>\n",
              "    <tr>\n",
              "      <th>1</th>\n",
              "      <td>1</td>\n",
              "      <td>1</td>\n",
              "      <td>Mrs. John Bradley (Florence Briggs Thayer) Cum...</td>\n",
              "      <td>female</td>\n",
              "      <td>38.0</td>\n",
              "      <td>1</td>\n",
              "      <td>0</td>\n",
              "      <td>71.2833</td>\n",
              "      <td>32-48</td>\n",
              "    </tr>\n",
              "    <tr>\n",
              "      <th>2</th>\n",
              "      <td>1</td>\n",
              "      <td>3</td>\n",
              "      <td>Miss. Laina Heikkinen</td>\n",
              "      <td>female</td>\n",
              "      <td>26.0</td>\n",
              "      <td>0</td>\n",
              "      <td>0</td>\n",
              "      <td>7.9250</td>\n",
              "      <td>16-32</td>\n",
              "    </tr>\n",
              "  </tbody>\n",
              "</table>\n",
              "</div>"
            ],
            "text/plain": [
              "   Survived  Pclass  ...     Fare AgeGroup\n",
              "0         0       3  ...   7.2500    16-32\n",
              "1         1       1  ...  71.2833    32-48\n",
              "2         1       3  ...   7.9250    16-32\n",
              "\n",
              "[3 rows x 9 columns]"
            ]
          },
          "metadata": {
            "tags": []
          },
          "execution_count": 4
        }
      ]
    },
    {
      "cell_type": "markdown",
      "metadata": {
        "id": "NGPpS3KxcFTn"
      },
      "source": [
        "**Number of passangers by Age Group and Survival**"
      ]
    },
    {
      "cell_type": "code",
      "metadata": {
        "colab": {
          "base_uri": "https://localhost:8080/",
          "height": 334
        },
        "id": "fSGEHc2IMReP",
        "outputId": "f2a2b3bc-61a6-4f4b-f41c-de5a970836ed"
      },
      "source": [
        "pd.crosstab(df.Survived,df.AgeGroup).plot.bar(figsize=(12,5),rot=0);"
      ],
      "execution_count": 5,
      "outputs": [
        {
          "output_type": "display_data",
          "data": {
            "image/png": "[encoded data removed]",
            "text/plain": [
              "<Figure size 864x360 with 1 Axes>"
            ]
          },
          "metadata": {
            "tags": [],
            "needs_background": "light"
          }
        }
      ]
    },
    {
      "cell_type": "markdown",
      "metadata": {
        "id": "QGJuj3s1p-FT"
      },
      "source": [
        "**Feature Correlation**"
      ]
    },
    {
      "cell_type": "code",
      "metadata": {
        "colab": {
          "base_uri": "https://localhost:8080/",
          "height": 464
        },
        "id": "N5NNfKHZpuvC",
        "outputId": "7dca921b-9fae-4cf6-cfad-35370f1ae10e"
      },
      "source": [
        "plt.figure(figsize=(12,7))\n",
        "sns.heatmap(df.corr(method='spearman'),annot=True,fmt='.2f')\n",
        "plt.xticks(rotation=15);"
      ],
      "execution_count": 6,
      "outputs": [
        {
          "output_type": "display_data",
          "data": {
            "image/png": "[encoded data removed]",
            "text/plain": [
              "<Figure size 864x504 with 2 Axes>"
            ]
          },
          "metadata": {
            "tags": [],
            "needs_background": "light"
          }
        }
      ]
    },
    {
      "cell_type": "markdown",
      "metadata": {
        "id": "pPi-PQytx0IM"
      },
      "source": [
        "## Models"
      ]
    },
    {
      "cell_type": "markdown",
      "metadata": {
        "id": "QNbI0KHgep7M"
      },
      "source": [
        "select few features that we are going to use for training our model"
      ]
    },
    {
      "cell_type": "code",
      "metadata": {
        "id": "etTOBaAEI3m5"
      },
      "source": [
        "features = ['AgeGroup','Pclass','Sex']\n",
        "target = 'Survived'"
      ],
      "execution_count": 7,
      "outputs": []
    },
    {
      "cell_type": "markdown",
      "metadata": {
        "id": "hi0bwrAeeaIb"
      },
      "source": [
        "first we want to calculate prior distribution for our target\n",
        "\n",
        "prior = $P(Survived)$\n",
        "\n",
        "Target classes:\n",
        "- 0 - Did not survive / False\n",
        "- 1 - Survieved / True"
      ]
    },
    {
      "cell_type": "code",
      "metadata": {
        "colab": {
          "base_uri": "https://localhost:8080/"
        },
        "id": "nTPBTwGlM3Sj",
        "outputId": "c0b32716-710a-4ab9-f7b4-0ae48cf46274"
      },
      "source": [
        "prior = df.groupby(target).size().div(len(df)) \n",
        "prior"
      ],
      "execution_count": 8,
      "outputs": [
        {
          "output_type": "execute_result",
          "data": {
            "text/plain": [
              "Survived\n",
              "0    0.614431\n",
              "1    0.385569\n",
              "dtype: float64"
            ]
          },
          "metadata": {
            "tags": []
          },
          "execution_count": 8
        }
      ]
    },
    {
      "cell_type": "markdown",
      "metadata": {
        "id": "D8Ywv5JafSmM"
      },
      "source": [
        "Then we want to calculate the coditional probability of survived given features\n",
        "\n",
        "eg. $P(Survived=1|Age)$ \n",
        "\n",
        "in the example below we used the AgeGroup to make it more readable but we should also be able to use Age"
      ]
    },
    {
      "cell_type": "code",
      "metadata": {
        "colab": {
          "base_uri": "https://localhost:8080/"
        },
        "id": "3ij1_rmcNBKR",
        "outputId": "b4357c14-73ac-4ee7-b47b-fa684beb2bfe"
      },
      "source": [
        "likelihood = {}\n",
        "likelihood['pclass'] = df.groupby([target, 'Pclass']).size().div(len(df)).div(prior)\n",
        "likelihood['age'] = df.groupby([target, 'AgeGroup']).size().div(len(df)).div(prior)\n",
        "likelihood['sex'] = df.groupby([target, 'Sex']).size().div(len(df)).div(prior)\n",
        "likelihood"
      ],
      "execution_count": 9,
      "outputs": [
        {
          "output_type": "execute_result",
          "data": {
            "text/plain": [
              "{'age': Survived  AgeGroup\n",
              " 0         1-8         0.044037\n",
              "           8-16        0.056881\n",
              "           16-32       0.541284\n",
              "           32-48       0.249541\n",
              "           48-64       0.086239\n",
              "           64-75       0.022018\n",
              "           75+         0.000000\n",
              " 1         1-8         0.114035\n",
              "           8-16        0.058480\n",
              "           16-32       0.461988\n",
              "           32-48       0.274854\n",
              "           48-64       0.087719\n",
              "           64-75       0.000000\n",
              "           75+         0.002924\n",
              " dtype: float64, 'pclass': Survived  Pclass\n",
              " 0         1         0.146789\n",
              "           2         0.177982\n",
              "           3         0.675229\n",
              " 1         1         0.397661\n",
              "           2         0.254386\n",
              "           3         0.347953\n",
              " dtype: float64, 'sex': Survived  Sex   \n",
              " 0         female    0.148624\n",
              "           male      0.851376\n",
              " 1         female    0.681287\n",
              "           male      0.318713\n",
              " dtype: float64}"
            ]
          },
          "metadata": {
            "tags": []
          },
          "execution_count": 9
        }
      ]
    },
    {
      "cell_type": "markdown",
      "metadata": {
        "id": "gYDUv6NvhEA2"
      },
      "source": [
        "Then for example we want to find the probability of surviving given male\n",
        "\n",
        "$P(Survived=1|Sex=Male)$\n",
        "\n",
        "we can selecte the likelihood of surviving male and multiply it by the prior value of surviving\n"
      ]
    },
    {
      "cell_type": "code",
      "metadata": {
        "colab": {
          "base_uri": "https://localhost:8080/"
        },
        "id": "K2BstV9UYD3H",
        "outputId": "ee83f82c-9082-4f9c-e5c9-4dd317573bb6"
      },
      "source": [
        "surviving_proba = (likelihood['sex'][1]['male'] * prior[1]) / (df[df.Sex=='male']['Sex'].count() / len(df))\n",
        "surviving_proba"
      ],
      "execution_count": 10,
      "outputs": [
        {
          "output_type": "execute_result",
          "data": {
            "text/plain": [
              "0.19022687609075042"
            ]
          },
          "metadata": {
            "tags": []
          },
          "execution_count": 10
        }
      ]
    },
    {
      "cell_type": "markdown",
      "metadata": {
        "id": "WTE9wIyGik8o"
      },
      "source": [
        "another example for the probability of surviving given age\n",
        "\n",
        "$P(Survived=1|48<Age<64)$"
      ]
    },
    {
      "cell_type": "code",
      "metadata": {
        "colab": {
          "base_uri": "https://localhost:8080/"
        },
        "id": "Yr0BT_8pipra",
        "outputId": "72223e25-1c32-4142-df4b-555420b83f39"
      },
      "source": [
        "surviving_proba = (likelihood['age'][1]['48-64'] * prior[1] ) / (df[df.AgeGroup=='48-64']['AgeGroup'].count() / len(df))\n",
        "surviving_proba"
      ],
      "execution_count": 11,
      "outputs": [
        {
          "output_type": "execute_result",
          "data": {
            "text/plain": [
              "0.3896103896103896"
            ]
          },
          "metadata": {
            "tags": []
          },
          "execution_count": 11
        }
      ]
    },
    {
      "cell_type": "markdown",
      "metadata": {
        "id": "QGwWJq_kjP7n"
      },
      "source": [
        "Then we created a small class for our classifier which brings together the concept from above, however this classifier won't be able to predict data with values that haven't been seen by our model during the training process"
      ]
    },
    {
      "cell_type": "code",
      "metadata": {
        "id": "sDEdbjbDYQ-I"
      },
      "source": [
        "class CondProbabilities:\n",
        "\n",
        "    def fit(self,dataframe,features,target):\n",
        "\n",
        "        self.prior = dataframe.groupby(target).size().div(len(dataframe))\n",
        "\n",
        "        self.target_class = dataframe[target].unique()\n",
        "\n",
        "        self.likelihood = dict()\n",
        "\n",
        "        for feature in features:\n",
        "            \n",
        "             self.likelihood[feature] = dataframe.groupby([target, feature]).size().div(len(dataframe)).div(self.prior)\n",
        "\n",
        "    def predict(self,row):\n",
        "\n",
        "        results = dict(zip(self.target_class,(1,1)))\n",
        "\n",
        "        for t in self.target_class:\n",
        "\n",
        "            for f in list(self.likelihood.keys()):\n",
        "\n",
        "                results[t] *= self.likelihood[f][t][row[f]]\n",
        "\n",
        "            results[t] *= self.prior[t]\n",
        "\n",
        "        return results"
      ],
      "execution_count": 12,
      "outputs": []
    },
    {
      "cell_type": "markdown",
      "metadata": {
        "id": "eOzLiE_Glxur"
      },
      "source": [
        "Now let's train our model"
      ]
    },
    {
      "cell_type": "code",
      "metadata": {
        "id": "YR0srOK6bvHE"
      },
      "source": [
        "cp = CondProbabilities()\n",
        "cp.fit(df,features,target)"
      ],
      "execution_count": 13,
      "outputs": []
    },
    {
      "cell_type": "markdown",
      "metadata": {
        "id": "fhCItxZLl09t"
      },
      "source": [
        "and use a sample of data to predict the probabilities"
      ]
    },
    {
      "cell_type": "code",
      "metadata": {
        "colab": {
          "base_uri": "https://localhost:8080/",
          "height": 204
        },
        "id": "8x0ZmT9bb015",
        "outputId": "a6a03965-05d9-4787-c5c1-ac8d16535e60"
      },
      "source": [
        "sample = df.copy()[features + [target]]\n",
        "sample['y_pred'] = sample.apply(lambda x: cp.predict(x)[1],axis=1)\n",
        "sample = sample.drop_duplicates()\n",
        "sample[:5]"
      ],
      "execution_count": 14,
      "outputs": [
        {
          "output_type": "execute_result",
          "data": {
            "text/html": [
              "<div>\n",
              "<style scoped>\n",
              "    .dataframe tbody tr th:only-of-type {\n",
              "        vertical-align: middle;\n",
              "    }\n",
              "\n",
              "    .dataframe tbody tr th {\n",
              "        vertical-align: top;\n",
              "    }\n",
              "\n",
              "    .dataframe thead th {\n",
              "        text-align: right;\n",
              "    }\n",
              "</style>\n",
              "<table border=\"1\" class=\"dataframe\">\n",
              "  <thead>\n",
              "    <tr style=\"text-align: right;\">\n",
              "      <th></th>\n",
              "      <th>AgeGroup</th>\n",
              "      <th>Pclass</th>\n",
              "      <th>Sex</th>\n",
              "      <th>Survived</th>\n",
              "      <th>y_pred</th>\n",
              "    </tr>\n",
              "  </thead>\n",
              "  <tbody>\n",
              "    <tr>\n",
              "      <th>0</th>\n",
              "      <td>16-32</td>\n",
              "      <td>3</td>\n",
              "      <td>male</td>\n",
              "      <td>0</td>\n",
              "      <td>0.019754</td>\n",
              "    </tr>\n",
              "    <tr>\n",
              "      <th>1</th>\n",
              "      <td>32-48</td>\n",
              "      <td>1</td>\n",
              "      <td>female</td>\n",
              "      <td>1</td>\n",
              "      <td>0.028711</td>\n",
              "    </tr>\n",
              "    <tr>\n",
              "      <th>2</th>\n",
              "      <td>16-32</td>\n",
              "      <td>3</td>\n",
              "      <td>female</td>\n",
              "      <td>1</td>\n",
              "      <td>0.042226</td>\n",
              "    </tr>\n",
              "    <tr>\n",
              "      <th>4</th>\n",
              "      <td>32-48</td>\n",
              "      <td>3</td>\n",
              "      <td>male</td>\n",
              "      <td>0</td>\n",
              "      <td>0.011752</td>\n",
              "    </tr>\n",
              "    <tr>\n",
              "      <th>6</th>\n",
              "      <td>48-64</td>\n",
              "      <td>1</td>\n",
              "      <td>male</td>\n",
              "      <td>0</td>\n",
              "      <td>0.004287</td>\n",
              "    </tr>\n",
              "  </tbody>\n",
              "</table>\n",
              "</div>"
            ],
            "text/plain": [
              "  AgeGroup  Pclass     Sex  Survived    y_pred\n",
              "0    16-32       3    male         0  0.019754\n",
              "1    32-48       1  female         1  0.028711\n",
              "2    16-32       3  female         1  0.042226\n",
              "4    32-48       3    male         0  0.011752\n",
              "6    48-64       1    male         0  0.004287"
            ]
          },
          "metadata": {
            "tags": []
          },
          "execution_count": 14
        }
      ]
    },
    {
      "cell_type": "markdown",
      "metadata": {
        "id": "2oKI6XVh2dZI"
      },
      "source": [
        "**Naive Bayes Classifier** ([Docs](https://scikit-learn.org/stable/modules/naive_bayes.html))"
      ]
    },
    {
      "cell_type": "markdown",
      "metadata": {
        "id": "hiHbDUOeJO5b"
      },
      "source": [
        "In the next phase we want to train bayes classifier model using the sklearn package"
      ]
    },
    {
      "cell_type": "code",
      "metadata": {
        "id": "g2KSDhXuJOR5"
      },
      "source": [
        "from sklearn.model_selection import train_test_split\n",
        "from sklearn.naive_bayes import MultinomialNB\n",
        "from sklearn.preprocessing import LabelEncoder"
      ],
      "execution_count": 15,
      "outputs": []
    },
    {
      "cell_type": "markdown",
      "metadata": {
        "id": "cK8wwSz60erZ"
      },
      "source": [
        "we take a copy of our dataframe and encode it using the label encoder from sklearn"
      ]
    },
    {
      "cell_type": "code",
      "metadata": {
        "id": "Oyl2OioCS-CG"
      },
      "source": [
        "df_copy = df.copy()[features + [target]]\n",
        "df_copy[['AgeGroup','Sex']] = df_copy[['AgeGroup','Sex']].apply(LabelEncoder().fit_transform)"
      ],
      "execution_count": 16,
      "outputs": []
    },
    {
      "cell_type": "markdown",
      "metadata": {
        "id": "yjqLsgb71LXU"
      },
      "source": [
        "then we split our data into train and test"
      ]
    },
    {
      "cell_type": "code",
      "metadata": {
        "id": "iHhwq6AFN663"
      },
      "source": [
        "train, test = train_test_split(df_copy, test_size=0.33, random_state=42,stratify=df_copy[target])"
      ],
      "execution_count": 18,
      "outputs": []
    },
    {
      "cell_type": "markdown",
      "metadata": {
        "id": "QW29xDOI1PGJ"
      },
      "source": [
        "and finally we can train the model"
      ]
    },
    {
      "cell_type": "code",
      "metadata": {
        "colab": {
          "base_uri": "https://localhost:8080/"
        },
        "id": "5RI1QDMXN5Th",
        "outputId": "afd85c4e-4639-40dc-9af6-d42edc8175a1"
      },
      "source": [
        "clf = MultinomialNB()\n",
        "clf.fit(train[features], train[target])"
      ],
      "execution_count": 19,
      "outputs": [
        {
          "output_type": "execute_result",
          "data": {
            "text/plain": [
              "MultinomialNB(alpha=1.0, class_prior=None, fit_prior=True)"
            ]
          },
          "metadata": {
            "tags": []
          },
          "execution_count": 19
        }
      ]
    },
    {
      "cell_type": "markdown",
      "metadata": {
        "id": "394-dveO1TVm"
      },
      "source": [
        "here we take a copy of our test dataframe and use our model to predict the probabilities on the test data, then store the results into the y_pred column"
      ]
    },
    {
      "cell_type": "code",
      "metadata": {
        "colab": {
          "base_uri": "https://localhost:8080/",
          "height": 142
        },
        "id": "qWExAlEPN5OT",
        "outputId": "a432daa1-0fe1-4be5-dc2b-b6e3016eef53"
      },
      "source": [
        "results = test.copy()\n",
        "results['y_pred'] = clf.predict_proba(test[features])[:,1]\n",
        "results[:3]"
      ],
      "execution_count": 20,
      "outputs": [
        {
          "output_type": "execute_result",
          "data": {
            "text/html": [
              "<div>\n",
              "<style scoped>\n",
              "    .dataframe tbody tr th:only-of-type {\n",
              "        vertical-align: middle;\n",
              "    }\n",
              "\n",
              "    .dataframe tbody tr th {\n",
              "        vertical-align: top;\n",
              "    }\n",
              "\n",
              "    .dataframe thead th {\n",
              "        text-align: right;\n",
              "    }\n",
              "</style>\n",
              "<table border=\"1\" class=\"dataframe\">\n",
              "  <thead>\n",
              "    <tr style=\"text-align: right;\">\n",
              "      <th></th>\n",
              "      <th>AgeGroup</th>\n",
              "      <th>Pclass</th>\n",
              "      <th>Sex</th>\n",
              "      <th>Survived</th>\n",
              "      <th>y_pred</th>\n",
              "    </tr>\n",
              "  </thead>\n",
              "  <tbody>\n",
              "    <tr>\n",
              "      <th>444</th>\n",
              "      <td>2</td>\n",
              "      <td>1</td>\n",
              "      <td>1</td>\n",
              "      <td>1</td>\n",
              "      <td>0.312498</td>\n",
              "    </tr>\n",
              "    <tr>\n",
              "      <th>454</th>\n",
              "      <td>2</td>\n",
              "      <td>1</td>\n",
              "      <td>0</td>\n",
              "      <td>1</td>\n",
              "      <td>0.480380</td>\n",
              "    </tr>\n",
              "    <tr>\n",
              "      <th>879</th>\n",
              "      <td>1</td>\n",
              "      <td>2</td>\n",
              "      <td>1</td>\n",
              "      <td>0</td>\n",
              "      <td>0.282637</td>\n",
              "    </tr>\n",
              "  </tbody>\n",
              "</table>\n",
              "</div>"
            ],
            "text/plain": [
              "     AgeGroup  Pclass  Sex  Survived    y_pred\n",
              "444         2       1    1         1  0.312498\n",
              "454         2       1    0         1  0.480380\n",
              "879         1       2    1         0  0.282637"
            ]
          },
          "metadata": {
            "tags": []
          },
          "execution_count": 20
        }
      ]
    },
    {
      "cell_type": "markdown",
      "metadata": {
        "id": "x1zI4V5q1ipm"
      },
      "source": [
        "now we can see and compare our target distribution with the predicted distribution"
      ]
    },
    {
      "cell_type": "code",
      "metadata": {
        "colab": {
          "base_uri": "https://localhost:8080/",
          "height": 265
        },
        "id": "NN233tyWOt53",
        "outputId": "8450af8f-366d-481b-aa4e-85db12a80d7d"
      },
      "source": [
        "results[[target,'y_pred']].plot.hist(alpha=.5);"
      ],
      "execution_count": 21,
      "outputs": [
        {
          "output_type": "display_data",
          "data": {
            "image/png": "[encoded data removed]",
            "text/plain": [
              "<Figure size 432x288 with 1 Axes>"
            ]
          },
          "metadata": {
            "tags": [],
            "needs_background": "light"
          }
        }
      ]
    },
    {
      "cell_type": "markdown",
      "metadata": {
        "id": "8yX_JlzgSHWy"
      },
      "source": [
        "## Conclusion\n",
        "\n",
        "- While the frequentist is using just the prior data to draw conclusions, the bayesian way is taking account of prior data and the new data\n",
        "- Is quite difficult to formulate the problem in a probabilistic way\n",
        "- **Chain rule is an alternative way of using Bayes Theoreme**\n",
        "- In a Naive Bayes classifier that features are independent of each other given the class."
      ]
    },
    {
      "cell_type": "markdown",
      "metadata": {
        "id": "jw445zYee6Z4"
      },
      "source": [
        "## Future Development / Next Sprint\n",
        "\n",
        "- Sampling strategies\n",
        "    - Research about sampling strategies\n",
        "    - Try and compare probabilities based on sampling strategy"
      ]
    },
    {
      "cell_type": "markdown",
      "metadata": {
        "id": "NelWFJUwH7Tt"
      },
      "source": [
        "**Sources:**\n",
        "- [Bayes Theoreme with Lego](https://www.countbayesie.com/blog/2015/2/18/bayes-theorem-with-lego)\n",
        "- [Naive-Bayes-Pandas](http://deebuls.github.io/Naive-Bayes-Pandas.html)\n",
        "- [The quick-and-dirty difference between Frequentist and Bayesian statistics](https://cxl.com/blog/bayesian-frequentist-ab-testing/)\n",
        "- [Frequentist and Bayesian Approaches in Statistics](https://www.probabilisticworld.com/frequentist-bayesian-approaches-inferential-statistics/)\n",
        "- [Naive Bayes Classifier: Bayesian Inference, Central Limit Theorem](https://towardsdatascience.com/naive-bayes-classifier-bayes-inference-central-limit-theorem-python-c-implementation-bdffb3b35de)\n",
        "- [An Intuitive (and Short) Explanation of Bayes’ Theorem](https://betterexplained.com/articles/an-intuitive-and-short-explanation-of-bayes-theorem/)\n"
      ]
    }
  ]
}